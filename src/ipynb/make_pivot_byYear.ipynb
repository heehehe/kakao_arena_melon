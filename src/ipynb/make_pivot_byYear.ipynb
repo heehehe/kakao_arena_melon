{
 "cells": [
  {
   "cell_type": "code",
   "execution_count": 5,
   "metadata": {},
   "outputs": [],
   "source": [
    "import os\n",
    "os.chdir('./../../')\n",
    "from src.basic_utils import *\n",
    "from src.pivot_utils import *"
   ]
  },
  {
   "cell_type": "code",
   "execution_count": null,
   "metadata": {},
   "outputs": [],
   "source": [
    "data_path = 'data/'\n",
    "\n",
    "train = pd.read_parquet(data_path+'train(song_trim).parquet')\n",
    "# val = pd.read_json(data_path+'val(lower).json')\n",
    "# test = pd.read_json(data_path+'test(lower).json')\n",
    "# song_meta = load_json(data_path+'song_meta.json')\n",
    "# genre_gn_all = pd.read_json(data_path+'genre_gn_all.json', typ = 'series')\n",
    "\n",
    "### make_file.ipynb 내에서 만들어진 tag_song_dict / song_tag_dict 불러오기\n",
    "# tag_song_dict = load_json(data_path+'tag_song_dict.json')\n",
    "# song_tag_dict = load_json(data_path+'song_tag_dict.json')"
   ]
  },
  {
   "cell_type": "code",
   "execution_count": 6,
   "metadata": {},
   "outputs": [],
   "source": [
    "train['year'] = train['updt_date'].apply(lambda x: int(x[2:4]))"
   ]
  },
  {
   "cell_type": "code",
   "execution_count": 10,
   "metadata": {},
   "outputs": [],
   "source": [
    "year_thres = [([i for i in range(0,11)], 1),\n",
    "              ([i for i in range(11,14)], 1),\n",
    "              ([14], 1), ([15], 1), ([16], 2), ([17], 2),\n",
    "              ([18], 4), ([19], 5), ([20], 2)]"
   ]
  },
  {
   "cell_type": "code",
   "execution_count": 11,
   "metadata": {},
   "outputs": [
    {
     "name": "stdout",
     "output_type": "stream",
     "text": [
      "train only year (6453, 7)\n",
      "train best playlist (5797, 7)\n",
      "before  (36797, 1)\n",
      "after  (21630, 1)\n"
     ]
    },
    {
     "name": "stderr",
     "output_type": "stream",
     "text": [
      "100%|██████████| 5797/5797 [11:39<00:00,  8.29it/s]\n"
     ]
    },
    {
     "name": "stdout",
     "output_type": "stream",
     "text": [
      "(118456, 3)\n",
      "spend time  11.9\n",
      "complete train\n",
      "최종 shape :  (21630, 5719)\n",
      "train only year (6531, 7)\n",
      "train best playlist (6282, 7)\n"
     ]
    },
    {
     "name": "stderr",
     "output_type": "stream",
     "text": [
      "  0%|          | 0/6282 [00:00<?, ?it/s]"
     ]
    },
    {
     "name": "stdout",
     "output_type": "stream",
     "text": [
      "before  (53654, 1)\n",
      "after  (31659, 1)\n"
     ]
    },
    {
     "name": "stderr",
     "output_type": "stream",
     "text": [
      "100%|██████████| 6282/6282 [24:21<00:00,  4.30it/s]\n"
     ]
    },
    {
     "name": "stdout",
     "output_type": "stream",
     "text": [
      "(202407, 3)\n",
      "spend time  24.8\n",
      "complete train\n",
      "최종 shape :  (31659, 6180)\n",
      "train only year (7361, 7)\n",
      "train best playlist (6604, 7)\n"
     ]
    },
    {
     "name": "stderr",
     "output_type": "stream",
     "text": [
      "  0%|          | 0/6604 [00:00<?, ?it/s]"
     ]
    },
    {
     "name": "stdout",
     "output_type": "stream",
     "text": [
      "before  (62452, 1)\n",
      "after  (35028, 1)\n"
     ]
    },
    {
     "name": "stderr",
     "output_type": "stream",
     "text": [
      "100%|██████████| 6604/6604 [31:09<00:00,  3.53it/s]\n"
     ]
    },
    {
     "name": "stdout",
     "output_type": "stream",
     "text": [
      "(245507, 3)\n",
      "spend time  31.67\n",
      "complete train\n",
      "최종 shape :  (35028, 6500)\n",
      "train only year (13208, 7)\n",
      "train best playlist (11853, 7)\n"
     ]
    },
    {
     "name": "stderr",
     "output_type": "stream",
     "text": [
      "  0%|          | 3/11853 [00:00<07:08, 27.65it/s]"
     ]
    },
    {
     "name": "stdout",
     "output_type": "stream",
     "text": [
      "before  (82760, 1)\n",
      "after  (50283, 1)\n"
     ]
    },
    {
     "name": "stderr",
     "output_type": "stream",
     "text": [
      " 89%|████████▊ | 10498/11853 [58:32<05:44,  3.93it/s]"
     ]
    }
   ],
   "source": [
    "for small_years, thres in year_thres:\n",
    "    make_pv_file(train, small_years, thres)"
   ]
  }
 ],
 "metadata": {
  "kernelspec": {
   "display_name": "Python 3",
   "language": "python",
   "name": "python3"
  },
  "language_info": {
   "codemirror_mode": {
    "name": "ipython",
    "version": 3
   },
   "file_extension": ".py",
   "mimetype": "text/x-python",
   "name": "python",
   "nbconvert_exporter": "python",
   "pygments_lexer": "ipython3",
   "version": "3.7.7"
  }
 },
 "nbformat": 4,
 "nbformat_minor": 4
}
