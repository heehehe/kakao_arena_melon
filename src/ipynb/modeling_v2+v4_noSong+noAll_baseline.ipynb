{
 "cells": [
  {
   "cell_type": "code",
   "execution_count": null,
   "metadata": {},
   "outputs": [],
   "source": [
    "## Author : Seong-Han\n",
    "\n",
    "import copy\n",
    "import json\n",
    "import random\n",
    "import io\n",
    "import distutils.dir_util\n",
    "import warnings\n",
    "warnings.filterwarnings(\"ignore\")\n",
    "\n",
    "import numpy as np # linear algebra\n",
    "import pandas as pd # data processing, CSV file I/O (e.g. pd.read_csv)\n",
    "        \n",
    "from collections import Counter\n",
    "from tqdm import tqdm"
   ]
  },
  {
   "cell_type": "code",
   "execution_count": null,
   "metadata": {},
   "outputs": [],
   "source": [
    "import sys\n",
    "sys.path.append('../')\n",
    "from basic_utils import *"
   ]
  },
  {
   "cell_type": "code",
   "execution_count": null,
   "metadata": {},
   "outputs": [],
   "source": [
    "data_path = '../../../1_melon_playlist/data/'\n",
    "train = pd.read_json(data_path+'train.json')\n",
    "val = pd.read_json(data_path+'val.json')\n",
    "# test = pd.read_json(data_path+'test.json')\n",
    "song_meta = load_json(data_path+'song_meta.json')\n",
    "# genre_gn_all = pd.read_json(data_path+'genre_gn_all.json', typ = 'series')\n",
    "# val_x = pd.read_json('/kaggle/input/kakao-train-valid-split/val_x.json')\n",
    "# val_y = pd.read_json('/kaggle/input/kakao-train-valid-split/val_y.json')"
   ]
  },
  {
   "cell_type": "code",
   "execution_count": null,
   "metadata": {},
   "outputs": [],
   "source": [
    "no_song, no_both, no_tag, yes_index = check_target_type(val)"
   ]
  },
  {
   "cell_type": "code",
   "execution_count": null,
   "metadata": {},
   "outputs": [],
   "source": [
    "train['date'] = train['updt_date'].apply(lambda x: int(str(x[2:4]) + str(x[5:7])) )\n",
    "train['year'] = train['updt_date'].apply(lambda x: int(x[2:4]))\n",
    "\n",
    "date_list = list(train['date'].unique())\n",
    "date_list= sorted(date_list)\n",
    "\n",
    "date_dict = {}\n",
    "for i,k in enumerate(date_list):\n",
    "    date_dict[k] = i"
   ]
  },
  {
   "cell_type": "code",
   "execution_count": null,
   "metadata": {},
   "outputs": [],
   "source": [
    "#### popular monthly tag\n",
    "\n",
    "train['date'] = train['updt_date'].apply(lambda x: int(str(x[2:4]) + str(x[5:7])) )\n",
    "train['year'] = train['updt_date'].apply(lambda x: int(x[2:4]))\n",
    "\n",
    "date_list = list(train['date'].unique())\n",
    "date_list= sorted(date_list)\n",
    "\n",
    "date_dict = {}\n",
    "for i,k in enumerate(date_list):\n",
    "    date_dict[k] = i\n",
    "\n",
    "popular_date_tag = []\n",
    "for i in range(len(date_list)):\n",
    "    if i <= 13:  ## 13이전에는 한 달에 100개가 안나옴\n",
    "        year = int(str(date_list[i])[0]) ## year\n",
    "        tmp = train[train['year'] == year]\n",
    "        _, year_tag = most_popular(tmp, \"tags\", 100)\n",
    "        popular_date_tag.append({\n",
    "            \"date\" : date_list[i],\n",
    "            \"tags\" : year_tag,})\n",
    "        \n",
    "    else:\n",
    "        tmp = train[train['date'] == date_list[i]]\n",
    "        _, date_tag = most_popular(tmp, \"tags\", 100)\n",
    "        popular_date_tag.append({\n",
    "            \"date\" : date_list[i],\n",
    "            \"tags\" : date_tag,})"
   ]
  },
  {
   "cell_type": "code",
   "execution_count": null,
   "metadata": {},
   "outputs": [],
   "source": [
    "#### popular monthly song\n",
    "\n",
    "popular_date_song = []\n",
    "for i in range(len(date_list)):\n",
    "    if i <= 9:  ## 11이전에는 한 달에 100개가 안나옴\n",
    "        year = int(str(date_list[i])[0]) ## year\n",
    "        tmp = train[train['year'] == year]\n",
    "        _, date_song = most_popular(tmp, \"songs\", 200)\n",
    "        popular_date_song.append({\n",
    "            \"date\" : date_list[i],\n",
    "            \"songs\" : date_song,})               \n",
    "        \n",
    "    else:\n",
    "        tmp = train[train['date'] == date_list[i]]\n",
    "        _, date_song = most_popular(tmp, \"songs\", 200)\n",
    "        popular_date_song.append({\n",
    "            \"date\" : date_list[i],\n",
    "            \"songs\" : date_song,})         "
   ]
  },
  {
   "cell_type": "code",
   "execution_count": null,
   "metadata": {},
   "outputs": [],
   "source": [
    "## most genral genre\n",
    "song_meta = load_json('/kaggle/input/kakao-arena-melon/song_meta.json')\n",
    "song_meta =  {int(song[\"id\"]): song for song in song_meta}"
   ]
  },
  {
   "cell_type": "code",
   "execution_count": null,
   "metadata": {},
   "outputs": [],
   "source": [
    "tag_song_dict = load_json('/kaggle/input/kakao-save-song-tag-dict/tag_song_dict_no0.json')\n",
    "## https://www.kaggle.com/incastle/kakao-save-song-tag-dict?scriptVersionId=33768264\n",
    "\n",
    "song_tag_dict = load_json('/kaggle/input/kakao-save-song-tag-dict/song_tag_dict.json')\n",
    "## https://www.kaggle.com/incastle/kakao-save-song-tag-dict?scriptVersionId=33768264\n",
    "\n",
    "val['date'] = val['updt_date'].apply(lambda x: int(str(x[2:4]) + str(x[5:7])) )\n",
    "val['year'] = val['updt_date'].apply(lambda x: int(x[2:4]))"
   ]
  },
  {
   "cell_type": "markdown",
   "metadata": {},
   "source": [
    "### val2 : 노래가 없는 케이스"
   ]
  },
  {
   "cell_type": "code",
   "execution_count": null,
   "metadata": {},
   "outputs": [],
   "source": [
    "val2 = val[val.index.isin(no_song)]\n",
    "val2.reset_index(inplace = True, drop = True)\n",
    "val2.head()"
   ]
  },
  {
   "cell_type": "code",
   "execution_count": null,
   "metadata": {},
   "outputs": [],
   "source": [
    "val2_predict = []\n",
    "for i in range(len(val2)):\n",
    "    date = date_dict[val2.loc[i:i, 'date'].values[0] ]\n",
    "\n",
    "    ############### song 채우기 ##################################\n",
    "    song_counter = Counter()\n",
    "\n",
    "\n",
    "    for tag in list(val2.loc[i:i, 'tags'].values[0]):\n",
    "        if str(tag) in tag_song_dict:\n",
    "            for song in tag_song_dict[str(tag)]:\n",
    "                song_counter.update({song : 1})\n",
    "    song_counter = sorted(song_counter.items(), key= lambda x:x[1], reverse = True)        \n",
    "    cur_song = []\n",
    "    for k in song_counter[:100]:\n",
    "        cur_song.append(k[0])\n",
    "        \n",
    "    if (len(cur_song) < 100) & (len(cur_song) > 0 ):\n",
    "        ## 부족하면 채워준다.\n",
    "        update_song = remove_seen(cur_song, popular_date_song[date]['songs'])\n",
    "        cur_song.extend(update_song)\n",
    "        cur_song = cur_song[:100]\n",
    "        \n",
    "    if len(cur_song) == 0:\n",
    "        cur_song = popular_date_song[date]['songs'][:100]\n",
    "\n",
    "    #############################################################\n",
    "    \n",
    "    \n",
    "    ############### tag 채우기 ##################################\n",
    "    tag_counter = Counter()\n",
    "    for song in list(val2.loc[i:i, 'songs'].values[0]):\n",
    "        if str(song) in song_tag_dict:\n",
    "            for tag in song_tag_dict[str(song)]:\n",
    "                tag_counter.update({tag : 1})\n",
    "    tag_counter = sorted(tag_counter.items(), key= lambda x:x[1], reverse = True)        \n",
    "    tag_counter = tag_counter[:100] ## 넉넉히 100개 잡는다. \n",
    "    \n",
    "    cur_tag = []\n",
    "    for k in tag_counter:\n",
    "        cur_tag.append(k[0])     \n",
    "        \n",
    "    if (len(cur_tag) < 100) & (len(cur_tag) > 0 ):\n",
    "        ## 부족하면 채워준다.\n",
    "        update_tag = remove_seen(cur_tag, popular_date_tag[date]['tags'])\n",
    "        cur_tag.extend(update_tag)\n",
    "        cur_tag = cur_tag[:100]\n",
    "    if len(cur_tag) == 0:\n",
    "        cur_tag = popular_date_tag[date]['tags'][:100]\n",
    "        \n",
    "        \n",
    "    #############################################################       \n",
    "    \n",
    "\n",
    "    val2_predict.append({\n",
    "        \"id\" : list(val2.loc[i:i, 'id'])[0],\n",
    "        \"songs\": cur_song,\n",
    "        \"tags\": remove_seen(list(val2.loc[i:i, 'tags'])[0], cur_tag)[:10],\n",
    "    })"
   ]
  },
  {
   "cell_type": "code",
   "execution_count": null,
   "metadata": {},
   "outputs": [],
   "source": [
    "## save file\n",
    "write_json(val2_predict, 'val2_predict.json')"
   ]
  },
  {
   "cell_type": "markdown",
   "metadata": {},
   "source": [
    "### val4 : 태그, 노래 모두 없는 케이스\n",
    "- 카카오 아레나의 방식으로 추천\n",
    "- 각 방식마다 나눠서 학습해야하지만 부분적인 성능 확인을 위해서 일단 하나씩 확인"
   ]
  },
  {
   "cell_type": "code",
   "execution_count": null,
   "metadata": {},
   "outputs": [],
   "source": [
    "Validate = val[~val.index.isin(no_tag)]\n",
    "Validate = Validate[~Validate.index.isin(no_song)]\n",
    "Validate = Validate[~Validate.index.isin(yes_index)]\n",
    "Validate.reset_index(inplace = True, drop = True)"
   ]
  },
  {
   "cell_type": "code",
   "execution_count": null,
   "metadata": {},
   "outputs": [],
   "source": [
    "val_predict = []\n",
    "\n",
    "for i in range(len(Validate)):\n",
    "    date = date_dict[Validate.loc[i:i, 'date'].values[0]]\n",
    "    val_predict.append({\n",
    "        \"id\" : list(Validate.loc[i:i, 'id'])[0],\n",
    "        \"songs\": popular_date_song[date]['songs'][:100],\n",
    "        \"tags\": popular_date_tag[date]['tags'][:10],\n",
    "    })"
   ]
  },
  {
   "cell_type": "code",
   "execution_count": null,
   "metadata": {},
   "outputs": [],
   "source": [
    "write_json(val_predict, 'val4_predict.json')"
   ]
  }
 ],
 "metadata": {
  "kernelspec": {
   "display_name": "Python 3",
   "language": "python",
   "name": "python3"
  },
  "language_info": {
   "codemirror_mode": {
    "name": "ipython",
    "version": 3
   },
   "file_extension": ".py",
   "mimetype": "text/x-python",
   "name": "python",
   "nbconvert_exporter": "python",
   "pygments_lexer": "ipython3",
   "version": "3.7.7"
  }
 },
 "nbformat": 4,
 "nbformat_minor": 4
}
