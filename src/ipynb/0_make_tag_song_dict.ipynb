{
 "cells": [
  {
   "cell_type": "code",
   "execution_count": 1,
   "metadata": {},
   "outputs": [],
   "source": [
    "import os\n",
    "os.chdir('./../../')\n",
    "\n",
    "from src.basic_utils import *\n",
    "from src.preprocess_utils import *"
   ]
  },
  {
   "cell_type": "code",
   "execution_count": 3,
   "metadata": {},
   "outputs": [],
   "source": [
    "data_path = 'data/'\n",
    "\n",
    "train = pd.read_json(data_path+'train.json')\n",
    "val = pd.read_json(data_path+'val.json')\n",
    "test = pd.read_json(data_path+'test.json')\n",
    "# song_meta = load_json(data_path+'song_meta.json')\n",
    "# genre_gn_all = pd.read_json(data_path+'genre_gn_all.json', typ = 'series')"
   ]
  },
  {
   "cell_type": "markdown",
   "metadata": {},
   "source": [
    "##### train, val, test 데이터 축소"
   ]
  },
  {
   "cell_type": "code",
   "execution_count": null,
   "metadata": {},
   "outputs": [],
   "source": [
    "all_song = Counter()\n",
    "all_song = update_song(train, all_song)\n",
    "all_song = update_song(val, all_song)\n",
    "all_song = update_song(test, all_song)"
   ]
  },
  {
   "cell_type": "code",
   "execution_count": null,
   "metadata": {},
   "outputs": [],
   "source": [
    "tmp_dict = pd.DataFrame.from_dict(all_song, orient = 'index')\n",
    "print(\"before \", tmp_dict.shape)\n",
    "tmp_dict = tmp_dict[tmp_dict[0] >= 3]\n",
    "print(\"after \", tmp_dict.shape)\n",
    "\n",
    "## 5회 이상 등장한 노래만 사용! ==> use_song에 list형태로 담음\n",
    "use_song = list(tmp_dict['index'])"
   ]
  },
  {
   "cell_type": "code",
   "execution_count": null,
   "metadata": {},
   "outputs": [],
   "source": [
    "## 삭제 작업\n",
    "for i in tqdm(train.index):\n",
    "    train.loc[i:i]['songs'].values[0] = list(set(train.loc[i:i]['songs'].values[0]) & set(use_song))\n",
    "    train.loc[i:i]['tags'].values[0] = list(map(lambda x:x.lower(),train.loc[i:i]['tags'].values[0]))\n",
    "    \n",
    "## val, test도 동일하게 tag에서 대문자를 소문자로 바꿔준다. \n",
    "for i in tqdm(val.index):\n",
    "    val.loc[i:i]['tags'].values[0] = list(map(lambda x:x.lower(),val.loc[i:i]['tags'].values[0]))\n",
    "    \n",
    "for i in tqdm(test.index):\n",
    "    test.loc[i:i]['tags'].values[0] = list(map(lambda x:x.lower(),test.loc[i:i]['tags'].values[0]))    "
   ]
  },
  {
   "cell_type": "code",
   "execution_count": null,
   "metadata": {},
   "outputs": [],
   "source": [
    "train.to_parquet('train(song_trim).parquet')\n",
    "val.to_json('val(lower).json', orient='records')\n",
    "test.to_json('test(lower).json', orient='records')"
   ]
  },
  {
   "cell_type": "markdown",
   "metadata": {},
   "source": [
    "##### song tag dict 생성"
   ]
  },
  {
   "cell_type": "code",
   "execution_count": null,
   "metadata": {},
   "outputs": [],
   "source": [
    "train_tmp = train[['tags', 'songs']]\n",
    "\n",
    "song_tag_dict = make_c1_c2_dict(train_tmp, 'songs', 'tags')\n",
    "write_json(song_tag_dict, data_path+'song_tag_dict.json')\n",
    "\n",
    "tag_song_dict = make_c1_c2_dict(train_tmp, 'tags', 'songs')\n",
    "write_json(tag_song_dict, data_path+'tag_song_dict.json')"
   ]
  }
 ],
 "metadata": {
  "kernelspec": {
   "display_name": "Python 3",
   "language": "python",
   "name": "python3"
  },
  "language_info": {
   "codemirror_mode": {
    "name": "ipython",
    "version": 3
   },
   "file_extension": ".py",
   "mimetype": "text/x-python",
   "name": "python",
   "nbconvert_exporter": "python",
   "pygments_lexer": "ipython3",
   "version": "3.7.7"
  }
 },
 "nbformat": 4,
 "nbformat_minor": 4
}
