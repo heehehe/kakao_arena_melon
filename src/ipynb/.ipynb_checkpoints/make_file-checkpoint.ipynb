{
 "cells": [
  {
   "cell_type": "code",
   "execution_count": 1,
   "metadata": {},
   "outputs": [],
   "source": [
    "## Author : Seong-Han\n",
    "\n",
    "import sys\n",
    "sys.path.append('../')\n",
    "from basic_utils import *"
   ]
  },
  {
   "cell_type": "code",
   "execution_count": 3,
   "metadata": {},
   "outputs": [],
   "source": [
    "data_path = '../../../1_melon_playlist/data/'\n",
    "train = pd.read_json(data_path+'train.json')\n",
    "# val = pd.read_json(data_path+'val.json')\n",
    "# test = pd.read_json(data_path+'test.json')\n",
    "song_meta = load_json(data_path+'song_meta.json')\n",
    "# genre_gn_all = pd.read_json(data_path+'genre_gn_all.json', typ = 'series')\n",
    "# val_x = pd.read_json('/kaggle/input/kakao-train-valid-split/val_x.json')\n",
    "# val_y = pd.read_json('/kaggle/input/kakao-train-valid-split/val_y.json')"
   ]
  },
  {
   "cell_type": "code",
   "execution_count": 7,
   "metadata": {},
   "outputs": [],
   "source": [
    "def make_c1_c2_dict(data, col1, col2):\n",
    "    c1_c2_dict = {}\n",
    "    for i in tqdm(data.index):\n",
    "        for c1 in data.loc[i][col1]:\n",
    "            if c1 not in c1_c2_dict:\n",
    "                ## 아직 없을 경우 빈 list 추가\n",
    "                c1_c2_dict[tag] = []\n",
    "            for c2 in data.loc[i][col2]:\n",
    "                c1_c2_dict[c1].extend([c2]) ## song을 업데이트 해준다. \n",
    "    return c1_c2_dict"
   ]
  },
  {
   "cell_type": "code",
   "execution_count": null,
   "metadata": {},
   "outputs": [],
   "source": [
    "train_tmp = train[['tags', 'songs']]\n",
    "song_tag_dict = make_c1_c2_dict(train_tmp, 'songs', 'tags')\n",
    "write_json(song_tag_dict, data_path+'song_tag_dict.json')\n",
    "\n",
    "tag_song_dict = make_c1_c2_dict(train_tmp, 'tags', 'songs')\n",
    "write_json(tag_song_dict, 'tag_song_dict.json')"
   ]
  },
  {
   "cell_type": "code",
   "execution_count": null,
   "metadata": {},
   "outputs": [],
   "source": [
    "train_tmp_no0 = train[train['like_cnt'] > 0][['tags', 'songs']]\n",
    "tag_song_dict_no0 = make_c1_c2_dict(train_tmp_no0, 'tags', 'songs')\n",
    "write_json(tag_song_dict_no0, 'tag_song_dict_no0.json')"
   ]
  },
  {
   "cell_type": "code",
   "execution_count": null,
   "metadata": {},
   "outputs": [],
   "source": []
  },
  {
   "cell_type": "markdown",
   "metadata": {},
   "source": [
    "---"
   ]
  },
  {
   "cell_type": "code",
   "execution_count": null,
   "metadata": {},
   "outputs": [],
   "source": [
    "# song_tag_dict = {}\n",
    "# for i in tqdm(train_tmp.index):\n",
    "#     for song in train_tmp.loc[i]['songs']:\n",
    "#         if song not in song_tag_dict: ## 아직 없어?\n",
    "#             song_tag_dict[song] = [] ## 비어있는 리스트를 넣어준다.          \n",
    "#        for tag in train_tmp.loc[i]['tags']:\n",
    "#             song_tag_dict[song].extend([tag]) ## tag를 업데이트 해준다. \n",
    "\n",
    "# tag_song_dict = {}\n",
    "# for i in tqdm(train_tmp.index):\n",
    "#     for tag in train_tmp.loc[i]['tags']:\n",
    "#         if tag not in tag_song_dict: ## 아직 없어?\n",
    "#             tag_song_dict[tag] = [] ## 비어있는 리스트를 넣어준다. \n",
    "#         for song in train_tmp.loc[i]['songs']:\n",
    "#             tag_song_dict[tag].extend([song]) ## song을 업데이트 해준다. "
   ]
  }
 ],
 "metadata": {
  "kernelspec": {
   "display_name": "Python 3",
   "language": "python",
   "name": "python3"
  },
  "language_info": {
   "codemirror_mode": {
    "name": "ipython",
    "version": 3
   },
   "file_extension": ".py",
   "mimetype": "text/x-python",
   "name": "python",
   "nbconvert_exporter": "python",
   "pygments_lexer": "ipython3",
   "version": "3.7.7"
  }
 },
 "nbformat": 4,
 "nbformat_minor": 4
}
