{
 "cells": [
  {
   "cell_type": "code",
   "execution_count": null,
   "metadata": {},
   "outputs": [],
   "source": [
    "## Author : Seong-Han\n",
    "\n",
    "import copy\n",
    "import json\n",
    "import random\n",
    "import io\n",
    "import distutils.dir_util\n",
    "import warnings\n",
    "warnings.filterwarnings(\"ignore\")\n",
    "from scipy.sparse.linalg import svds\n",
    "from sklearn.metrics.pairwise import cosine_similarity\n",
    "\n",
    "import os, sys, gc, time, warnings, pickle, psutil, random\n",
    "import gc\n",
    "import time\n",
    "\n",
    "import numpy as np # linear algebra\n",
    "import pandas as pd # data processing, CSV file I/O (e.g. pd.read_csv)\n",
    "\n",
    "from collections import Counter\n",
    "from tqdm import tqdm"
   ]
  },
  {
   "cell_type": "code",
   "execution_count": null,
   "metadata": {},
   "outputs": [],
   "source": [
    "def load_json(fname):\n",
    "    with open(fname, encoding=\"utf-8\") as f:\n",
    "        json_obj = json.load(f)\n",
    "    return json_obj\n",
    "\n",
    "def write_json(data, fname):\n",
    "    def _conv(o):\n",
    "        if isinstance(o, (np.int64, np.int32)):\n",
    "            return int(o)\n",
    "        raise TypeError\n",
    "    parent = os.path.dirname(fname)\n",
    "    distutils.dir_util.mkpath(parent)\n",
    "    with io.open(fname, \"w\", encoding=\"utf-8\") as f:\n",
    "        json_str = json.dumps(data, ensure_ascii=False, default=_conv)\n",
    "        f.write(json_str)"
   ]
  },
  {
   "cell_type": "code",
   "execution_count": null,
   "metadata": {},
   "outputs": [],
   "source": [
    "train = pd.read_json('/kaggle/input/kakao-arena-melon/train.json')\n",
    "# train_df = pd.read_json('/kaggle/input/kakao-train-valid-split/train_df.json')\n",
    "val = pd.read_json('/kaggle/input/kakao-arena-melon/val.json')\n",
    "# song_meta = pd.read_json('/kaggle/input/kakao-arena-melon/song_meta.json')\n",
    "# val_x = pd.read_json('/kaggle/input/kakao-train-valid-split/val_x.json')\n",
    "# val_y = pd.read_json('/kaggle/input/kakao-train-valid-split/val_y.json')\n",
    "# genre_gn_all = pd.read_json('/kaggle/input/kakao-arena-melon/genre_gn_all.json', typ = 'series')"
   ]
  },
  {
   "cell_type": "code",
   "execution_count": null,
   "metadata": {},
   "outputs": [],
   "source": [
    "def most_popular(playlists, col, topk_count):\n",
    "    c = Counter()\n",
    "    for doc in playlists[col]:\n",
    "        c.update(doc)\n",
    "    topk = c.most_common(topk_count)\n",
    "    return c, [k for k, v in topk]\n",
    "\n",
    "def remove_seen(seen, l):\n",
    "    seen = set(seen)\n",
    "    ## 데이터에 l의 원소가 없으면 l의 원소를 채워 넣는다. \n",
    "    return [x for x in l if not (x in seen)]"
   ]
  },
  {
   "cell_type": "code",
   "execution_count": null,
   "metadata": {},
   "outputs": [],
   "source": [
    "def check_target_type(val):\n",
    "    no_song = []\n",
    "    no_both = []\n",
    "    no_tag = []\n",
    "    yes_index = []\n",
    "\n",
    "    for i in range(len(val)):\n",
    "        if (not val.loc[i:i, 'songs'].values[0])&(not not val.loc[i:i, 'tags'].values[0]): ## 노래는 없는데 태그는 있어\n",
    "            no_song.append(i)\n",
    "\n",
    "        elif (not not val.loc[i:i, 'songs'].values[0]) & (not val.loc[i:i, 'tags'].values[0]): ## 노래는 있는데 태그가 없으\n",
    "            no_tag.append(i)  \n",
    "\n",
    "        elif (not val.loc[i:i, 'songs'].values[0]) & (not val.loc[i:i, 'tags'].values[0]): ## 노래도 없고 태그도 없어\n",
    "            no_both.append(i)          \n",
    "\n",
    "        else: ## 둘다 있음, 아마도 노래 몇 곡이 누락 됐어 \n",
    "            yes_index.append(i)\n",
    "            \n",
    "    print(\"노래가 하나도 없음 : \", len(no_song))\n",
    "    print(\"노래, 태그 둘 다 존재함 : \", len(yes_index))\n",
    "    print(\"태그가 없음 : \",len(no_tag) )\n",
    "    print(\"둘다 없음 : \", len(no_both))\n",
    "    \n",
    "    return no_song, no_both, no_tag, yes_index\n",
    "\n",
    "no_song, no_both, no_tag, yes_index = check_target_type(val)"
   ]
  },
  {
   "cell_type": "code",
   "execution_count": null,
   "metadata": {},
   "outputs": [],
   "source": [
    "train['year'] = train['updt_date'].apply(lambda x: int(x[2:4]) -4)\n",
    "\n",
    "year_list = list(train['year'].unique())\n",
    "year_list= sorted(year_list)\n",
    "\n",
    "popular_year = []\n",
    "for i in year_list:\n",
    "    tmp = train[train['year'] == i]\n",
    "    _, year_song = most_popular(tmp, \"songs\", 200)\n",
    "    _, year_tag = most_popular(tmp, \"tags\", 100)\n",
    "    popular_year.append({\n",
    "        \"year\" : i,\n",
    "        \"songs\" : year_song,\n",
    "        \"tags\" : year_tag,})"
   ]
  },
  {
   "cell_type": "code",
   "execution_count": null,
   "metadata": {},
   "outputs": [],
   "source": [
    "tag_mp_counter, tag_mp = most_popular(train, \"tags\", 100)\n",
    "song_mp_counter, song_mp = most_popular(train, \"songs\", 200)"
   ]
  },
  {
   "cell_type": "code",
   "execution_count": null,
   "metadata": {},
   "outputs": [],
   "source": [
    "## most genral genre\n",
    "song_meta = load_json('/kaggle/input/kakao-arena-melon/song_meta.json')\n",
    "song_meta =  {int(song[\"id\"]): song for song in song_meta}"
   ]
  },
  {
   "cell_type": "code",
   "execution_count": null,
   "metadata": {},
   "outputs": [],
   "source": [
    "song_mp_per_genre_dtl = {}\n",
    "for sid, song in song_meta.items():\n",
    "    for genres in song['song_gn_dtl_gnr_basket']:\n",
    "        for genre in [genres]:\n",
    "            song_mp_per_genre_dtl.setdefault(genre, []).append(sid)\n",
    "        ## 특정 장르에 해당하는 모든 음악을 담은 데이터 => res\n",
    "\n",
    "song_mp_per_genre = {}\n",
    "for sid, song in song_meta.items():\n",
    "    for genre in song['song_gn_gnr_basket']:\n",
    "        song_mp_per_genre.setdefault(genre, []).append(sid)\n",
    "        ## 특정 장르에 해당하는 모든 음악을 담은 데이터 => res"
   ]
  },
  {
   "cell_type": "code",
   "execution_count": null,
   "metadata": {},
   "outputs": [],
   "source": [
    "for genre, sids in song_mp_per_genre_dtl.items():\n",
    "#     print(genre)\n",
    "    ## 각 장르에 해당하는 노래 중에서 가장 많이 반복되는(200개) 노래들만 남김 \n",
    "    song_mp_per_genre_dtl[genre] = Counter({k: song_mp_counter.get(int(k), 0) for k in sids})\n",
    "    \n",
    "    if len(song_mp_per_genre_dtl[genre]) < 200:\n",
    "        big_genre = genre[:4] + '00'\n",
    "        song_mp_per_genre_dtl[genre] = [k for k, v in song_mp_per_genre_dtl[genre].most_common(200)] ## dtl 채워주고\n",
    "        add = 300-len(song_mp_per_genre_dtl[genre])\n",
    "        song_mp_per_genre_dtl[genre].extend([k for k, v in Counter(song_mp_per_genre[big_genre]).most_common(add)]) ## 부족한 거 채워주고\n",
    "        \n",
    "        \n",
    "    else:\n",
    "        song_mp_per_genre_dtl[genre] = [k for k, v in song_mp_per_genre_dtl[genre].most_common(200)]"
   ]
  },
  {
   "cell_type": "code",
   "execution_count": null,
   "metadata": {},
   "outputs": [],
   "source": [
    "# tag_song_dict = load_json('/kaggle/input/kakao-save-song-tag-dict/tag_song_dict_no0.json')\n",
    "## https://www.kaggle.com/incastle/kakao-save-song-tag-dict?scriptVersionId=33768264\n",
    "\n",
    "song_tag_dict = load_json('/kaggle/input/kakao-save-song-tag-dict/song_tag_dict.json')\n",
    "## https://www.kaggle.com/incastle/kakao-save-song-tag-dict?scriptVersionId=33768264\n",
    "\n",
    "val['year'] = val['updt_date'].apply(lambda x: int(x[2:4]) -4)"
   ]
  },
  {
   "cell_type": "markdown",
   "metadata": {},
   "source": [
    "### val1 : 태그가 없는 케이스"
   ]
  },
  {
   "cell_type": "code",
   "execution_count": null,
   "metadata": {},
   "outputs": [],
   "source": [
    "val1 = val[val.index.isin(no_tag)]\n",
    "val1.reset_index(inplace = True, drop = True)\n",
    "val1.head()"
   ]
  },
  {
   "cell_type": "code",
   "execution_count": null,
   "metadata": {},
   "outputs": [],
   "source": [
    "train_years =  [i for i in range(0,17)]\n",
    "small_years =  [16]"
   ]
  },
  {
   "cell_type": "code",
   "execution_count": null,
   "metadata": {},
   "outputs": [],
   "source": [
    "val_tmp = val1[val1['year'].isin(small_years)]\n",
    "val_tmp.reset_index(inplace = True, drop = True)\n",
    "\n",
    "print(\"val year shape\", val_tmp.shape)\n",
    "\n",
    "# print(\"train  year\", train[(train['year'].isin(train_years))].shape)\n",
    "tmp = train[(train['year'].isin(train_years))]\n",
    "like_num = int(np.percentile(tmp['like_cnt'], 95))\n",
    "\n",
    "tmp = tmp[(tmp['like_cnt'] >like_num)]\n",
    "tmp.reset_index(inplace = True, drop = True)\n",
    "print(\"train best playlist\", tmp.shape)\n",
    "print('train+valid = ', tmp.shape[0]+val_tmp.shape[0])"
   ]
  },
  {
   "cell_type": "code",
   "execution_count": null,
   "metadata": {},
   "outputs": [],
   "source": [
    "def before_pivot(data):\n",
    "    result = []\n",
    "    for i in range(len(data)):\n",
    "        for song in data.loc[i:i, 'songs'].values[0]:\n",
    "            df = pd.DataFrame({\n",
    "                        'id' : [data.loc[i:i, 'id'].values[0]],\n",
    "                        'song' : [song],\n",
    "                        'point' : 1\n",
    "                    })\n",
    "            result += [df]\n",
    "\n",
    "    final_result = pd.concat(result)\n",
    "    print(final_result.shape)\n",
    "    return final_result"
   ]
  },
  {
   "cell_type": "code",
   "execution_count": null,
   "metadata": {},
   "outputs": [],
   "source": [
    "before_tmp = before_pivot(tmp)\n",
    "\n",
    "## train만 1보다 작은 노래는 없애준다.\n",
    "tmp_dict = before_tmp['song'].value_counts().to_dict()\n",
    "before_tmp['count']= before_tmp['song'].apply(lambda x : tmp_dict[x])\n",
    "before_tmp = before_tmp[before_tmp['count'] > 1]\n",
    "print(before_tmp.shape)"
   ]
  },
  {
   "cell_type": "code",
   "execution_count": null,
   "metadata": {},
   "outputs": [],
   "source": [
    "before_val_tmp = before_pivot(val_tmp)"
   ]
  },
  {
   "cell_type": "code",
   "execution_count": null,
   "metadata": {},
   "outputs": [],
   "source": [
    "final_result = pd.concat([before_tmp, before_val_tmp])\n",
    "del before_tmp, before_val_tmp\n",
    "gc.collect()"
   ]
  },
  {
   "cell_type": "code",
   "execution_count": null,
   "metadata": {},
   "outputs": [],
   "source": [
    "def make_cosine_predict(final_result):\n",
    "    R_df = final_result.pivot(index = 'id', columns ='song', values = 'point').fillna(0)\n",
    "    del final_result\n",
    "    \n",
    "    print(\"make cosine data\")    \n",
    "    cosine_array = cosine_similarity(R_df, R_df)\n",
    "    predicted_array = np.zeros(shape=(len(R_df.index),len(R_df.columns))) \n",
    "    for i in tqdm(range(len(cosine_array))):\n",
    "        top_200 = cosine_array[i].argsort()[-201:][::-1]\n",
    "        top_200 = np.delete(top_200, 0)\n",
    "\n",
    "        weighted_sum = np.array([0])\n",
    "        for top_idx in top_200:\n",
    "            weighted_sum = weighted_sum + (cosine_array[i][top_idx] * R_df.values[top_idx])\n",
    "        predicted = weighted_sum / len(top_200)\n",
    "        predicted_array[i] = predicted\n",
    "    iu_predicted = R_df.values*(-99999) + predicted_array\n",
    "    \n",
    "    print(\"make dic data\")    \n",
    "    cf_dic = {}\n",
    "    for i in range(len(iu_predicted)):\n",
    "        cf_dic[R_df.index[i]] = R_df.columns[iu_predicted[i].argsort()[-200:][::-1]].tolist()\n",
    "    \n",
    "    return cf_dic"
   ]
  },
  {
   "cell_type": "code",
   "execution_count": null,
   "metadata": {},
   "outputs": [],
   "source": [
    "cf_dic = make_cosine_predict(final_result)"
   ]
  },
  {
   "cell_type": "code",
   "execution_count": null,
   "metadata": {},
   "outputs": [],
   "source": [
    "val_tmp.reset_index(inplace = True, drop = True)"
   ]
  },
  {
   "cell_type": "code",
   "execution_count": null,
   "metadata": {},
   "outputs": [],
   "source": [
    "val1_predict = []\n",
    "for i in range(len(val_tmp)):\n",
    "    ############### song 채우기 ##################################\n",
    "    year = val_tmp.loc[i:i, 'year'].values[0]\n",
    "    row_number = val_tmp.loc[i:i, 'id'].values[0]\n",
    "    cur_song = list(cf_dic[row_number])\n",
    "       \n",
    "    #############################################################\n",
    "    \n",
    "    \n",
    "    ############### tag 채우기 ##################################\n",
    "    tag_counter = Counter()\n",
    "    for song in list(val_tmp.loc[i:i, 'songs'].values[0]):\n",
    "        if str(song) in song_tag_dict:\n",
    "            for tag in song_tag_dict[str(song)]:\n",
    "                tag_counter.update({tag : 1})\n",
    "    tag_counter = sorted(tag_counter.items(), key= lambda x:x[1], reverse = True)        \n",
    "    cur_tag = []\n",
    "    for k in tag_counter[:10]:\n",
    "        cur_tag.append(k[0])     \n",
    "    if (len(cur_tag) < 10) & (len(cur_tag) > 0 ):\n",
    "        ## 부족하면 채워준다.\n",
    "        update_tag = remove_seen(cur_tag, popular_year[year]['tags'])\n",
    "        cur_tag.extend(update_tag)\n",
    "        cur_tag = cur_tag[:10]\n",
    "    if len(cur_tag) == 0:\n",
    "        cur_tag = popular_year[year]['tags'][:10]\n",
    "        \n",
    "    #############################################################    \n",
    "\n",
    "    val1_predict.append({\n",
    "        \"id\" : list(val_tmp.loc[i:i, 'id'])[0],\n",
    "        \"songs\": remove_seen(list(val_tmp.loc[i:i, 'songs'])[0], cur_song)[:100],\n",
    "        \"tags\": cur_tag,\n",
    "    })\n",
    "    "
   ]
  },
  {
   "cell_type": "code",
   "execution_count": null,
   "metadata": {},
   "outputs": [],
   "source": [
    "## save file\n",
    "write_json(val1_predict, 'val1_16.json')"
   ]
  },
  {
   "cell_type": "code",
   "execution_count": null,
   "metadata": {},
   "outputs": [],
   "source": []
  },
  {
   "cell_type": "code",
   "execution_count": null,
   "metadata": {},
   "outputs": [],
   "source": []
  }
 ],
 "metadata": {
  "kernelspec": {
   "display_name": "Python 3",
   "language": "python",
   "name": "python3"
  },
  "language_info": {
   "codemirror_mode": {
    "name": "ipython",
    "version": 3
   },
   "file_extension": ".py",
   "mimetype": "text/x-python",
   "name": "python",
   "nbconvert_exporter": "python",
   "pygments_lexer": "ipython3",
   "version": "3.7.6"
  }
 },
 "nbformat": 4,
 "nbformat_minor": 4
}
