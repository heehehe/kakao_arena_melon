{
 "cells": [
  {
   "cell_type": "code",
   "execution_count": 8,
   "metadata": {},
   "outputs": [],
   "source": [
    "## Author : Seong-Han\n",
    "\n",
    "# from scipy.sparse.linalg import svds\n",
    "from sklearn.metrics.pairwise import cosine_similarity\n",
    "import pickle #psutil, \n",
    "\n",
    "import sys\n",
    "sys.path.append('../')\n",
    "from basic_utils import *"
   ]
  },
  {
   "cell_type": "code",
   "execution_count": 17,
   "metadata": {},
   "outputs": [],
   "source": [
    "data_path = '../../../1_melon_playlist/data/'\n",
    "train = pd.read_json(data_path+'train.json')\n",
    "val = pd.read_json(data_path+'val.json')\n",
    "# test = pd.read_json(data_path+'test.json')\n",
    "song_meta = load_json(data_path+'song_meta.json')\n",
    "# genre_gn_all = pd.read_json(data_path+'genre_gn_all.json', typ = 'series')\n",
    "# val_x = pd.read_json('/kaggle/input/kakao-train-valid-split/val_x.json')\n",
    "# val_y = pd.read_json('/kaggle/input/kakao-train-valid-split/val_y.json')"
   ]
  },
  {
   "cell_type": "code",
   "execution_count": 12,
   "metadata": {},
   "outputs": [],
   "source": [
    "## year 생성 (실제 년도 - 4)\n",
    "train['year'] = train['updt_date'].apply(lambda x: int(x[2:4]) - 4)\n",
    "val['year'] = val['updt_date'].apply(lambda x: int(x[2:4]) - 4)\n",
    "year_list = sorted(list(train['year'].unique()))\n",
    "\n",
    "## 연도별 most popular 노래 및 태그 dict 생성\n",
    "popular_year = []\n",
    "for i in year_list:\n",
    "    tmp = train[train['year'] == i]\n",
    "    _, year_song = most_popular(tmp, \"songs\", 200)\n",
    "    _, year_tag = most_popular(tmp, \"tags\", 100)\n",
    "    popular_year.append({\n",
    "        \"year\" : i,\n",
    "        \"songs\" : year_song,\n",
    "        \"tags\" : year_tag,})"
   ]
  },
  {
   "cell_type": "markdown",
   "metadata": {},
   "source": [
    "#### most general genre"
   ]
  },
  {
   "cell_type": "code",
   "execution_count": 13,
   "metadata": {},
   "outputs": [],
   "source": [
    "# train 내 popular 태그 및 노래 counter, list 추출\n",
    "tag_mp_counter, tag_mp = most_popular(train, \"tags\", 100)\n",
    "song_mp_counter, song_mp = most_popular(train, \"songs\", 200)"
   ]
  },
  {
   "cell_type": "code",
   "execution_count": 18,
   "metadata": {},
   "outputs": [],
   "source": [
    "# song_meta를 노래별 dict 형식으로 변환\n",
    "song_meta_dict = {int(song[\"id\"]): song for song in song_meta}"
   ]
  },
  {
   "cell_type": "code",
   "execution_count": 20,
   "metadata": {},
   "outputs": [
    {
     "data": {
      "text/plain": [
       "{'song_gn_dtl_gnr_basket': ['GN0901'],\n",
       " 'issue_date': '20140512',\n",
       " 'album_name': '불후의 명곡 - 7080 추억의 얄개시대 팝송베스트',\n",
       " 'album_id': 2255639,\n",
       " 'artist_id_basket': [2727],\n",
       " 'song_name': 'Feelings',\n",
       " 'song_gn_gnr_basket': ['GN0900'],\n",
       " 'artist_name_basket': ['Various Artists'],\n",
       " 'id': 0}"
      ]
     },
     "execution_count": 20,
     "metadata": {},
     "output_type": "execute_result"
    }
   ],
   "source": [
    "song_meta_dict[0]"
   ]
  },
  {
   "cell_type": "code",
   "execution_count": 21,
   "metadata": {},
   "outputs": [],
   "source": [
    "## 장르 소분류별 노래 id dict\n",
    "song_mp_per_genre_dtl = {}\n",
    "for sid, song in song_meta_dict.items():\n",
    "    for genres in song['song_gn_dtl_gnr_basket']:\n",
    "        for genre in [genres]:\n",
    "            song_mp_per_genre_dtl.setdefault(genre, []).append(sid)\n",
    "        ## 특정 장르에 해당하는 모든 음악을 담은 데이터 => res\n",
    "\n",
    "## 장르 대분류별 노래 id dict\n",
    "song_mp_per_genre = {}\n",
    "for sid, song in song_meta_dict.items():\n",
    "    for genre in song['song_gn_gnr_basket']:\n",
    "        song_mp_per_genre.setdefault(genre, []).append(sid)\n",
    "        ## 특정 장르에 해당하는 모든 음악을 담은 데이터 => res"
   ]
  },
  {
   "cell_type": "code",
   "execution_count": 24,
   "metadata": {},
   "outputs": [],
   "source": [
    "for genre, sids in song_mp_per_genre_dtl.items():\n",
    "    ## 각 장르에 해당하는 노래 중에서 가장 많이 반복되는 상위 200개 노래들만 남김 \n",
    "    song_mp_per_genre_dtl[genre] = Counter({k: song_mp_counter.get(int(k), 0) for k in sids})\n",
    "    song_mp_per_genre_dtl[genre] = [k for k, v in song_mp_per_genre_dtl[genre].most_common(200)]\n",
    "    if len(song_mp_per_genre_dtl[genre]) < 200:\n",
    "        ## 200개 미만일 경우 장르 대분류에\n",
    "        add = 300-len(song_mp_per_genre_dtl[genre])\n",
    "        big_genre = genre[:4] + '00'\n",
    "        song_mp_per_genre_dtl[genre].extend([k for k, v in Counter(song_mp_per_genre[big_genre]).most_common(add)]) ## 부족한 거 채워주고"
   ]
  },
  {
   "cell_type": "code",
   "execution_count": 49,
   "metadata": {},
   "outputs": [],
   "source": [
    "### make_file.ipynb 내에서 만들어진 tag_song_dict / song_tag_dict 불러오기\n",
    "\n",
    "# tag_song_dict = load_json('/kaggle/input/kakao-save-song-tag-dict/tag_song_dict_no0.json')\n",
    "## https://www.kaggle.com/incastle/kakao-save-song-tag-dict?scriptVersionId=33768264\n",
    "\n",
    "song_tag_dict = load_json(data_path+'song_tag_dict.json')\n",
    "## https://www.kaggle.com/incastle/kakao-save-song-tag-dict?scriptVersionId=33768264"
   ]
  },
  {
   "cell_type": "markdown",
   "metadata": {},
   "source": [
    "### val1 : 태그가 없는 케이스"
   ]
  },
  {
   "cell_type": "code",
   "execution_count": 25,
   "metadata": {},
   "outputs": [
    {
     "name": "stdout",
     "output_type": "stream",
     "text": [
      "노래 O 태그 X : 9661개\n",
      "노래 X 태그 O : 2630개\n",
      "노래 O 태그 O : 8975개\n",
      "노래 X 태그 X : 1749개\n"
     ]
    }
   ],
   "source": [
    "no_tag, no_song, yes_index, no_both = check_target_type(val)"
   ]
  },
  {
   "cell_type": "code",
   "execution_count": 31,
   "metadata": {},
   "outputs": [
    {
     "data": {
      "text/html": [
       "<div>\n",
       "<style scoped>\n",
       "    .dataframe tbody tr th:only-of-type {\n",
       "        vertical-align: middle;\n",
       "    }\n",
       "\n",
       "    .dataframe tbody tr th {\n",
       "        vertical-align: top;\n",
       "    }\n",
       "\n",
       "    .dataframe thead th {\n",
       "        text-align: right;\n",
       "    }\n",
       "</style>\n",
       "<table border=\"1\" class=\"dataframe\">\n",
       "  <thead>\n",
       "    <tr style=\"text-align: right;\">\n",
       "      <th></th>\n",
       "      <th>tags</th>\n",
       "      <th>id</th>\n",
       "      <th>plylst_title</th>\n",
       "      <th>songs</th>\n",
       "      <th>like_cnt</th>\n",
       "      <th>updt_date</th>\n",
       "      <th>year</th>\n",
       "    </tr>\n",
       "  </thead>\n",
       "  <tbody>\n",
       "    <tr>\n",
       "      <th>0</th>\n",
       "      <td>[]</td>\n",
       "      <td>118598</td>\n",
       "      <td></td>\n",
       "      <td>[373313, 151080, 275346, 696876, 165237, 52593...</td>\n",
       "      <td>1675</td>\n",
       "      <td>2019-05-27 14:14:33.000</td>\n",
       "      <td>15</td>\n",
       "    </tr>\n",
       "    <tr>\n",
       "      <th>2</th>\n",
       "      <td>[]</td>\n",
       "      <td>51464</td>\n",
       "      <td></td>\n",
       "      <td>[529437, 516103, 360067, 705713, 226062, 37089...</td>\n",
       "      <td>62</td>\n",
       "      <td>2008-06-21 23:26:22.000</td>\n",
       "      <td>4</td>\n",
       "    </tr>\n",
       "    <tr>\n",
       "      <th>3</th>\n",
       "      <td>[]</td>\n",
       "      <td>45144</td>\n",
       "      <td></td>\n",
       "      <td>[589668, 21711, 570151, 320043, 13930, 599327,...</td>\n",
       "      <td>20</td>\n",
       "      <td>2017-10-30 18:15:43.000</td>\n",
       "      <td>13</td>\n",
       "    </tr>\n",
       "    <tr>\n",
       "      <th>4</th>\n",
       "      <td>[]</td>\n",
       "      <td>79929</td>\n",
       "      <td></td>\n",
       "      <td>[672718, 121924, 102694, 683657, 201558, 38511...</td>\n",
       "      <td>20</td>\n",
       "      <td>2017-02-07 11:40:42.000</td>\n",
       "      <td>13</td>\n",
       "    </tr>\n",
       "    <tr>\n",
       "      <th>6</th>\n",
       "      <td>[]</td>\n",
       "      <td>127575</td>\n",
       "      <td></td>\n",
       "      <td>[227044, 424672, 515592, 22408, 57893, 153714,...</td>\n",
       "      <td>2</td>\n",
       "      <td>2011-10-28 11:21:51.000</td>\n",
       "      <td>7</td>\n",
       "    </tr>\n",
       "  </tbody>\n",
       "</table>\n",
       "</div>"
      ],
      "text/plain": [
       "  tags      id plylst_title  \\\n",
       "0   []  118598                \n",
       "2   []   51464                \n",
       "3   []   45144                \n",
       "4   []   79929                \n",
       "6   []  127575                \n",
       "\n",
       "                                               songs  like_cnt  \\\n",
       "0  [373313, 151080, 275346, 696876, 165237, 52593...      1675   \n",
       "2  [529437, 516103, 360067, 705713, 226062, 37089...        62   \n",
       "3  [589668, 21711, 570151, 320043, 13930, 599327,...        20   \n",
       "4  [672718, 121924, 102694, 683657, 201558, 38511...        20   \n",
       "6  [227044, 424672, 515592, 22408, 57893, 153714,...         2   \n",
       "\n",
       "                 updt_date  year  \n",
       "0  2019-05-27 14:14:33.000    15  \n",
       "2  2008-06-21 23:26:22.000     4  \n",
       "3  2017-10-30 18:15:43.000    13  \n",
       "4  2017-02-07 11:40:42.000    13  \n",
       "6  2011-10-28 11:21:51.000     7  "
      ]
     },
     "execution_count": 31,
     "metadata": {},
     "output_type": "execute_result"
    }
   ],
   "source": [
    "val1 = val[val.index.isin(no_tag)]\n",
    "# val1.reset_index(inplace = True, drop = True)\n",
    "val1.head()"
   ]
  },
  {
   "cell_type": "code",
   "execution_count": 27,
   "metadata": {},
   "outputs": [],
   "source": [
    "##### 연도별 나눠서 자동으로 되도록 재구성 필요\n",
    "### ex : 16년도 예측\n",
    "train_years =  [i for i in range(0,17)]\n",
    "small_years =  [16]"
   ]
  },
  {
   "cell_type": "code",
   "execution_count": 32,
   "metadata": {},
   "outputs": [
    {
     "name": "stdout",
     "output_type": "stream",
     "text": [
      "val year shape (1014, 7)\n",
      "train best playlist (5743, 7)\n",
      "train+valid =  6757\n"
     ]
    }
   ],
   "source": [
    "val_tmp = val1[val1['year'].isin(small_years)]\n",
    "# val_tmp.reset_index(inplace = True, drop = True)\n",
    "print(\"val year shape\", val_tmp.shape)\n",
    "\n",
    "# print(\"train year\", train[(train['year'].isin(train_years))].shape)\n",
    "tmp = train[(train['year'].isin(train_years))]\n",
    "like_num = int(np.percentile(tmp['like_cnt'], 95))\n",
    "\n",
    "tmp = tmp[(tmp['like_cnt'] > like_num)]\n",
    "# tmp.reset_index(inplace = True, drop = True)\n",
    "print(\"train best playlist\", tmp.shape)\n",
    "print('train+valid=', tmp.shape[0]+val_tmp.shape[0])"
   ]
  },
  {
   "cell_type": "code",
   "execution_count": 34,
   "metadata": {},
   "outputs": [
    {
     "name": "stdout",
     "output_type": "stream",
     "text": [
      "(439729, 3)\n",
      "(343550, 4)\n"
     ]
    }
   ],
   "source": [
    "def before_pivot(data):\n",
    "    # id별 포함된 노래 id dataframe 생성\n",
    "    ## 속도가 느리므로 개선 필요해보임\n",
    "    result = []\n",
    "    for i in data.index:\n",
    "        for song in data.loc[i]['songs']:\n",
    "            df = pd.DataFrame({\n",
    "                        'id' : [data.loc[i]['id']],\n",
    "                        'song' : [song],\n",
    "                        'point' : 1\n",
    "                    })\n",
    "            result += [df]\n",
    "    final_result = pd.concat(result)\n",
    "    print(final_result.shape)\n",
    "    return final_result\n",
    "\n",
    "before_tmp = before_pivot(tmp)"
   ]
  },
  {
   "cell_type": "code",
   "execution_count": 35,
   "metadata": {},
   "outputs": [
    {
     "name": "stdout",
     "output_type": "stream",
     "text": [
      "(343550, 4)\n"
     ]
    }
   ],
   "source": [
    "## train만 1보다 작은 노래는 없애준다.\n",
    "tmp_dict = before_tmp['song'].value_counts().to_dict()\n",
    "before_tmp['count']= before_tmp['song'].apply(lambda x : tmp_dict[x])\n",
    "before_tmp = before_tmp[before_tmp['count'] > 1]\n",
    "print(before_tmp.shape)"
   ]
  },
  {
   "cell_type": "code",
   "execution_count": 36,
   "metadata": {},
   "outputs": [
    {
     "data": {
      "text/html": [
       "<div>\n",
       "<style scoped>\n",
       "    .dataframe tbody tr th:only-of-type {\n",
       "        vertical-align: middle;\n",
       "    }\n",
       "\n",
       "    .dataframe tbody tr th {\n",
       "        vertical-align: top;\n",
       "    }\n",
       "\n",
       "    .dataframe thead th {\n",
       "        text-align: right;\n",
       "    }\n",
       "</style>\n",
       "<table border=\"1\" class=\"dataframe\">\n",
       "  <thead>\n",
       "    <tr style=\"text-align: right;\">\n",
       "      <th></th>\n",
       "      <th>id</th>\n",
       "      <th>song</th>\n",
       "      <th>point</th>\n",
       "      <th>count</th>\n",
       "    </tr>\n",
       "  </thead>\n",
       "  <tbody>\n",
       "    <tr>\n",
       "      <th>0</th>\n",
       "      <td>69252</td>\n",
       "      <td>418694</td>\n",
       "      <td>1</td>\n",
       "      <td>27</td>\n",
       "    </tr>\n",
       "    <tr>\n",
       "      <th>0</th>\n",
       "      <td>69252</td>\n",
       "      <td>222305</td>\n",
       "      <td>1</td>\n",
       "      <td>49</td>\n",
       "    </tr>\n",
       "    <tr>\n",
       "      <th>0</th>\n",
       "      <td>69252</td>\n",
       "      <td>96545</td>\n",
       "      <td>1</td>\n",
       "      <td>14</td>\n",
       "    </tr>\n",
       "    <tr>\n",
       "      <th>0</th>\n",
       "      <td>69252</td>\n",
       "      <td>135950</td>\n",
       "      <td>1</td>\n",
       "      <td>32</td>\n",
       "    </tr>\n",
       "    <tr>\n",
       "      <th>0</th>\n",
       "      <td>69252</td>\n",
       "      <td>304687</td>\n",
       "      <td>1</td>\n",
       "      <td>9</td>\n",
       "    </tr>\n",
       "  </tbody>\n",
       "</table>\n",
       "</div>"
      ],
      "text/plain": [
       "      id    song  point  count\n",
       "0  69252  418694      1     27\n",
       "0  69252  222305      1     49\n",
       "0  69252   96545      1     14\n",
       "0  69252  135950      1     32\n",
       "0  69252  304687      1      9"
      ]
     },
     "execution_count": 36,
     "metadata": {},
     "output_type": "execute_result"
    }
   ],
   "source": [
    "before_tmp.head()"
   ]
  },
  {
   "cell_type": "code",
   "execution_count": 37,
   "metadata": {},
   "outputs": [
    {
     "name": "stdout",
     "output_type": "stream",
     "text": [
      "(32188, 3)\n"
     ]
    }
   ],
   "source": [
    "before_val_tmp = before_pivot(val_tmp)"
   ]
  },
  {
   "cell_type": "code",
   "execution_count": 40,
   "metadata": {},
   "outputs": [
    {
     "data": {
      "text/plain": [
       "109"
      ]
     },
     "execution_count": 40,
     "metadata": {},
     "output_type": "execute_result"
    }
   ],
   "source": [
    "final_result = pd.concat([before_tmp, before_val_tmp])\n",
    "del before_tmp, before_val_tmp\n",
    "gc.collect()"
   ]
  },
  {
   "cell_type": "code",
   "execution_count": 75,
   "metadata": {},
   "outputs": [
    {
     "data": {
      "text/plain": [
       "200"
      ]
     },
     "execution_count": 75,
     "metadata": {},
     "output_type": "execute_result"
    }
   ],
   "source": [
    "len(cf_dic[85])"
   ]
  },
  {
   "cell_type": "code",
   "execution_count": 38,
   "metadata": {},
   "outputs": [],
   "source": [
    "def make_cosine_predict(final_result):\n",
    "    R_df = final_result.pivot(index = 'id', columns ='song', values = 'point').fillna(0)\n",
    "    del final_result\n",
    "    \n",
    "    ##### 코사인 유사도 계산\n",
    "    print(\"make cosine data\")\n",
    "    cosine_array = cosine_similarity(R_df, R_df)\n",
    "    predicted_array = np.zeros(shape=(len(R_df.index), len(R_df.columns))) \n",
    "    for i in tqdm(range(len(cosine_array))):\n",
    "        top_200 = cosine_array[i].argsort()[-201:][::-1]\n",
    "        top_200 = np.delete(top_200, 0)\n",
    "        weighted_sum = np.array([0])\n",
    "        for top_idx in top_200:\n",
    "            weighted_sum = weighted_sum + (cosine_array[i][top_idx] * R_df.values[top_idx])\n",
    "        predicted = weighted_sum / len(top_200)\n",
    "        predicted_array[i] = predicted\n",
    "    iu_predicted = R_df.values*(-99999) + predicted_array     # 기존 pivot table에 predicted array 더한 결과\n",
    "    \n",
    "    ##### 플레이리스트 id별 코사인 유사도 높은 상위 200곡 dict 생성\n",
    "    print(\"make dic data\")\n",
    "    cf_dic = {}\n",
    "    for i in range(len(iu_predicted)):\n",
    "        cf_dic[R_df.index[i]] = R_df.columns[iu_predicted[i].argsort()[-200:][::-1]].tolist()    \n",
    "    \n",
    "    return cf_dic"
   ]
  },
  {
   "cell_type": "code",
   "execution_count": 61,
   "metadata": {},
   "outputs": [],
   "source": [
    "val1_predict = []\n",
    "for i in tqdm(val_tmp.index):\n",
    "    ##### song 채우기\n",
    "    year = val_tmp.loc[i]['year']\n",
    "    row_number = val_tmp.loc[i]['id']\n",
    "    cur_song = remove_seen(val_tmp.loc[i]['songs'], list(cf_dic[row_number]))[:100]\n",
    "    ##### tag 채우기\n",
    "    tag_counter = Counter()\n",
    "    for song in val_tmp.loc[i]['songs']:\n",
    "        if str(song) in song_tag_dict:\n",
    "            for tag in song_tag_dict[str(song)]:\n",
    "                tag_counter.update({tag : 1})\n",
    "    tag_counter = sorted(tag_counter.items(), key= lambda x:x[1], reverse = True)        \n",
    "    cur_tag = []\n",
    "    for k in tag_counter[:10]:\n",
    "        cur_tag.append(k[0])     \n",
    "    if len(cur_tag) == 0:\n",
    "        cur_tag = popular_year[year]['tags'][:10]\n",
    "    elif len(cur_tag) < 10:\n",
    "        update_tag = remove_seen(cur_tag, popular_year[year]['tags'])\n",
    "        cur_tag.extend(update_tag)\n",
    "        cur_tag = cur_tag[:10]\n",
    "    ### val1_predict(제출 결과물)에 추가\n",
    "    val1_predict.append({\n",
    "        \"id\" : val_tmp.loc[i]['id'],\n",
    "        \"songs\": cur_song,\n",
    "        \"tags\": cur_tag,\n",
    "    })"
   ]
  },
  {
   "cell_type": "code",
   "execution_count": null,
   "metadata": {},
   "outputs": [],
   "source": [
    "## save file\n",
    "write_json(val1_predict, data_path+'val1_16.json')"
   ]
  },
  {
   "cell_type": "code",
   "execution_count": null,
   "metadata": {},
   "outputs": [],
   "source": []
  }
 ],
 "metadata": {
  "kernelspec": {
   "display_name": "Python 3",
   "language": "python",
   "name": "python3"
  },
  "language_info": {
   "codemirror_mode": {
    "name": "ipython",
    "version": 3
   },
   "file_extension": ".py",
   "mimetype": "text/x-python",
   "name": "python",
   "nbconvert_exporter": "python",
   "pygments_lexer": "ipython3",
   "version": "3.7.7"
  }
 },
 "nbformat": 4,
 "nbformat_minor": 4
}
