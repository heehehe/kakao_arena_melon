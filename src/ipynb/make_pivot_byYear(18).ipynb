{
 "cells": [
  {
   "cell_type": "markdown",
   "execution_count": null,
   "metadata": {},
   "source": [
    "### 18year는 데이터가 많아서 5번 이상 등장으로 변경"
   ]
  },
  {
   "cell_type": "code",
   "execution_count": 1,
   "metadata": {
    "_cell_guid": "b1076dfc-b9ad-4769-8c92-a6c4dae69d19",
    "_uuid": "8f2839f25d086af736a60e9eeb907d3b93b6e0e5"
   },
   "outputs": [],
   "source": [
    "# This Python 3 environment comes with many helpful analytics libraries installed\n",
    "# It is defined by the kaggle/python Docker image: https://github.com/kaggle/docker-python\n",
    "# For example, here's several helpful packages to load\n",
    "import copy\n",
    "import json\n",
    "import random\n",
    "import io\n",
    "import distutils.dir_util\n",
    "import warnings\n",
    "warnings.filterwarnings(\"ignore\")\n",
    "from scipy.sparse.linalg import svds\n",
    "from sklearn.metrics.pairwise import cosine_similarity\n",
    "\n",
    "import os, sys, gc, time, warnings, pickle, psutil, random\n",
    "import gc\n",
    "import time\n",
    "\n",
    "import numpy as np # linear algebra\n",
    "import pandas as pd # data processing, CSV file I/O (e.g. pd.read_csv)\n",
    "\n",
    "# Input data files are available in the read-only \"../input/\" directory\n",
    "# For example, running this (by clicking run or pressing Shift+Enter) will list all files under the input directory\n",
    "\n",
    "import os\n",
    "# for dirname, _, filenames in os.walk('/kaggle'):\n",
    "#     for filename in filenames:\n",
    "#         print(os.path.join(dirname, filename))\n",
    "\n",
    "        \n",
    "from collections import Counter\n",
    "from tqdm import tqdm\n",
    "\n"
   ]
  },
  {
   "cell_type": "code",
   "execution_count": 2,
   "metadata": {},
   "outputs": [],
   "source": [
    "def load_json(fname):\n",
    "    with open(fname, encoding=\"utf-8\") as f:\n",
    "        json_obj = json.load(f)\n",
    "\n",
    "    return json_obj\n",
    "\n",
    "def write_json(data, fname):\n",
    "    def _conv(o):\n",
    "        if isinstance(o, (np.int64, np.int32)):\n",
    "            return int(o)\n",
    "        raise TypeError\n",
    "\n",
    "    parent = os.path.dirname(fname)\n",
    "    distutils.dir_util.mkpath(parent)\n",
    "    with io.open(fname, \"w\", encoding=\"utf-8\") as f:\n",
    "        json_str = json.dumps(data, ensure_ascii=False, default=_conv)\n",
    "        f.write(json_str)"
   ]
  },
  {
   "cell_type": "code",
   "execution_count": 3,
   "metadata": {},
   "outputs": [],
   "source": [
    "train = pd.read_parquet('/kaggle/input/song-traim-song-tag-dict-tag-song-dict/train(song_trim).parquet')\n",
    "val= pd.read_json('/kaggle/input/song-traim-song-tag-dict-tag-song-dict/val(lower).json')\n"
   ]
  },
  {
   "cell_type": "code",
   "execution_count": 4,
   "metadata": {},
   "outputs": [],
   "source": [
    "# train = pd.read_json('/kaggle/input/kakao-arena-melon/train.json')\n",
    "# # train_df = pd.read_json('/kaggle/input/kakao-train-valid-split/train_df.json')\n",
    "# val = pd.read_json('/kaggle/input/kakao-arena-melon/val.json')\n",
    "# # song_meta = pd.read_json('/kaggle/input/kakao-arena-melon/song_meta.json')\n",
    "# # val_x = pd.read_json('/kaggle/input/kakao-train-valid-split/val_x.json')\n",
    "# # val_y = pd.read_json('/kaggle/input/kakao-train-valid-split/val_y.json')\n",
    "# # genre_gn_all = pd.read_json('/kaggle/input/kakao-arena-melon/genre_gn_all.json', typ = 'series')"
   ]
  },
  {
   "cell_type": "code",
   "execution_count": 5,
   "metadata": {},
   "outputs": [],
   "source": [
    "def most_popular(playlists, col, topk_count):\n",
    "    c = Counter()\n",
    "\n",
    "    for doc in playlists[col]:\n",
    "        c.update(doc)\n",
    "\n",
    "    topk = c.most_common(topk_count)\n",
    "    return c, [k for k, v in topk]\n",
    "\n",
    "def remove_seen(seen, l):\n",
    "    seen = set(seen)\n",
    "    ## 데이터에 l의 원소가 없으면 l의 원소를 채워 넣는다. \n",
    "    return [x for x in l if not (x in seen)]"
   ]
  },
  {
   "cell_type": "markdown",
   "execution_count": null,
   "metadata": {},
   "source": [
    "### popular_yaer"
   ]
  },
  {
   "cell_type": "code",
   "execution_count": 6,
   "metadata": {},
   "outputs": [],
   "source": [
    "train['year'] = train['updt_date'].apply(lambda x: int(x[2:4]))\n"
   ]
  },
  {
   "cell_type": "markdown",
   "execution_count": null,
   "metadata": {},
   "source": [
    "## 데이터 만들기\n"
   ]
  },
  {
   "cell_type": "code",
   "execution_count": 7,
   "metadata": {},
   "outputs": [],
   "source": [
    "def before_pivot(data,use_song):\n",
    "    result = []\n",
    "    start = time.time()  # 시작 시간 저장     \n",
    "\n",
    "    for i in tqdm(range(len(data))):\n",
    "        for song in data.loc[i:i, 'songs'].values[0]:\n",
    "            if song in use_song:\n",
    "                df = pd.DataFrame({\n",
    "                            'id' : [data.loc[i:i, 'id'].values[0]],\n",
    "                            'song' : [song],\n",
    "                            'point' : 1\n",
    "                        })\n",
    "                result += [df]\n",
    "\n",
    "    final_result = pd.concat(result)\n",
    "    print(final_result.shape)\n",
    "    end = time.time()  # 시작 시간 저장     \n",
    "    print(\"spend time \", round((end-start)/60, 2))\n",
    "    return final_result"
   ]
  },
  {
   "cell_type": "code",
   "execution_count": 8,
   "metadata": {},
   "outputs": [],
   "source": [
    "def make_use_song(train_tmp):\n",
    "    c = Counter()\n",
    "\n",
    "    for doc in train_tmp['songs']:\n",
    "        c.update(doc)\n",
    "\n",
    "\n",
    "    tmp_dict= pd.DataFrame.from_dict(c, orient = 'index')\n",
    "    print(\"before \", tmp_dict.shape)\n",
    "    tmp_dict = tmp_dict[tmp_dict[0] > 4]\n",
    "    print(\"after \", tmp_dict.shape)\n",
    "    tmp_dict.reset_index(inplace = True)\n",
    "\n",
    "    ## 3회 이상 등장한 노래만 사용! ==> use_song에 list형태로 담음\n",
    "    use_song = list(tmp_dict['index'])\n",
    "    \n",
    "    del c, tmp_dict\n",
    "    gc.collect()\n",
    "    return use_song\n"
   ]
  },
  {
   "cell_type": "code",
   "execution_count": 9,
   "metadata": {},
   "outputs": [],
   "source": [
    "def make_pv_file(small_years):\n",
    "    ## TRAIN\n",
    "    print(\"train only year\", train[(train['year'].isin(small_years))].shape)\n",
    "    train_tmp = train[(train['year'].isin(small_years))]\n",
    "\n",
    "\n",
    "    train_tmp = train_tmp[(train_tmp['like_cnt'] > 0)]\n",
    "    train_tmp.reset_index(inplace = True, drop = True)\n",
    "    print(\"train best playlist\", train_tmp.shape)\n",
    "    \n",
    "    use_song = make_use_song(train_tmp)\n",
    "    \n",
    "\n",
    "\n",
    "    train_df = before_pivot(train_tmp,use_song)\n",
    "    print('complete train')\n",
    "    # val_df = before_pivot(val_tmp)\n",
    "\n",
    "    del train_tmp \n",
    "    gc.collect()\n",
    "\n",
    "\n",
    "    # all_df = pd.concat([train_df, val_df])\n",
    "    train_df = train_df.pivot(index = 'song', columns ='id', values = 'point').fillna(0)\n",
    "    train_df.columns = train_df.columns.astype(str)\n",
    "    print(\"최종 shape : \", train_df.shape)\n",
    "\n",
    "    train_df.to_parquet('train_DF_%s.parquet' %small_years)\n",
    "    del train_df\n",
    "    gc.collect()\n"
   ]
  },
  {
   "cell_type": "code",
   "execution_count": 10,
   "metadata": {},
   "outputs": [],
   "source": [
    "year_split = [[18]]"
   ]
  },
  {
   "cell_type": "code",
   "execution_count": 11,
   "metadata": {},
   "outputs": [
    {
     "name": "stdout",
     "output_type": "stream",
     "text": [
      "train only year (13500, 7)\n",
      "train best playlist (12567, 7)\n"
     ]
    },
    {
     "name": "stderr",
     "output_type": "stream",
     "text": [
      "  0%|          | 0/12567 [00:00<?, ?it/s]"
     ]
    },
    {
     "name": "stdout",
     "output_type": "stream",
     "text": [
      "before  (115856, 1)\n",
      "after  (25216, 1)\n"
     ]
    },
    {
     "name": "stderr",
     "output_type": "stream",
     "text": [
      "100%|██████████| 12567/12567 [1:02:02<00:00,  3.38it/s]\n"
     ]
    },
    {
     "name": "stdout",
     "output_type": "stream",
     "text": [
      "(399306, 3)\n",
      "spend time  62.85\n",
      "complete train\n",
      "최종 shape :  (25216, 12076)\n"
     ]
    }
   ],
   "source": [
    "for small_years in year_split:\n",
    "    make_pv_file(small_years)"
   ]
  },
  {
   "cell_type": "code",
   "execution_count": null,
   "metadata": {},
   "outputs": [],
   "source": []
  }
 ],
 "metadata": {
  "kernelspec": {
   "display_name": "Python 3",
   "language": "python",
   "name": "python3"
  },
  "language_info": {
   "codemirror_mode": {
    "name": "ipython",
    "version": 3
   },
   "file_extension": ".py",
   "mimetype": "text/x-python",
   "name": "python",
   "nbconvert_exporter": "python",
   "pygments_lexer": "ipython3",
   "version": "3.7.6"
  }
 },
 "nbformat": 4,
 "nbformat_minor": 4
}
