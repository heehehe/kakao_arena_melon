{
 "cells": [
  {
   "cell_type": "code",
   "execution_count": null,
   "metadata": {
    "colab": {},
    "colab_type": "code",
    "id": "3TZxc-4rolaQ"
   },
   "outputs": [],
   "source": [
    "!git clone https://github.com/kakao/khaiii.git\n",
    "!pip install cmake\n",
    "!mkdir build\n",
    "!cd build && cmake /content/khaiii\n",
    "!cd /content/build/ && make all\n",
    "!cd /content/build/ && make resource\n",
    "!cd /content/build && make install\n",
    "!cd /content/build && make package_python\n",
    "!pip install /content/build/package_python"
   ]
  },
  {
   "cell_type": "code",
   "execution_count": null,
   "metadata": {
    "colab": {},
    "colab_type": "code",
    "id": "qMfpxMNroyR4"
   },
   "outputs": [],
   "source": [
    "### colab 사용 시 실행\n",
    "from google.colab import drive\n",
    "drive.mount('/content/gdrive/')\n",
    "import os\n",
    "os.chdir('gdrive/My Drive/Google Colaboratory/kakao_arena/kakao_arena_melon/src/ipynb')"
   ]
  },
  {
   "cell_type": "code",
   "execution_count": null,
   "metadata": {
    "colab": {},
    "colab_type": "code",
    "id": "spMgcqk-o0_4"
   },
   "outputs": [],
   "source": [
    "os.chdir('./../../')\n",
    "from src.basic_utils import *\n",
    "from src.modeling_utils import *\n",
    "\n",
    "import re\n",
    "from khaiii import KhaiiiApi"
   ]
  },
  {
   "cell_type": "code",
   "execution_count": null,
   "metadata": {
    "colab": {},
    "colab_type": "code",
    "id": "mmAk97s2o2XL"
   },
   "outputs": [],
   "source": [
    "data_path = 'data/'\n",
    "\n",
    "train = pd.read_parquet(data_path+'train(song_trim).parquet')\n",
    "val = pd.read_json(data_path+'val(lower).json')\n",
    "test = pd.read_json(data_path+'test(lower).json')\n",
    "# song_meta = load_json(data_path+'song_meta.json')\n",
    "# genre_gn_all = pd.read_json(data_path+'genre_gn_all.json', typ = 'series')\n",
    "\n",
    "### make_file.ipynb 내에서 만들어진 tag_song_dict / song_tag_dict 불러오기\n",
    "tag_song_dict = load_json(data_path+'tag_song_dict.json')\n",
    "song_tag_dict = load_json(data_path+'song_tag_dict.json')"
   ]
  },
  {
   "cell_type": "code",
   "execution_count": null,
   "metadata": {
    "colab": {},
    "colab_type": "code",
    "id": "buPgcOrLo21s"
   },
   "outputs": [],
   "source": [
    "train['date'] = train['updt_date'].apply(lambda x: int(str(x[2:4]) + str(x[5:7])) )    # 연도+월\n",
    "train['year'] = train['updt_date'].apply(lambda x: int(x[2:4]))                        # 연도\n",
    "val['date'] = val['updt_date'].apply(lambda x: int(str(x[2:4]) + str(x[5:7])) )\n",
    "val['year'] = val['updt_date'].apply(lambda x: int(x[2:4]))\n",
    "test['date'] = test['updt_date'].apply(lambda x: int(str(x[2:4]) + str(x[5:7])) )\n",
    "test['year'] = test['updt_date'].apply(lambda x: int(x[2:4]))\n",
    "\n",
    "all = pd.concat([train, val, test])\n",
    "date_list = sorted(list(all['date'].unique()))\n",
    "\n",
    "date_dict = {}       # 해당 연도+월 에 index 부여(?)\n",
    "for i,k in enumerate(date_list):\n",
    "    date_dict[k] = i\n",
    "\n",
    "popular_date_tag = make_popular_date_dict('tags', train, date_list, 13)\n",
    "popular_date_song = make_popular_date_dict('songs', train, date_list, 9)"
   ]
  },
  {
   "cell_type": "code",
   "execution_count": null,
   "metadata": {
    "colab": {},
    "colab_type": "code",
    "id": "FgH3Dum-o-qA"
   },
   "outputs": [],
   "source": [
    "### khaiii 활용한 plylst_title 형태소 분석 통한 태그 생성\n",
    "val = add_tags(val)\n",
    "test = add_tags(test)"
   ]
  },
  {
   "cell_type": "code",
   "execution_count": null,
   "metadata": {
    "colab": {},
    "colab_type": "code",
    "id": "h2XHTinpTNNR"
   },
   "outputs": [],
   "source": [
    "no_tag, no_song, yes_index, no_both = check_target_type(val)\n",
    "val2 = val[val.index.isin(no_song)]\n",
    "val4 = val[val.index.isin(no_both)]\n",
    "\n",
    "no_tag, no_song, yes_index, no_both = check_target_type(test)\n",
    "test2 = test[test.index.isin(no_song)]\n",
    "test4 = test[test.index.isin(no_both)]"
   ]
  },
  {
   "cell_type": "code",
   "execution_count": null,
   "metadata": {
    "colab": {},
    "colab_type": "code",
    "id": "PpfwM5-HUD0z"
   },
   "outputs": [],
   "source": [
    "val2_predict = pred_v2(val2, tag_song_dict, song_tag_dict, popular_date_song, popular_date_tag)\n",
    "write_json(val2_predict, data_path+'results/val/val2_predict_withTitle.json')\n",
    "\n",
    "val4_predict = pred_v4(val4, tag_song_dict, song_tag_dict, popular_date_song, popular_date_tag)\n",
    "write_json(val4_predict, data_path+'results/val/val4_predict_withTitle.json', 'utf-16')"
   ]
  },
  {
   "cell_type": "code",
   "execution_count": null,
   "metadata": {
    "colab": {},
    "colab_type": "code",
    "id": "ewF8qu4UXybn"
   },
   "outputs": [],
   "source": [
    "test2_predict = pred_v2(test2, tag_song_dict, song_tag_dict, popular_date_song, popular_date_tag)\n",
    "write_json(test2_predict, data_path+'results/test/test2_predict_withTitle.json')\n",
    "test4_predict = pred_v4(test4, tag_song_dict, song_tag_dict, popular_date_song, popular_date_tag)\n",
    "write_json(test4_predict, data_path+'results/test/test4_predict_withTitle.json')"
   ]
  }
 ],
 "metadata": {
  "colab": {
   "authorship_tag": "ABX9TyPSvkdqk4fij5LaQIMFkyyE",
   "collapsed_sections": [],
   "name": "modeling_v2+v4_noSong+noBoth_byTitle.ipynb",
   "private_outputs": true,
   "provenance": []
  },
  "kernelspec": {
   "display_name": "Python 3",
   "language": "python",
   "name": "python3"
  },
  "language_info": {
   "codemirror_mode": {
    "name": "ipython",
    "version": 3
   },
   "file_extension": ".py",
   "mimetype": "text/x-python",
   "name": "python",
   "nbconvert_exporter": "python",
   "pygments_lexer": "ipython3",
   "version": "3.7.7"
  }
 },
 "nbformat": 4,
 "nbformat_minor": 4
}
