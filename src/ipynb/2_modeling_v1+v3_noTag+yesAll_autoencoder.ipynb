{
 "cells": [
  {
   "cell_type": "markdown",
   "metadata": {
    "colab_type": "text",
    "id": "AKyVEPM5aoZA"
   },
   "source": [
    "# (4~10)년도 예측"
   ]
  },
  {
   "cell_type": "code",
   "execution_count": null,
   "metadata": {},
   "outputs": [],
   "source": [
    "import os\n",
    "os.chdir('./../../')\n",
    "from src.basic_utils import *\n",
    "from src.modeling_utils import *\n",
    "from src.modeling_autoencoder import *\n",
    "\n",
    "from sklearn.metrics.pairwise import cosine_similarity\n",
    "import keras\n",
    "from keras.models import Sequential, Model\n",
    "from keras.layers import Input, Dense, Dropout, Activation, Flatten\n",
    "from keras.layers.normalization import BatchNormalization\n",
    "from keras.callbacks import EarlyStopping\n",
    "from keras.callbacks import ModelCheckpoint, ReduceLROnPlateau, LearningRateScheduler\n",
    "from keras.models import load_model\n",
    "from keras.initializers import glorot_normal, Zeros, Ones\n",
    "import keras.backend as K\n",
    "from keras.optimizers import RMSprop\n",
    "import tensorflow as tf"
   ]
  },
  {
   "cell_type": "code",
   "execution_count": null,
   "metadata": {
    "colab": {},
    "colab_type": "code",
    "id": "5GSW8oWRaoZL"
   },
   "outputs": [],
   "source": [
    "data_path = 'data/'\n",
    "\n",
    "train = pd.read_parquet(data_path+'train(song_trim).parquet')\n",
    "val = pd.read_json(data_path+'val(lower).json')\n",
    "# test = pd.read_json(data_path+'test(lower).json')\n",
    "# song_meta = load_json(data_path+'song_meta.json')\n",
    "# genre_gn_all = pd.read_json(data_path+'genre_gn_all.json', typ = 'series')\n",
    "\n",
    "### make_file.ipynb 내에서 만들어진 tag_song_dict / song_tag_dict 불러오기\n",
    "# tag_song_dict = load_json(data_path+'tag_song_dict.json')\n",
    "song_tag_dict = load_json(data_path+'song_tag_dict.json')"
   ]
  },
  {
   "cell_type": "code",
   "execution_count": null,
   "metadata": {
    "colab": {},
    "colab_type": "code",
    "id": "6XhrTRaCaoZN"
   },
   "outputs": [],
   "source": [
    "# file_path = '/kaggle/input/yearly-pv-file-0-10-11-13-14-15/train_DF_%s.parquet' %small_years\n",
    "\n",
    "small_years = [i for i in range(4,11)]\n",
    "train_pv = pd.read_parquet(data_path+'train_DF_[0, 1, 2, 3, 4, 5, 6, 7, 8, 9, 10].parquet')\n",
    "train_pv = pd.read_parquet(data_path+'train_DF_%s.parquet' %small_years)"
   ]
  },
  {
   "cell_type": "code",
   "execution_count": null,
   "metadata": {
    "colab": {},
    "colab_type": "code",
    "id": "hMOegdO7aoZQ",
    "outputId": "52f45a52-900f-480c-9b3e-75e535c3df7e"
   },
   "outputs": [
    {
     "name": "stdout",
     "output_type": "stream",
     "text": [
      "(21630, 5719)\n"
     ]
    },
    {
     "data": {
      "text/html": [
       "<div>\n",
       "<style scoped>\n",
       "    .dataframe tbody tr th:only-of-type {\n",
       "        vertical-align: middle;\n",
       "    }\n",
       "\n",
       "    .dataframe tbody tr th {\n",
       "        vertical-align: top;\n",
       "    }\n",
       "\n",
       "    .dataframe thead th {\n",
       "        text-align: right;\n",
       "    }\n",
       "</style>\n",
       "<table border=\"1\" class=\"dataframe\">\n",
       "  <thead>\n",
       "    <tr style=\"text-align: right;\">\n",
       "      <th>id</th>\n",
       "      <th>49</th>\n",
       "      <th>59</th>\n",
       "      <th>92</th>\n",
       "      <th>104</th>\n",
       "      <th>121</th>\n",
       "      <th>129</th>\n",
       "      <th>204</th>\n",
       "      <th>208</th>\n",
       "      <th>252</th>\n",
       "      <th>290</th>\n",
       "      <th>...</th>\n",
       "      <th>153190</th>\n",
       "      <th>153218</th>\n",
       "      <th>153221</th>\n",
       "      <th>153229</th>\n",
       "      <th>153230</th>\n",
       "      <th>153258</th>\n",
       "      <th>153313</th>\n",
       "      <th>153333</th>\n",
       "      <th>153392</th>\n",
       "      <th>153426</th>\n",
       "    </tr>\n",
       "    <tr>\n",
       "      <th>song</th>\n",
       "      <th></th>\n",
       "      <th></th>\n",
       "      <th></th>\n",
       "      <th></th>\n",
       "      <th></th>\n",
       "      <th></th>\n",
       "      <th></th>\n",
       "      <th></th>\n",
       "      <th></th>\n",
       "      <th></th>\n",
       "      <th></th>\n",
       "      <th></th>\n",
       "      <th></th>\n",
       "      <th></th>\n",
       "      <th></th>\n",
       "      <th></th>\n",
       "      <th></th>\n",
       "      <th></th>\n",
       "      <th></th>\n",
       "      <th></th>\n",
       "      <th></th>\n",
       "    </tr>\n",
       "  </thead>\n",
       "  <tbody>\n",
       "    <tr>\n",
       "      <th>62</th>\n",
       "      <td>0.0</td>\n",
       "      <td>0.0</td>\n",
       "      <td>0.0</td>\n",
       "      <td>0.0</td>\n",
       "      <td>0.0</td>\n",
       "      <td>0.0</td>\n",
       "      <td>0.0</td>\n",
       "      <td>0.0</td>\n",
       "      <td>0.0</td>\n",
       "      <td>0.0</td>\n",
       "      <td>...</td>\n",
       "      <td>0.0</td>\n",
       "      <td>0.0</td>\n",
       "      <td>0.0</td>\n",
       "      <td>0.0</td>\n",
       "      <td>0.0</td>\n",
       "      <td>0.0</td>\n",
       "      <td>0.0</td>\n",
       "      <td>0.0</td>\n",
       "      <td>0.0</td>\n",
       "      <td>0.0</td>\n",
       "    </tr>\n",
       "    <tr>\n",
       "      <th>64</th>\n",
       "      <td>0.0</td>\n",
       "      <td>0.0</td>\n",
       "      <td>0.0</td>\n",
       "      <td>0.0</td>\n",
       "      <td>0.0</td>\n",
       "      <td>0.0</td>\n",
       "      <td>0.0</td>\n",
       "      <td>0.0</td>\n",
       "      <td>0.0</td>\n",
       "      <td>0.0</td>\n",
       "      <td>...</td>\n",
       "      <td>0.0</td>\n",
       "      <td>0.0</td>\n",
       "      <td>0.0</td>\n",
       "      <td>0.0</td>\n",
       "      <td>0.0</td>\n",
       "      <td>0.0</td>\n",
       "      <td>0.0</td>\n",
       "      <td>0.0</td>\n",
       "      <td>0.0</td>\n",
       "      <td>0.0</td>\n",
       "    </tr>\n",
       "  </tbody>\n",
       "</table>\n",
       "<p>2 rows × 5719 columns</p>\n",
       "</div>"
      ],
      "text/plain": [
       "id     49   59   92  104  121  129  204  208  252  290  ...  153190  153218  \\\n",
       "song                                                    ...                   \n",
       "62    0.0  0.0  0.0  0.0  0.0  0.0  0.0  0.0  0.0  0.0  ...     0.0     0.0   \n",
       "64    0.0  0.0  0.0  0.0  0.0  0.0  0.0  0.0  0.0  0.0  ...     0.0     0.0   \n",
       "\n",
       "id    153221  153229  153230  153258  153313  153333  153392  153426  \n",
       "song                                                                  \n",
       "62       0.0     0.0     0.0     0.0     0.0     0.0     0.0     0.0  \n",
       "64       0.0     0.0     0.0     0.0     0.0     0.0     0.0     0.0  \n",
       "\n",
       "[2 rows x 5719 columns]"
      ]
     },
     "metadata": {
      "tags": []
     },
     "output_type": "display_data"
    },
    {
     "data": {
      "text/html": [
       "<div>\n",
       "<style scoped>\n",
       "    .dataframe tbody tr th:only-of-type {\n",
       "        vertical-align: middle;\n",
       "    }\n",
       "\n",
       "    .dataframe tbody tr th {\n",
       "        vertical-align: top;\n",
       "    }\n",
       "\n",
       "    .dataframe thead th {\n",
       "        text-align: right;\n",
       "    }\n",
       "</style>\n",
       "<table border=\"1\" class=\"dataframe\">\n",
       "  <thead>\n",
       "    <tr style=\"text-align: right;\">\n",
       "      <th>id</th>\n",
       "      <th>49</th>\n",
       "      <th>59</th>\n",
       "      <th>92</th>\n",
       "      <th>104</th>\n",
       "      <th>121</th>\n",
       "      <th>129</th>\n",
       "      <th>204</th>\n",
       "      <th>208</th>\n",
       "      <th>252</th>\n",
       "      <th>290</th>\n",
       "      <th>...</th>\n",
       "      <th>153190</th>\n",
       "      <th>153218</th>\n",
       "      <th>153221</th>\n",
       "      <th>153229</th>\n",
       "      <th>153230</th>\n",
       "      <th>153258</th>\n",
       "      <th>153313</th>\n",
       "      <th>153333</th>\n",
       "      <th>153392</th>\n",
       "      <th>153426</th>\n",
       "    </tr>\n",
       "    <tr>\n",
       "      <th>song</th>\n",
       "      <th></th>\n",
       "      <th></th>\n",
       "      <th></th>\n",
       "      <th></th>\n",
       "      <th></th>\n",
       "      <th></th>\n",
       "      <th></th>\n",
       "      <th></th>\n",
       "      <th></th>\n",
       "      <th></th>\n",
       "      <th></th>\n",
       "      <th></th>\n",
       "      <th></th>\n",
       "      <th></th>\n",
       "      <th></th>\n",
       "      <th></th>\n",
       "      <th></th>\n",
       "      <th></th>\n",
       "      <th></th>\n",
       "      <th></th>\n",
       "      <th></th>\n",
       "    </tr>\n",
       "  </thead>\n",
       "  <tbody>\n",
       "    <tr>\n",
       "      <th>707896</th>\n",
       "      <td>0.0</td>\n",
       "      <td>0.0</td>\n",
       "      <td>0.0</td>\n",
       "      <td>0.0</td>\n",
       "      <td>0.0</td>\n",
       "      <td>0.0</td>\n",
       "      <td>0.0</td>\n",
       "      <td>0.0</td>\n",
       "      <td>0.0</td>\n",
       "      <td>0.0</td>\n",
       "      <td>...</td>\n",
       "      <td>0.0</td>\n",
       "      <td>0.0</td>\n",
       "      <td>0.0</td>\n",
       "      <td>0.0</td>\n",
       "      <td>0.0</td>\n",
       "      <td>0.0</td>\n",
       "      <td>0.0</td>\n",
       "      <td>0.0</td>\n",
       "      <td>0.0</td>\n",
       "      <td>0.0</td>\n",
       "    </tr>\n",
       "    <tr>\n",
       "      <th>707960</th>\n",
       "      <td>0.0</td>\n",
       "      <td>0.0</td>\n",
       "      <td>0.0</td>\n",
       "      <td>0.0</td>\n",
       "      <td>0.0</td>\n",
       "      <td>0.0</td>\n",
       "      <td>0.0</td>\n",
       "      <td>0.0</td>\n",
       "      <td>0.0</td>\n",
       "      <td>0.0</td>\n",
       "      <td>...</td>\n",
       "      <td>0.0</td>\n",
       "      <td>0.0</td>\n",
       "      <td>0.0</td>\n",
       "      <td>0.0</td>\n",
       "      <td>0.0</td>\n",
       "      <td>0.0</td>\n",
       "      <td>0.0</td>\n",
       "      <td>0.0</td>\n",
       "      <td>0.0</td>\n",
       "      <td>0.0</td>\n",
       "    </tr>\n",
       "  </tbody>\n",
       "</table>\n",
       "<p>2 rows × 5719 columns</p>\n",
       "</div>"
      ],
      "text/plain": [
       "id       49   59   92  104  121  129  204  208  252  290  ...  153190  153218  \\\n",
       "song                                                      ...                   \n",
       "707896  0.0  0.0  0.0  0.0  0.0  0.0  0.0  0.0  0.0  0.0  ...     0.0     0.0   \n",
       "707960  0.0  0.0  0.0  0.0  0.0  0.0  0.0  0.0  0.0  0.0  ...     0.0     0.0   \n",
       "\n",
       "id      153221  153229  153230  153258  153313  153333  153392  153426  \n",
       "song                                                                    \n",
       "707896     0.0     0.0     0.0     0.0     0.0     0.0     0.0     0.0  \n",
       "707960     0.0     0.0     0.0     0.0     0.0     0.0     0.0     0.0  \n",
       "\n",
       "[2 rows x 5719 columns]"
      ]
     },
     "metadata": {
      "tags": []
     },
     "output_type": "display_data"
    }
   ],
   "source": [
    "print(train_pv.shape)\n",
    "display(train_pv.head(2))\n",
    "display(train_pv.tail(2))"
   ]
  },
  {
   "cell_type": "markdown",
   "metadata": {
    "colab_type": "text",
    "id": "7WD_1prbaoZS"
   },
   "source": [
    "## autoencoder"
   ]
  },
  {
   "cell_type": "code",
   "execution_count": null,
   "metadata": {
    "colab": {},
    "colab_type": "code",
    "id": "eh_qA0WSaoZS",
    "outputId": "1ea5c91f-c821-48e7-c808-5b919442fed6"
   },
   "outputs": [
    {
     "name": "stdout",
     "output_type": "stream",
     "text": [
      "5719\n"
     ]
    }
   ],
   "source": [
    "cf_dic = make_autoencoder(train_pv)"
   ]
  },
  {
   "cell_type": "code",
   "execution_count": null,
   "metadata": {
    "colab": {},
    "colab_type": "code",
    "id": "Xzkkyl5FaoZo",
    "outputId": "86a5b7fb-327b-42e2-bb37-a60a44888a91"
   },
   "outputs": [
    {
     "name": "stdout",
     "output_type": "stream",
     "text": [
      "노래가 하나도 없음 :  1232\n",
      "노래, 태그 둘 다 존재함 :  4190\n",
      "태그가 없음 :  4507\n",
      "둘다 없음 :  811\n"
     ]
    }
   ],
   "source": [
    "no_tag, no_song, yes_index, no_both = check_target_type(val)\n",
    "v1v3_index= no_tag+yes_index"
   ]
  },
  {
   "cell_type": "code",
   "execution_count": null,
   "metadata": {
    "colab": {},
    "colab_type": "code",
    "id": "gxn9fgd6aoZt",
    "outputId": "699ff80b-aa53-4881-a67d-88b6becd986d"
   },
   "outputs": [
    {
     "name": "stdout",
     "output_type": "stream",
     "text": [
      "val year shape (484, 8)\n"
     ]
    }
   ],
   "source": [
    "train['year'] = train['updt_date'].apply( lambda x: int(x[2:4]) )\n",
    "train['date'] = train['updt_date'].apply( lambda x: int(str(x[2:4]) + str(x[5:7])) )\n",
    "val['year'] = val['updt_date'].apply( lambda x: int(x[2:4]) )\n",
    "val['date'] = val['updt_date'].apply( lambda x: int(str(x[2:4]) + str(x[5:7])) )\n",
    "\n",
    "year_list = sorted(list(train['year'].unique()))\n",
    "\n",
    "v1v3 = val[val.index.isin(v1v3_index)]\n",
    "\n",
    "val_tmp = v1v3[v1v3['year'].isin(small_years)]\n",
    "print(\"val year shape\", val_tmp.shape)"
   ]
  },
  {
   "cell_type": "code",
   "execution_count": null,
   "metadata": {
    "colab": {},
    "colab_type": "code",
    "id": "iBrShW17aoZv"
   },
   "outputs": [],
   "source": [
    "date_list = sorted(list(train['date'].unique()))\n",
    "\n",
    "date_dict = {}\n",
    "for i,k in enumerate(date_list):\n",
    "    date_dict[k] = i\n",
    "\n",
    "popular_date_tag = make_popular_date_dict('tags', train, date_list, 13)\n",
    "popular_date_song = make_popular_date_dict('songs', train, date_list, 9)"
   ]
  },
  {
   "cell_type": "code",
   "execution_count": null,
   "metadata": {
    "colab": {},
    "colab_type": "code",
    "id": "zft7dDsvaoZ4"
   },
   "outputs": [],
   "source": [
    "v1v3_predict = pred_v1v3_auto(val_tmp, song_tag_dict, popular_date_tag)\n",
    "write_json(v1v3_predict, 'v1v3_%s_predict.json' %small_years)"
   ]
  }
 ],
 "metadata": {
  "colab": {
   "name": "modeling_v1+v3_noTag+yesAll_autoencoder.ipynb",
   "provenance": []
  },
  "kernelspec": {
   "display_name": "Python 3",
   "language": "python",
   "name": "python3"
  },
  "language_info": {
   "codemirror_mode": {
    "name": "ipython",
    "version": 3
   },
   "file_extension": ".py",
   "mimetype": "text/x-python",
   "name": "python",
   "nbconvert_exporter": "python",
   "pygments_lexer": "ipython3",
   "version": "3.7.7"
  }
 },
 "nbformat": 4,
 "nbformat_minor": 4
}
