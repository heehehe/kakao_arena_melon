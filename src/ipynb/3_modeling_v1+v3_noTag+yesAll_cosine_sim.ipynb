{
 "cells": [
  {
   "cell_type": "code",
   "execution_count": null,
   "metadata": {},
   "outputs": [],
   "source": [
    "### colab 사용 시 실행\n",
    "from google.colab import drive\n",
    "drive.mount('/content/gdrive/')\n",
    "import os\n",
    "os.chdir('gdrive/My Drive/Google Colaboratory/kakao_arena/kakao_arena_melon/src/ipynb')"
   ]
  },
  {
   "cell_type": "code",
   "execution_count": null,
   "metadata": {},
   "outputs": [],
   "source": [
    "import os\n",
    "os.chdir('./../../')\n",
    "from src.basic_utils import *\n",
    "from src.modeling_utils import *\n",
    "from src.pivot_utils import *\n",
    "\n",
    "from sklearn.metrics.pairwise import cosine_similarity"
   ]
  },
  {
   "cell_type": "code",
   "execution_count": null,
   "metadata": {},
   "outputs": [],
   "source": [
    "data_path = 'data/'\n",
    "\n",
    "train = pd.read_parquet(data_path+'train(song_trim).parquet')\n",
    "val = pd.read_json(data_path+'val(lower).json')\n",
    "# test = pd.read_json(data_path+'test(lower).json')\n",
    "# song_meta = load_json(data_path+'song_meta.json')\n",
    "# genre_gn_all = pd.read_json(data_path+'genre_gn_all.json', typ = 'series')\n",
    "\n",
    "### make_file.ipynb 내에서 만들어진 tag_song_dict / song_tag_dict 불러오기\n",
    "# tag_song_dict = load_json(data_path+'tag_song_dict.json')\n",
    "song_tag_dict = load_json(data_path+'song_tag_dict.json')"
   ]
  },
  {
   "cell_type": "code",
   "execution_count": null,
   "metadata": {},
   "outputs": [],
   "source": [
    "no_tag, no_song, yes_index, no_both = check_target_type(val)"
   ]
  },
  {
   "cell_type": "code",
   "execution_count": null,
   "metadata": {},
   "outputs": [],
   "source": [
    "v1v3_index = no_tag + yes_index\n",
    "\n",
    "train['year'] = train['updt_date'].apply(lambda x: int(x[2:4]))\n",
    "train['date'] = train['updt_date'].apply(lambda x: int(str(x[2:4]) + str(x[5:7])) )\n",
    "val['year'] = val['updt_date'].apply(lambda x: int(x[2:4]))\n",
    "val['date'] = val['updt_date'].apply(lambda x: int(str(x[2:4]) + str(x[5:7])) )\n",
    "\n",
    "year_list = list(train['year'].unique())\n",
    "year_list= sorted(year_list)\n",
    "\n",
    "v1v3 = val[val.index.isin(v1v3_index)]\n",
    "\n",
    "small_years =  [14]\n",
    "val_tmp = v1v3[v1v3['year'].isin(small_years)]\n",
    "print(\"val year shape\", val_tmp.shape)"
   ]
  },
  {
   "cell_type": "code",
   "execution_count": null,
   "metadata": {},
   "outputs": [],
   "source": [
    "date_list = sorted(list(train['date'].unique()))\n",
    "date_dict = {}\n",
    "for i,k in enumerate(date_list):\n",
    "    date_dict[k] = i\n",
    "\n",
    "popular_date_tag = make_popular_date_dict('tags', train, date_list, 13)\n",
    "popular_date_song = make_popular_date_dict('songs', train, date_list, 9)      "
   ]
  },
  {
   "cell_type": "code",
   "execution_count": null,
   "metadata": {},
   "outputs": [],
   "source": [
    "tmp = train[(train['year'].isin(small_years))]\n",
    "like_num = int(np.percentile(tmp['like_cnt'], 70))\n",
    "tmp = tmp[(tmp['like_cnt'] > like_num)]\n",
    "print(\"train best playlist\", tmp.shape)\n",
    "print('train+valid = ', tmp.shape[0]+val_tmp.shape[0])"
   ]
  },
  {
   "cell_type": "code",
   "execution_count": null,
   "metadata": {},
   "outputs": [],
   "source": [
    "before_tmp = before_pivot(tmp)\n",
    "\n",
    "## train만 1보다 작은 노래는 없애준다.\n",
    "tmp_dict = before_tmp['song'].value_counts().to_dict()\n",
    "before_tmp['count']= before_tmp['song'].apply(lambda x : tmp_dict[x])\n",
    "before_tmp = before_tmp[before_tmp['count'] > 1]\n",
    "print(before_tmp.shape)\n",
    "\n",
    "before_val_tmp = before_pivot(val_tmp)"
   ]
  },
  {
   "cell_type": "code",
   "execution_count": null,
   "metadata": {},
   "outputs": [],
   "source": [
    "final_result = pd.concat([before_tmp, before_val_tmp])\n",
    "del before_tmp, before_val_tmp\n",
    "gc.collect()"
   ]
  },
  {
   "cell_type": "code",
   "execution_count": null,
   "metadata": {},
   "outputs": [],
   "source": [
    "cf_dic = make_cosine_predict(final_result)"
   ]
  },
  {
   "cell_type": "code",
   "execution_count": null,
   "metadata": {},
   "outputs": [],
   "source": [
    "v1v3_predict = pred_v1v3_cosine(val_tmp, song_tag_dict, popular_date_tag)\n",
    "write_json(v1v3_predict, data_path+'v1v3_'+str(small_years)+'.json')"
   ]
  }
 ],
 "metadata": {
  "kernelspec": {
   "display_name": "Python 3",
   "language": "python",
   "name": "python3"
  },
  "language_info": {
   "codemirror_mode": {
    "name": "ipython",
    "version": 3
   },
   "file_extension": ".py",
   "mimetype": "text/x-python",
   "name": "python",
   "nbconvert_exporter": "python",
   "pygments_lexer": "ipython3",
   "version": "3.7.7"
  }
 },
 "nbformat": 4,
 "nbformat_minor": 4
}
