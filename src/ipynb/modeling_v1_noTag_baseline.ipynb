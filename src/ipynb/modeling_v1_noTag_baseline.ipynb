{
 "cells": [
  {
   "cell_type": "markdown",
   "metadata": {
    "colab_type": "text",
    "id": "vm-guxKMq7rW"
   },
   "source": [
    "###패키지 import & data 불러오기"
   ]
  },
  {
   "cell_type": "code",
   "execution_count": 1,
   "metadata": {
    "colab": {
     "base_uri": "https://localhost:8080/",
     "height": 121
    },
    "colab_type": "code",
    "executionInfo": {
     "elapsed": 79730,
     "status": "ok",
     "timestamp": 1595761523240,
     "user": {
      "displayName": "‍전희선[학생](응용과학대학 응용수학과)",
      "photoUrl": "",
      "userId": "01270668663038427257"
     },
     "user_tz": -540
    },
    "id": "oaNKqOjlqVJw",
    "outputId": "591068f8-46d3-4e42-ee35-bbb6652493ea"
   },
   "outputs": [
    {
     "name": "stdout",
     "output_type": "stream",
     "text": [
      "Go to this URL in a browser: https://accounts.google.com/o/oauth2/auth?client_id=947318989803-6bn6qk8qdgf4n4g3pfee6491hc0brc4i.apps.googleusercontent.com&redirect_uri=urn%3aietf%3awg%3aoauth%3a2.0%3aoob&response_type=code&scope=email%20https%3a%2f%2fwww.googleapis.com%2fauth%2fdocs.test%20https%3a%2f%2fwww.googleapis.com%2fauth%2fdrive%20https%3a%2f%2fwww.googleapis.com%2fauth%2fdrive.photos.readonly%20https%3a%2f%2fwww.googleapis.com%2fauth%2fpeopleapi.readonly\n",
      "\n",
      "Enter your authorization code:\n",
      "··········\n",
      "Mounted at /content/gdrive/\n"
     ]
    }
   ],
   "source": [
    "### colab 사용 시 실행\n",
    "from google.colab import drive\n",
    "drive.mount('/content/gdrive/', force_remount=True)\n",
    "import os\n",
    "gdrive_path = '/content/gdrive/My Drive/Google Colaboratory/kakao_arena/kakao_arena_melon/'\n",
    "os.chdir(gdrive_path)   # google drive 내 위치"
   ]
  },
  {
   "cell_type": "code",
   "execution_count": 2,
   "metadata": {
    "colab": {},
    "colab_type": "code",
    "executionInfo": {
     "elapsed": 1879,
     "status": "ok",
     "timestamp": 1595761532053,
     "user": {
      "displayName": "‍전희선[학생](응용과학대학 응용수학과)",
      "photoUrl": "",
      "userId": "01270668663038427257"
     },
     "user_tz": -540
    },
    "id": "gY4-t0GHqQMT"
   },
   "outputs": [],
   "source": [
    "from src.basic_utils import *\n",
    "from src.modeling_utils import *\n",
    "\n",
    "from sklearn.metrics.pairwise import cosine_similarity\n",
    "# from scipy.sparse.linalg import svds\n",
    "# import pickle #psutil, "
   ]
  },
  {
   "cell_type": "code",
   "execution_count": 3,
   "metadata": {
    "colab": {},
    "colab_type": "code",
    "executionInfo": {
     "elapsed": 29736,
     "status": "ok",
     "timestamp": 1595761591857,
     "user": {
      "displayName": "‍전희선[학생](응용과학대학 응용수학과)",
      "photoUrl": "",
      "userId": "01270668663038427257"
     },
     "user_tz": -540
    },
    "id": "F2aghyXDg3du"
   },
   "outputs": [],
   "source": [
    "data_path = 'data/'\n",
    "\n",
    "train = pd.read_json(data_path+'train.json')\n",
    "val = pd.read_json(data_path+'val.json')\n",
    "test = pd.read_json(data_path+'test.json')\n",
    "song_meta = load_json(data_path+'song_meta.json')\n",
    "# genre_gn_all = pd.read_json(data_path+'genre_gn_all.json', typ = 'series')\n",
    "\n",
    "### make_file.ipynb 내에서 만들어진 tag_song_dict / song_tag_dict 불러오기\n",
    "tag_song_dict = load_json(data_path+'tag_song_dict.json')\n",
    "song_tag_dict = load_json(data_path+'song_tag_dict.json')"
   ]
  },
  {
   "cell_type": "markdown",
   "metadata": {
    "colab_type": "text",
    "id": "0tm9SRO4xcfq"
   },
   "source": [
    "### data preprocessing"
   ]
  },
  {
   "cell_type": "code",
   "execution_count": 4,
   "metadata": {
    "colab": {},
    "colab_type": "code",
    "executionInfo": {
     "elapsed": 21976,
     "status": "ok",
     "timestamp": 1595761593651,
     "user": {
      "displayName": "‍전희선[학생](응용과학대학 응용수학과)",
      "photoUrl": "",
      "userId": "01270668663038427257"
     },
     "user_tz": -540
    },
    "id": "LrXlWv8vg3dx"
   },
   "outputs": [],
   "source": [
    "## year 생성 (실제 년도 - 4)\n",
    "train['year'] = train['updt_date'].apply(lambda x: int(x[2:4]) - 4)\n",
    "year_list = sorted(list(train['year'].unique()))\n",
    "\n",
    "## 연도별 most popular 노래 및 태그 dict 생성\n",
    "popular_year = []\n",
    "for i in year_list:\n",
    "    tmp = train[train['year'] == i]\n",
    "    _, year_song = most_popular(tmp, \"songs\", 200)\n",
    "    _, year_tag = most_popular(tmp, \"tags\", 100)\n",
    "    popular_year.append({\n",
    "        \"year\" : i,\n",
    "        \"songs\" : year_song,\n",
    "        \"tags\" : year_tag,})"
   ]
  },
  {
   "cell_type": "code",
   "execution_count": 11,
   "metadata": {
    "colab": {},
    "colab_type": "code",
    "executionInfo": {
     "elapsed": 3187,
     "status": "ok",
     "timestamp": 1595762182555,
     "user": {
      "displayName": "‍전희선[학생](응용과학대학 응용수학과)",
      "photoUrl": "",
      "userId": "01270668663038427257"
     },
     "user_tz": -540
    },
    "id": "n30t-0aj05ds"
   },
   "outputs": [],
   "source": [
    "train['date'] = train['updt_date'].apply(lambda x: int(str(x[2:4]) + str(x[5:7])) )    # 연도+월\n",
    "train['year'] = train['updt_date'].apply(lambda x: int(x[2:4]))                                    # 연도\n",
    "val['date'] = val['updt_date'].apply(lambda x: int(str(x[2:4]) + str(x[5:7])) )\n",
    "val['year'] = val['updt_date'].apply(lambda x: int(x[2:4]))\n",
    "test['date'] = test['updt_date'].apply(lambda x: int(str(x[2:4]) + str(x[5:7])) )\n",
    "test['year'] = test['updt_date'].apply(lambda x: int(x[2:4]))\n",
    "\n",
    "date_list = list(train['date'].unique())\n",
    "date_list= sorted(date_list)\n",
    "\n",
    "date_dict = {}       # 해당 연도+월 에 index 부여(?)\n",
    "for i,k in enumerate(date_list):\n",
    "    date_dict[k] = i\n",
    "\n",
    "def make_popular_date_dict(var, data, date_list, thres):\n",
    "    popular_date_dict = []\n",
    "    for i in range(len(date_list)):\n",
    "        if i <= thres:\n",
    "            year = int(str(date_list[i])[0])\n",
    "            tmp = data[data['year'] == year]\n",
    "        else:\n",
    "            tmp = data[data['date'] == date_list[i]]\n",
    "        _, most_var = most_popular(tmp, var, 100)\n",
    "        popular_date_dict.append({\n",
    "            \"date\" : date_list[i],\n",
    "            var : most_var,\n",
    "        })\n",
    "    return popular_date_dict\n",
    "\n",
    "popular_date_tag = make_popular_date_dict('tags', train, date_list, 13)\n",
    "popular_date_song = make_popular_date_dict('songs', train, date_list, 9)"
   ]
  },
  {
   "cell_type": "code",
   "execution_count": 5,
   "metadata": {
    "colab": {},
    "colab_type": "code",
    "executionInfo": {
     "elapsed": 21274,
     "status": "ok",
     "timestamp": 1595761595393,
     "user": {
      "displayName": "‍전희선[학생](응용과학대학 응용수학과)",
      "photoUrl": "",
      "userId": "01270668663038427257"
     },
     "user_tz": -540
    },
    "id": "Au1EZv4ig3d1"
   },
   "outputs": [],
   "source": [
    "# train 내 popular 태그 및 노래 counter, list 추출\n",
    "tag_mp_counter, tag_mp = most_popular(train, \"tags\", 100)\n",
    "song_mp_counter, song_mp = most_popular(train, \"songs\", 200)"
   ]
  },
  {
   "cell_type": "code",
   "execution_count": 6,
   "metadata": {
    "colab": {},
    "colab_type": "code",
    "executionInfo": {
     "elapsed": 17883,
     "status": "ok",
     "timestamp": 1595761595394,
     "user": {
      "displayName": "‍전희선[학생](응용과학대학 응용수학과)",
      "photoUrl": "",
      "userId": "01270668663038427257"
     },
     "user_tz": -540
    },
    "id": "eic_r0U0g3d4"
   },
   "outputs": [],
   "source": [
    "# song_meta를 노래별 dict 형식으로 변환\n",
    "song_meta_dict = {int(song[\"id\"]): song for song in song_meta}"
   ]
  },
  {
   "cell_type": "code",
   "execution_count": null,
   "metadata": {
    "colab": {},
    "colab_type": "code",
    "id": "D4ZFrCCDg3d_"
   },
   "outputs": [],
   "source": [
    "## 장르 소분류별 노래 id dict\n",
    "song_mp_per_genre_dtl = {}\n",
    "for sid, song in song_meta_dict.items():\n",
    "    for genres in song['song_gn_dtl_gnr_basket']:\n",
    "        for genre in [genres]:\n",
    "            song_mp_per_genre_dtl.setdefault(genre, []).append(sid)\n",
    "        ## 특정 장르에 해당하는 모든 음악을 담은 데이터 => res\n",
    "\n",
    "## 장르 대분류별 노래 id dict\n",
    "song_mp_per_genre = {}\n",
    "for sid, song in song_meta_dict.items():\n",
    "    for genre in song['song_gn_gnr_basket']:\n",
    "        song_mp_per_genre.setdefault(genre, []).append(sid)\n",
    "        ## 특정 장르에 해당하는 모든 음악을 담은 데이터 => res"
   ]
  },
  {
   "cell_type": "code",
   "execution_count": null,
   "metadata": {
    "colab": {},
    "colab_type": "code",
    "id": "RrQegb90g3eC"
   },
   "outputs": [],
   "source": [
    "for genre, sids in song_mp_per_genre_dtl.items():\n",
    "    ## 각 장르에 해당하는 노래 중에서 가장 많이 반복되는 상위 200개 노래들만 남김 \n",
    "    song_mp_per_genre_dtl[genre] = Counter({k: song_mp_counter.get(int(k), 0) for k in sids})\n",
    "    song_mp_per_genre_dtl[genre] = [k for k, v in song_mp_per_genre_dtl[genre].most_common(200)]\n",
    "    if len(song_mp_per_genre_dtl[genre]) < 200:\n",
    "        ## 200개 미만일 경우 장르 대분류에\n",
    "        add = 300-len(song_mp_per_genre_dtl[genre])\n",
    "        big_genre = genre[:4] + '00'\n",
    "        song_mp_per_genre_dtl[genre].extend([k for k, v in Counter(song_mp_per_genre[big_genre]).most_common(add)]) ## 부족한 거 채워주고"
   ]
  },
  {
   "cell_type": "markdown",
   "metadata": {
    "colab_type": "text",
    "id": "k1lbOtN0xikZ"
   },
   "source": [
    "### predict validation"
   ]
  },
  {
   "cell_type": "code",
   "execution_count": 12,
   "metadata": {
    "colab": {
     "base_uri": "https://localhost:8080/",
     "height": 151
    },
    "colab_type": "code",
    "executionInfo": {
     "elapsed": 14495,
     "status": "ok",
     "timestamp": 1595762199915,
     "user": {
      "displayName": "‍전희선[학생](응용과학대학 응용수학과)",
      "photoUrl": "",
      "userId": "01270668663038427257"
     },
     "user_tz": -540
    },
    "id": "n-8GL_4Eg3eI",
    "outputId": "4600ab5e-8e91-4fc2-bbb2-9d08520cab51"
   },
   "outputs": [
    {
     "name": "stdout",
     "output_type": "stream",
     "text": [
      "노래 O 태그 X : 9661개\n",
      "노래 X 태그 O : 2630개\n",
      "노래 O 태그 O : 8975개\n",
      "노래 X 태그 X : 1749개\n",
      "노래 O 태그 X : 4507개\n",
      "노래 X 태그 O : 1232개\n",
      "노래 O 태그 O : 4190개\n",
      "노래 X 태그 X : 811개\n"
     ]
    }
   ],
   "source": [
    "val['year'] = val['updt_date'].apply(lambda x: int(x[2:4]) - 4)\n",
    "test['year'] = test['updt_date'].apply(lambda x: int(x[2:4]) - 4)\n",
    "\n",
    "no_tag, no_song, yes_index, no_both = check_target_type(val)\n",
    "val1 = val[val.index.isin(no_tag)]\n",
    "\n",
    "no_tag, no_song, yes_index, no_both = check_target_type(test)\n",
    "test1 = test[test.index.isin(no_tag)]"
   ]
  },
  {
   "cell_type": "code",
   "execution_count": 15,
   "metadata": {
    "colab": {},
    "colab_type": "code",
    "executionInfo": {
     "elapsed": 965,
     "status": "ok",
     "timestamp": 1595762208088,
     "user": {
      "displayName": "‍전희선[학생](응용과학대학 응용수학과)",
      "photoUrl": "",
      "userId": "01270668663038427257"
     },
     "user_tz": -540
    },
    "id": "oeyNTREz0Jrf"
   },
   "outputs": [],
   "source": [
    "def add_var1(date, var1, var2_list, var2_var1_dict, popular_date_var1, cur_var1):\n",
    "    var1_counter = Counter()\n",
    "    for v2 in var2_list:\n",
    "        if str(v2) in var2_var1_dict:\n",
    "            for v1 in var2_var1_dict[str(v2)]:\n",
    "                var1_counter.update({var1 : 1})\n",
    "    var1_counter = sorted(var1_counter.items(), key=lambda x : x[1], reverse=True)\n",
    "    for k in var1_counter[:100]:\n",
    "        if k[0] not in cur_var1:\n",
    "            cur_var1.append(k[0])\n",
    "    if len(cur_var1) == 0:\n",
    "        cur_var1 = popular_date_var1[date][var1][:100]\n",
    "    elif len(cur_var1) < 100:\n",
    "        update_var1 = remove_seen(cur_var1, popular_date_var1[date][var1])\n",
    "        update_var1 = [u for u in update_var1 if u not in cur_var1]\n",
    "        cur_var1.extend(update_var1)\n",
    "    return cur_var1"
   ]
  },
  {
   "cell_type": "code",
   "execution_count": 18,
   "metadata": {
    "colab": {},
    "colab_type": "code",
    "executionInfo": {
     "elapsed": 739,
     "status": "ok",
     "timestamp": 1595762514430,
     "user": {
      "displayName": "‍전희선[학생](응용과학대학 응용수학과)",
      "photoUrl": "",
      "userId": "01270668663038427257"
     },
     "user_tz": -540
    },
    "id": "Ll5p800w0Jny"
   },
   "outputs": [],
   "source": [
    "def pred_v1(data):\n",
    "    pred_list = []\n",
    "    for i in tqdm(data.index):\n",
    "        date = date_dict[data.loc[i]['date']]\n",
    "        cur_tag = []\n",
    "        cur_tag = add_var1(date, 'tags', data.loc[i]['songs'], song_tag_dict, popular_date_tag, cur_tag)[:10]\n",
    "        cur_song = []\n",
    "        cur_song = add_var1(date, 'songs', cur_tag[:10], tag_song_dict, popular_date_song, cur_song)\n",
    "        cur_song = remove_seen(data.loc[i]['songs'], cur_song)[:100]\n",
    "        pred_list.append({\n",
    "            \"id\" : data.loc[i]['id'],\n",
    "            \"songs\": cur_song,\n",
    "            \"tags\": cur_tag,\n",
    "        })\n",
    "    return pred_list"
   ]
  },
  {
   "cell_type": "code",
   "execution_count": null,
   "metadata": {
    "colab": {},
    "colab_type": "code",
    "id": "PGb_qS-y0Jky"
   },
   "outputs": [],
   "source": [
    "val1_predict = pred_v1(val1)"
   ]
  },
  {
   "cell_type": "code",
   "execution_count": null,
   "metadata": {
    "colab": {
     "base_uri": "https://localhost:8080/",
     "height": 1000
    },
    "colab_type": "code",
    "id": "aTYrWZ9F0JXj",
    "outputId": "1e21deef-5daf-4f10-c5af-dfc1be22116a"
   },
   "outputs": [],
   "source": [
    "test1_predict = pred_v1(test1)"
   ]
  },
  {
   "cell_type": "markdown",
   "metadata": {
    "colab_type": "text",
    "id": "AlxqsQ0Ig3eH"
   },
   "source": [
    "#### val1 : 태그가 없는 케이스"
   ]
  },
  {
   "cell_type": "code",
   "execution_count": null,
   "metadata": {
    "colab": {
     "base_uri": "https://localhost:8080/",
     "height": 195
    },
    "colab_type": "code",
    "executionInfo": {
     "elapsed": 8968,
     "status": "ok",
     "timestamp": 1595511600290,
     "user": {
      "displayName": "‍전희선[학생](응용과학대학 응용수학과)",
      "photoUrl": "",
      "userId": "01270668663038427257"
     },
     "user_tz": -540
    },
    "id": "Gv8TYkxcg3eL",
    "outputId": "2794b2de-b295-4635-82c6-13e15eaef096"
   },
   "outputs": [
    {
     "data": {
      "text/html": [
       "<div>\n",
       "<style scoped>\n",
       "    .dataframe tbody tr th:only-of-type {\n",
       "        vertical-align: middle;\n",
       "    }\n",
       "\n",
       "    .dataframe tbody tr th {\n",
       "        vertical-align: top;\n",
       "    }\n",
       "\n",
       "    .dataframe thead th {\n",
       "        text-align: right;\n",
       "    }\n",
       "</style>\n",
       "<table border=\"1\" class=\"dataframe\">\n",
       "  <thead>\n",
       "    <tr style=\"text-align: right;\">\n",
       "      <th></th>\n",
       "      <th>tags</th>\n",
       "      <th>id</th>\n",
       "      <th>plylst_title</th>\n",
       "      <th>songs</th>\n",
       "      <th>like_cnt</th>\n",
       "      <th>updt_date</th>\n",
       "      <th>year</th>\n",
       "    </tr>\n",
       "  </thead>\n",
       "  <tbody>\n",
       "    <tr>\n",
       "      <th>0</th>\n",
       "      <td>[]</td>\n",
       "      <td>118598</td>\n",
       "      <td></td>\n",
       "      <td>[373313, 151080, 275346, 696876, 165237, 52593...</td>\n",
       "      <td>1675</td>\n",
       "      <td>2019-05-27 14:14:33.000</td>\n",
       "      <td>15</td>\n",
       "    </tr>\n",
       "    <tr>\n",
       "      <th>2</th>\n",
       "      <td>[]</td>\n",
       "      <td>51464</td>\n",
       "      <td></td>\n",
       "      <td>[529437, 516103, 360067, 705713, 226062, 37089...</td>\n",
       "      <td>62</td>\n",
       "      <td>2008-06-21 23:26:22.000</td>\n",
       "      <td>4</td>\n",
       "    </tr>\n",
       "    <tr>\n",
       "      <th>3</th>\n",
       "      <td>[]</td>\n",
       "      <td>45144</td>\n",
       "      <td></td>\n",
       "      <td>[589668, 21711, 570151, 320043, 13930, 599327,...</td>\n",
       "      <td>20</td>\n",
       "      <td>2017-10-30 18:15:43.000</td>\n",
       "      <td>13</td>\n",
       "    </tr>\n",
       "    <tr>\n",
       "      <th>4</th>\n",
       "      <td>[]</td>\n",
       "      <td>79929</td>\n",
       "      <td></td>\n",
       "      <td>[672718, 121924, 102694, 683657, 201558, 38511...</td>\n",
       "      <td>20</td>\n",
       "      <td>2017-02-07 11:40:42.000</td>\n",
       "      <td>13</td>\n",
       "    </tr>\n",
       "    <tr>\n",
       "      <th>6</th>\n",
       "      <td>[]</td>\n",
       "      <td>127575</td>\n",
       "      <td></td>\n",
       "      <td>[227044, 424672, 515592, 22408, 57893, 153714,...</td>\n",
       "      <td>2</td>\n",
       "      <td>2011-10-28 11:21:51.000</td>\n",
       "      <td>7</td>\n",
       "    </tr>\n",
       "  </tbody>\n",
       "</table>\n",
       "</div>"
      ],
      "text/plain": [
       "  tags      id plylst_title  ... like_cnt                updt_date year\n",
       "0   []  118598               ...     1675  2019-05-27 14:14:33.000   15\n",
       "2   []   51464               ...       62  2008-06-21 23:26:22.000    4\n",
       "3   []   45144               ...       20  2017-10-30 18:15:43.000   13\n",
       "4   []   79929               ...       20  2017-02-07 11:40:42.000   13\n",
       "6   []  127575               ...        2  2011-10-28 11:21:51.000    7\n",
       "\n",
       "[5 rows x 7 columns]"
      ]
     },
     "execution_count": 19,
     "metadata": {
      "tags": []
     },
     "output_type": "execute_result"
    }
   ],
   "source": [
    "val1 = val[val.index.isin(no_tag)]\n",
    "# val1.reset_index(inplace = True, drop = True)\n",
    "val1.head()"
   ]
  },
  {
   "cell_type": "code",
   "execution_count": null,
   "metadata": {
    "colab": {},
    "colab_type": "code",
    "id": "fdBebRtag3eO"
   },
   "outputs": [],
   "source": [
    "##### 연도별 나눠서 자동으로 되도록 재구성 필요\n",
    "### ex : 16년도 예측\n",
    "train_years =  [i for i in range(0,17)]\n",
    "small_years =  [16]"
   ]
  },
  {
   "cell_type": "code",
   "execution_count": null,
   "metadata": {
    "colab": {
     "base_uri": "https://localhost:8080/",
     "height": 67
    },
    "colab_type": "code",
    "executionInfo": {
     "elapsed": 660,
     "status": "ok",
     "timestamp": 1595511602628,
     "user": {
      "displayName": "‍전희선[학생](응용과학대학 응용수학과)",
      "photoUrl": "",
      "userId": "01270668663038427257"
     },
     "user_tz": -540
    },
    "id": "uMRE8tHtg3eQ",
    "outputId": "a23fcc2d-1c6c-4c68-f430-d2187972dec7"
   },
   "outputs": [
    {
     "name": "stdout",
     "output_type": "stream",
     "text": [
      "val year shape (1014, 7)\n",
      "train best playlist (5743, 7)\n",
      "train+valid= 6757\n"
     ]
    }
   ],
   "source": [
    "val_tmp = val1[val1['year'].isin(small_years)]\n",
    "# val_tmp.reset_index(inplace = True, drop = True)\n",
    "print(\"val year shape\", val_tmp.shape)\n",
    "\n",
    "# print(\"train year\", train[(train['year'].isin(train_years))].shape)\n",
    "tmp = train[(train['year'].isin(train_years))]\n",
    "like_num = int(np.percentile(tmp['like_cnt'], 95))\n",
    "\n",
    "tmp = tmp[(tmp['like_cnt'] > like_num)]\n",
    "# tmp.reset_index(inplace = True, drop = True)\n",
    "print(\"train best playlist\", tmp.shape)\n",
    "print('train+valid=', tmp.shape[0]+val_tmp.shape[0])"
   ]
  },
  {
   "cell_type": "code",
   "execution_count": null,
   "metadata": {
    "colab": {
     "base_uri": "https://localhost:8080/",
     "height": 50
    },
    "colab_type": "code",
    "executionInfo": {
     "elapsed": 468392,
     "status": "ok",
     "timestamp": 1595512074261,
     "user": {
      "displayName": "‍전희선[학생](응용과학대학 응용수학과)",
      "photoUrl": "",
      "userId": "01270668663038427257"
     },
     "user_tz": -540
    },
    "id": "c58ypEMrg3eT",
    "outputId": "1c3e514b-c77a-4549-f2f5-ce6c2e643dd8"
   },
   "outputs": [
    {
     "name": "stderr",
     "output_type": "stream",
     "text": [
      "100%|██████████| 5743/5743 [07:15<00:00, 13.18it/s]\n"
     ]
    },
    {
     "name": "stdout",
     "output_type": "stream",
     "text": [
      "(439729, 3)\n"
     ]
    }
   ],
   "source": [
    "def before_pivot(data):\n",
    "    # id별 포함된 노래 id dataframe 생성\n",
    "    ## 속도가 느리므로 개선 필요해보임\n",
    "    result = []\n",
    "    for i in tqdm(data.index):\n",
    "        for song in data.loc[i]['songs']:\n",
    "            df = pd.DataFrame({\n",
    "                        'id' : [data.loc[i]['id']],\n",
    "                        'song' : [song],\n",
    "                        'point' : 1\n",
    "                    })\n",
    "            result += [df]\n",
    "    final_result = pd.concat(result)\n",
    "    print(final_result.shape)\n",
    "    return final_result\n",
    "\n",
    "before_tmp = before_pivot(tmp)"
   ]
  },
  {
   "cell_type": "code",
   "execution_count": null,
   "metadata": {
    "colab": {
     "base_uri": "https://localhost:8080/",
     "height": 34
    },
    "colab_type": "code",
    "executionInfo": {
     "elapsed": 1181,
     "status": "ok",
     "timestamp": 1595512075466,
     "user": {
      "displayName": "‍전희선[학생](응용과학대학 응용수학과)",
      "photoUrl": "",
      "userId": "01270668663038427257"
     },
     "user_tz": -540
    },
    "id": "i1IWc-5Eg3eW",
    "outputId": "6cfb0c76-d391-4477-a656-af3e258d615b"
   },
   "outputs": [
    {
     "name": "stdout",
     "output_type": "stream",
     "text": [
      "(343550, 4)\n"
     ]
    }
   ],
   "source": [
    "## train만 1보다 작은 노래는 없애준다.\n",
    "tmp_dict = before_tmp['song'].value_counts().to_dict()\n",
    "before_tmp['count']= before_tmp['song'].apply(lambda x : tmp_dict[x])\n",
    "before_tmp = before_tmp[before_tmp['count'] > 1]\n",
    "print(before_tmp.shape)"
   ]
  },
  {
   "cell_type": "code",
   "execution_count": null,
   "metadata": {
    "colab": {},
    "colab_type": "code",
    "id": "UcGUOIQJg3eZ",
    "outputId": "42e305c6-1e1d-463f-cee7-f2cade4425ae"
   },
   "outputs": [
    {
     "data": {
      "text/html": [
       "<div>\n",
       "<style scoped>\n",
       "    .dataframe tbody tr th:only-of-type {\n",
       "        vertical-align: middle;\n",
       "    }\n",
       "\n",
       "    .dataframe tbody tr th {\n",
       "        vertical-align: top;\n",
       "    }\n",
       "\n",
       "    .dataframe thead th {\n",
       "        text-align: right;\n",
       "    }\n",
       "</style>\n",
       "<table border=\"1\" class=\"dataframe\">\n",
       "  <thead>\n",
       "    <tr style=\"text-align: right;\">\n",
       "      <th></th>\n",
       "      <th>id</th>\n",
       "      <th>song</th>\n",
       "      <th>point</th>\n",
       "      <th>count</th>\n",
       "    </tr>\n",
       "  </thead>\n",
       "  <tbody>\n",
       "    <tr>\n",
       "      <th>0</th>\n",
       "      <td>69252</td>\n",
       "      <td>418694</td>\n",
       "      <td>1</td>\n",
       "      <td>27</td>\n",
       "    </tr>\n",
       "    <tr>\n",
       "      <th>0</th>\n",
       "      <td>69252</td>\n",
       "      <td>222305</td>\n",
       "      <td>1</td>\n",
       "      <td>49</td>\n",
       "    </tr>\n",
       "    <tr>\n",
       "      <th>0</th>\n",
       "      <td>69252</td>\n",
       "      <td>96545</td>\n",
       "      <td>1</td>\n",
       "      <td>14</td>\n",
       "    </tr>\n",
       "    <tr>\n",
       "      <th>0</th>\n",
       "      <td>69252</td>\n",
       "      <td>135950</td>\n",
       "      <td>1</td>\n",
       "      <td>32</td>\n",
       "    </tr>\n",
       "    <tr>\n",
       "      <th>0</th>\n",
       "      <td>69252</td>\n",
       "      <td>304687</td>\n",
       "      <td>1</td>\n",
       "      <td>9</td>\n",
       "    </tr>\n",
       "  </tbody>\n",
       "</table>\n",
       "</div>"
      ],
      "text/plain": [
       "      id    song  point  count\n",
       "0  69252  418694      1     27\n",
       "0  69252  222305      1     49\n",
       "0  69252   96545      1     14\n",
       "0  69252  135950      1     32\n",
       "0  69252  304687      1      9"
      ]
     },
     "execution_count": 36,
     "metadata": {
      "tags": []
     },
     "output_type": "execute_result"
    }
   ],
   "source": [
    "before_tmp.head()"
   ]
  },
  {
   "cell_type": "code",
   "execution_count": null,
   "metadata": {
    "colab": {
     "base_uri": "https://localhost:8080/",
     "height": 34
    },
    "colab_type": "code",
    "executionInfo": {
     "elapsed": 476637,
     "status": "ok",
     "timestamp": 1595090131881,
     "user": {
      "displayName": "‍전희선[학생](응용과학대학 응용수학과)",
      "photoUrl": "",
      "userId": "01270668663038427257"
     },
     "user_tz": -540
    },
    "id": "vMa_xuTgg3eb",
    "outputId": "e1d5cf8c-cf37-4e86-8ff5-38694aa11294"
   },
   "outputs": [
    {
     "name": "stdout",
     "output_type": "stream",
     "text": [
      "(32188, 3)\n"
     ]
    }
   ],
   "source": [
    "before_val_tmp = before_pivot(val_tmp)"
   ]
  },
  {
   "cell_type": "code",
   "execution_count": null,
   "metadata": {
    "colab": {
     "base_uri": "https://localhost:8080/",
     "height": 34
    },
    "colab_type": "code",
    "executionInfo": {
     "elapsed": 475494,
     "status": "ok",
     "timestamp": 1595090133331,
     "user": {
      "displayName": "‍전희선[학생](응용과학대학 응용수학과)",
      "photoUrl": "",
      "userId": "01270668663038427257"
     },
     "user_tz": -540
    },
    "id": "Thc1j1iVg3ee",
    "outputId": "f796a4c6-545e-4a7a-944f-5999f27fe0d8"
   },
   "outputs": [
    {
     "data": {
      "text/plain": [
       "0"
      ]
     },
     "execution_count": 18,
     "metadata": {
      "tags": []
     },
     "output_type": "execute_result"
    }
   ],
   "source": [
    "final_result = pd.concat([before_tmp, before_val_tmp])\n",
    "del before_tmp, before_val_tmp\n",
    "gc.collect()"
   ]
  },
  {
   "cell_type": "code",
   "execution_count": null,
   "metadata": {
    "colab": {},
    "colab_type": "code",
    "id": "0HH0bDZdg3eh"
   },
   "outputs": [],
   "source": [
    "### colab에서 RAM 초과 오류 발생\n",
    "def make_cosine_predict(final_result):\n",
    "    R_df = final_result.pivot(index = 'id', columns ='song', values = 'point').fillna(0)\n",
    "    del final_result\n",
    "    \n",
    "    ##### 코사인 유사도 계산\n",
    "    print(\"make cosine data\")\n",
    "    cosine_array = cosine_similarity(R_df, R_df)\n",
    "    predicted_array = np.zeros(shape=(len(R_df.index), len(R_df.columns))) \n",
    "    for i in tqdm(range(len(cosine_array))):\n",
    "        top_200 = cosine_array[i].argsort()[-201:][::-1]\n",
    "        top_200 = np.delete(top_200, 0)\n",
    "        weighted_sum = np.array([0])\n",
    "        for top_idx in top_200:\n",
    "            weighted_sum = weighted_sum + (cosine_array[i][top_idx] * R_df.values[top_idx])\n",
    "        predicted = weighted_sum / len(top_200)\n",
    "        predicted_array[i] = predicted\n",
    "        gc.collect()\n",
    "    iu_predicted = R_df.values*(-99999) + predicted_array     # 기존 pivot table에 predicted array 더한 결과\n",
    "    \n",
    "    ##### 플레이리스트 id별 코사인 유사도 높은 상위 200곡 dict 생성\n",
    "    print(\"make dic data\")\n",
    "    cf_dic = {}\n",
    "    for i in range(len(iu_predicted)):\n",
    "        cf_dic[R_df.index[i]] = R_df.columns[iu_predicted[i].argsort()[-200:][::-1]].tolist()    \n",
    "        gc.collect()\n",
    "    return cf_dic\n",
    "\n",
    "cf_dic = make_cosine_predict(final_result)"
   ]
  },
  {
   "cell_type": "code",
   "execution_count": null,
   "metadata": {
    "colab": {},
    "colab_type": "code",
    "id": "KPxi1vqjC6Y8"
   },
   "outputs": [],
   "source": [
    "val1_predict = []\n",
    "for i in tqdm(val_tmp.index):\n",
    "    ##### song 채우기\n",
    "    cur_song = add_song_by_cf_dic(val_tmp.loc[i], cf_dic)\n",
    "    # cur_song = add_song(val_tmp, i)\n",
    "    ##### tag 채우기\n",
    "    cur_tag = add_var(val_tmp.loc[i], 'tags', 'songs', song_tag_dict, popular_year, data.loc[i]['year'])\n",
    "    # cur_tag = add_tag(val_tmp, i, song_tag_dict, popular_year)\n",
    "    ### val1_predict(제출 결과물)에 추가\n",
    "    val1_predict.append({\n",
    "        \"id\" : val_tmp.loc[i]['id'],\n",
    "        \"songs\": cur_song,\n",
    "        \"tags\": cur_tag,\n",
    "    })"
   ]
  },
  {
   "cell_type": "code",
   "execution_count": null,
   "metadata": {
    "colab": {},
    "colab_type": "code",
    "id": "s8gi0gYag3el"
   },
   "outputs": [],
   "source": [
    "## save file\n",
    "write_json(val1_predict, data_path+'val1_16.json')"
   ]
  },
  {
   "cell_type": "markdown",
   "metadata": {
    "colab_type": "text",
    "id": "8MT__NxniV_N"
   },
   "source": [
    "---"
   ]
  },
  {
   "cell_type": "code",
   "execution_count": null,
   "metadata": {
    "colab": {},
    "colab_type": "code",
    "id": "jEuxuhziB4x2"
   },
   "outputs": [],
   "source": [
    "def add_song(data, i):\n",
    "    row_num = data.loc[i]['id']\n",
    "    cur_song = remove_seen(data.loc[i]['songs'], cf_dic[row_num])[:100]\n",
    "    return cur_song\n",
    "\n",
    "def add_tag(data, i, song_tag_dict, popular_year):\n",
    "    year = data.loc[i]['year']\n",
    "    tag_counter = Counter()\n",
    "    for song in data.loc[i]['songs']:\n",
    "        if str(song) in song_tag_dict:\n",
    "            for tag in song_tag_dict[str(song)]:\n",
    "                tag_counter.update({tag : 1})\n",
    "    tag_counter = sorted(tag_counter.items(), key=lambda x : x[1], reverse=True)\n",
    "    cur_tag = []\n",
    "    for k in tag_counter[:10]:\n",
    "        cur_tag.append(k[0])\n",
    "    if len(cur_tag) == 0:\n",
    "        cur_tag = popular_year[year]['tags'][:10]\n",
    "    elif len(cur_tag) < 10:\n",
    "        update_tag = remove_seen(cur_tag, popular_year[year]['tags'])\n",
    "        cur_tag.extend(update_tag)\n",
    "        cur_tag = cur_tag[:10]\n",
    "    return cur_tag"
   ]
  },
  {
   "cell_type": "code",
   "execution_count": null,
   "metadata": {
    "colab": {},
    "colab_type": "code",
    "id": "tpXKoNjVg3ej"
   },
   "outputs": [],
   "source": [
    "val1_predict = []\n",
    "for i in tqdm(val_tmp.index):\n",
    "    ##### song 채우기\n",
    "    year = val_tmp.loc[i]['year']\n",
    "    row_number = val_tmp.loc[i]['id']\n",
    "    cur_song = remove_seen(val_tmp.loc[i]['songs'], list(cf_dic[row_number]))[:100]\n",
    "    ##### tag 채우기\n",
    "    tag_counter = Counter()\n",
    "    for song in val_tmp.loc[i]['songs']:\n",
    "        if str(song) in song_tag_dict:\n",
    "            for tag in song_tag_dict[str(song)]:\n",
    "                tag_counter.update({tag : 1})\n",
    "    tag_counter = sorted(tag_counter.items(), key= lambda x:x[1], reverse = True)        \n",
    "    cur_tag = []\n",
    "    for k in tag_counter[:10]:\n",
    "        cur_tag.append(k[0])     \n",
    "    if len(cur_tag) == 0:\n",
    "        cur_tag = popular_year[year]['tags'][:10]\n",
    "    elif len(cur_tag) < 10:\n",
    "        update_tag = remove_seen(cur_tag, popular_year[year]['tags'])\n",
    "        cur_tag.extend(update_tag)\n",
    "        cur_tag = cur_tag[:10]\n",
    "    ### val1_predict(제출 결과물)에 추가\n",
    "    val1_predict.append({\n",
    "        \"id\" : val_tmp.loc[i]['id'],\n",
    "        \"songs\": cur_song,\n",
    "        \"tags\": cur_tag,\n",
    "    })"
   ]
  }
 ],
 "metadata": {
  "colab": {
   "collapsed_sections": [],
   "name": "modeling_v1_noTag_baseline.ipynb",
   "provenance": []
  },
  "kernelspec": {
   "display_name": "Python 3",
   "language": "python",
   "name": "python3"
  },
  "language_info": {
   "codemirror_mode": {
    "name": "ipython",
    "version": 3
   },
   "file_extension": ".py",
   "mimetype": "text/x-python",
   "name": "python",
   "nbconvert_exporter": "python",
   "pygments_lexer": "ipython3",
   "version": "3.7.7"
  }
 },
 "nbformat": 4,
 "nbformat_minor": 4
}
