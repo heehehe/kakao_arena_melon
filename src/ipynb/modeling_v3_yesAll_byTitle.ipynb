{
 "cells": [
  {
   "cell_type": "markdown",
   "metadata": {
    "colab_type": "text",
    "id": "view-in-github"
   },
   "source": [
    "<a href=\"https://colab.research.google.com/github/heehehe/kakao_arena_melon/blob/master/modeling_by_title\" target=\"_parent\"><img src=\"https://colab.research.google.com/assets/colab-badge.svg\" alt=\"Open In Colab\"/></a>"
   ]
  },
  {
   "cell_type": "code",
   "execution_count": null,
   "metadata": {
    "colab": {},
    "colab_type": "code",
    "id": "JmLyJl7EwSyM"
   },
   "outputs": [],
   "source": [
    "!git clone https://github.com/kakao/khaiii.git\n",
    "!pip install cmake\n",
    "!mkdir build\n",
    "!cd build && cmake /content/khaiii\n",
    "!cd /content/build/ && make all\n",
    "!cd /content/build/ && make resource\n",
    "!cd /content/build && make install\n",
    "!cd /content/build && make package_python\n",
    "!pip install /content/build/package_python"
   ]
  },
  {
   "cell_type": "code",
   "execution_count": null,
   "metadata": {
    "colab": {
     "base_uri": "https://localhost:8080/",
     "height": 34
    },
    "colab_type": "code",
    "id": "U6f7Fs8aqHAh",
    "outputId": "7daa088f-7da6-4978-a656-ad7303b79c80"
   },
   "outputs": [
    {
     "name": "stdout",
     "output_type": "stream",
     "text": [
      "Drive already mounted at /content/gdrive/; to attempt to forcibly remount, call drive.mount(\"/content/gdrive/\", force_remount=True).\n"
     ]
    }
   ],
   "source": [
    "## Author : heehehe\n",
    "\n",
    "import pandas as pd\n",
    "import numpy as np\n",
    "import re, json\n",
    "from khaiii import KhaiiiApi\n",
    "from collections import Counter\n",
    "from tqdm import tqdm\n",
    "import gc\n",
    "\n",
    "import seaborn as sns\n",
    "import matplotlib.pyplot as plt\n",
    "import matplotlib as mpl\n",
    "\n",
    "from google.colab import drive\n",
    "drive.mount('/content/gdrive/')"
   ]
  },
  {
   "cell_type": "markdown",
   "metadata": {
    "colab_type": "text",
    "id": "lhjbLmu-H45X"
   },
   "source": [
    "#### 데이터 load"
   ]
  },
  {
   "cell_type": "code",
   "execution_count": null,
   "metadata": {
    "colab": {},
    "colab_type": "code",
    "id": "w_6ID_v_u0sR"
   },
   "outputs": [],
   "source": [
    "colab_path = '/content/gdrive/My Drive/Google Colaboratory/kakao_arena/melon_playlist/data/'"
   ]
  },
  {
   "cell_type": "code",
   "execution_count": null,
   "metadata": {
    "colab": {},
    "colab_type": "code",
    "id": "60gfnbCNqOtU"
   },
   "outputs": [],
   "source": [
    "train = pd.read_json(colab_path+'train.json')\n",
    "val = pd.read_json(colab_path+'val.json')\n",
    "test = pd.read_json(colab_path+'test.json')"
   ]
  },
  {
   "cell_type": "code",
   "execution_count": null,
   "metadata": {
    "colab": {
     "base_uri": "https://localhost:8080/",
     "height": 106
    },
    "colab_type": "code",
    "id": "edoJHCh3qo4L",
    "outputId": "ea147f50-ae40-4300-81bc-fafb6a913e30"
   },
   "outputs": [
    {
     "data": {
      "text/html": [
       "<div>\n",
       "<style scoped>\n",
       "    .dataframe tbody tr th:only-of-type {\n",
       "        vertical-align: middle;\n",
       "    }\n",
       "\n",
       "    .dataframe tbody tr th {\n",
       "        vertical-align: top;\n",
       "    }\n",
       "\n",
       "    .dataframe thead th {\n",
       "        text-align: right;\n",
       "    }\n",
       "</style>\n",
       "<table border=\"1\" class=\"dataframe\">\n",
       "  <thead>\n",
       "    <tr style=\"text-align: right;\">\n",
       "      <th></th>\n",
       "      <th>tags</th>\n",
       "      <th>id</th>\n",
       "      <th>plylst_title</th>\n",
       "      <th>songs</th>\n",
       "      <th>like_cnt</th>\n",
       "      <th>updt_date</th>\n",
       "    </tr>\n",
       "  </thead>\n",
       "  <tbody>\n",
       "    <tr>\n",
       "      <th>0</th>\n",
       "      <td>[락]</td>\n",
       "      <td>61281</td>\n",
       "      <td>여행같은 음악</td>\n",
       "      <td>[525514, 129701, 383374, 562083, 297861, 13954...</td>\n",
       "      <td>71</td>\n",
       "      <td>2013-12-19 18:36:19.000</td>\n",
       "    </tr>\n",
       "    <tr>\n",
       "      <th>1</th>\n",
       "      <td>[추억, 회상]</td>\n",
       "      <td>10532</td>\n",
       "      <td>요즘 너 말야</td>\n",
       "      <td>[432406, 675945, 497066, 120377, 389529, 24427...</td>\n",
       "      <td>1</td>\n",
       "      <td>2014-12-02 16:19:42.000</td>\n",
       "    </tr>\n",
       "  </tbody>\n",
       "</table>\n",
       "</div>"
      ],
      "text/plain": [
       "       tags     id  ... like_cnt                updt_date\n",
       "0       [락]  61281  ...       71  2013-12-19 18:36:19.000\n",
       "1  [추억, 회상]  10532  ...        1  2014-12-02 16:19:42.000\n",
       "\n",
       "[2 rows x 6 columns]"
      ]
     },
     "execution_count": 4,
     "metadata": {
      "tags": []
     },
     "output_type": "execute_result"
    }
   ],
   "source": [
    "train.head(2)"
   ]
  },
  {
   "cell_type": "markdown",
   "metadata": {
    "colab_type": "text",
    "id": "tw4tB4ebIAg0"
   },
   "source": [
    "#### tag로 "
   ]
  },
  {
   "cell_type": "code",
   "execution_count": null,
   "metadata": {
    "colab": {
     "base_uri": "https://localhost:8080/",
     "height": 70
    },
    "colab_type": "code",
    "id": "rcN8ZA3kcapA",
    "outputId": "04917082-2440-4e61-bd79-011d870449ea"
   },
   "outputs": [
    {
     "name": "stdout",
     "output_type": "stream",
     "text": [
      "train에서 title 존재 데이터 개수 : 115071개 (100.0%)\n",
      "val에서 title 존재 데이터 개수   : 4373개 (19.00065174885944%)\n",
      "test에서 title 존재 데이터 개수  : 2041개 (19.00372439478585%)\n"
     ]
    }
   ],
   "source": [
    "print('train에서 title 존재 데이터 개수 : {}개 ({}%)'.format(len(train[train['plylst_title']!='']), len(train[train['plylst_title']!=''])/len(train)*100))\n",
    "print('val에서 title 존재 데이터 개수   : {}개 ({}%)'.format(len(val[val['plylst_title']!='']),     len(val[val['plylst_title']!=''])/len(val)*100))\n",
    "print('test에서 title 존재 데이터 개수  : {}개 ({}%)'.format(len(test[test['plylst_title']!='']),   len(test[test['plylst_title']!=''])/len(test)*100))"
   ]
  },
  {
   "cell_type": "code",
   "execution_count": null,
   "metadata": {
    "colab": {},
    "colab_type": "code",
    "id": "dArW5Yg2tPFr"
   },
   "outputs": [],
   "source": [
    "def flatten(df_col):\n",
    "    list_of_list = df_col.values.tolist()\n",
    "    flatten = [j for i in list_of_list for j in i]\n",
    "    return flatten\n",
    "\n",
    "# def get_all(df) -> List:\n",
    "#     tag_list = df['tags'].values.tolist()\n",
    "#     tag_list = flatten(tag_list)\n",
    "#     return tag_list\n",
    "\n",
    "def do_khaiii(data):\n",
    "    api = KhaiiiApi()\n",
    "    morphs_prep = []\n",
    "    for d in data:\n",
    "        try:\n",
    "            for word in api.analyze(d):\n",
    "                for w in word.morphs:\n",
    "                    if len(w.lex) > 1 or w.tag not in ['ETM','ETN','XSA','JX','VV']:\n",
    "                        morphs_prep.append((w.lex, w.tag))\n",
    "        except:\n",
    "            pass # 비어있는 경우\n",
    "    gc.collect()\n",
    "    return morphs_prep\n",
    "\n",
    "# api = KhaiiiApi()\n",
    "# tag_morphs = []\n",
    "# for tag in train['tags']:\n",
    "#     for t in tag:\n",
    "#         try:\n",
    "#             for word in api.analyze(t):\n",
    "#                 for w in word.morphs:\n",
    "#                     tag_morphs.append((w.lex, w.tag))\n",
    "#         except:\n",
    "#             pass # 비어있는 경우\n",
    "\n",
    "def do_khaiii_col(data):\n",
    "    api = KhaiiiApi()\n",
    "    morphs_prep = ['']*len(data)\n",
    "    for i,d in enumerate(data):\n",
    "        try:\n",
    "            for word in api.analyze(d):\n",
    "                for w in word.morphs:\n",
    "                    if len(w.lex) > 1 or w.tag not in ['ETM','ETN','XSA','JX','VV']:\n",
    "                        morphs_prep[i] = (w.lex, w.tag)\n",
    "        except:\n",
    "            pass # 비어있는 경우\n",
    "    gc.collect()\n",
    "    return morphs_prep"
   ]
  },
  {
   "cell_type": "code",
   "execution_count": null,
   "metadata": {
    "colab": {},
    "colab_type": "code",
    "id": "9R7zUBRyuUf4"
   },
   "outputs": [],
   "source": [
    "tags_list = flatten(train['tags'])\n",
    "songs_list = flatten(train['songs'])"
   ]
  },
  {
   "cell_type": "code",
   "execution_count": null,
   "metadata": {
    "colab": {
     "base_uri": "https://localhost:8080/",
     "height": 52
    },
    "colab_type": "code",
    "id": "qX6_WEHduy9A",
    "outputId": "3e2a26ed-571e-4bf3-8890-4d43295d4dfd"
   },
   "outputs": [
    {
     "name": "stdout",
     "output_type": "stream",
     "text": [
      "476331\n",
      "5285871\n"
     ]
    }
   ],
   "source": [
    "print(len(tags_list))\n",
    "print(len(songs_list))"
   ]
  },
  {
   "cell_type": "code",
   "execution_count": null,
   "metadata": {
    "colab": {
     "base_uri": "https://localhost:8080/",
     "height": 310
    },
    "colab_type": "code",
    "id": "5eRTCBXsMtVG",
    "outputId": "1ab94de8-d3ea-4ed1-a306-91096defdf0e"
   },
   "outputs": [
    {
     "ename": "KeyboardInterrupt",
     "evalue": "ignored",
     "output_type": "error",
     "traceback": [
      "\u001b[0;31m---------------------------------------------------------------------------\u001b[0m",
      "\u001b[0;31mKeyboardInterrupt\u001b[0m                         Traceback (most recent call last)",
      "\u001b[0;32m<ipython-input-7-6daa68896303>\u001b[0m in \u001b[0;36m<module>\u001b[0;34m()\u001b[0m\n\u001b[1;32m      1\u001b[0m \u001b[0mtag_morphs\u001b[0m \u001b[0;34m=\u001b[0m \u001b[0;34m[\u001b[0m\u001b[0;34m]\u001b[0m\u001b[0;34m\u001b[0m\u001b[0;34m\u001b[0m\u001b[0m\n\u001b[1;32m      2\u001b[0m \u001b[0;32mfor\u001b[0m \u001b[0mtag\u001b[0m \u001b[0;32min\u001b[0m \u001b[0mtags_list\u001b[0m\u001b[0;34m:\u001b[0m\u001b[0;34m\u001b[0m\u001b[0;34m\u001b[0m\u001b[0m\n\u001b[0;32m----> 3\u001b[0;31m     \u001b[0mtag_morphs\u001b[0m\u001b[0;34m.\u001b[0m\u001b[0mextend\u001b[0m\u001b[0;34m(\u001b[0m\u001b[0mdo_khaiii\u001b[0m\u001b[0;34m(\u001b[0m\u001b[0mtag\u001b[0m\u001b[0;34m)\u001b[0m\u001b[0;34m)\u001b[0m\u001b[0;34m\u001b[0m\u001b[0;34m\u001b[0m\u001b[0m\n\u001b[0m",
      "\u001b[0;32m<ipython-input-5-bcbb9d243b9f>\u001b[0m in \u001b[0;36mdo_khaiii\u001b[0;34m(data)\u001b[0m\n\u001b[1;32m     20\u001b[0m         \u001b[0;32mexcept\u001b[0m\u001b[0;34m:\u001b[0m\u001b[0;34m\u001b[0m\u001b[0;34m\u001b[0m\u001b[0m\n\u001b[1;32m     21\u001b[0m             \u001b[0;32mpass\u001b[0m \u001b[0;31m# 비어있는 경우\u001b[0m\u001b[0;34m\u001b[0m\u001b[0;34m\u001b[0m\u001b[0m\n\u001b[0;32m---> 22\u001b[0;31m     \u001b[0mgc\u001b[0m\u001b[0;34m.\u001b[0m\u001b[0mcollect\u001b[0m\u001b[0;34m(\u001b[0m\u001b[0;34m)\u001b[0m\u001b[0;34m\u001b[0m\u001b[0;34m\u001b[0m\u001b[0m\n\u001b[0m\u001b[1;32m     23\u001b[0m     \u001b[0;32mreturn\u001b[0m \u001b[0mmorphs_prep\u001b[0m\u001b[0;34m\u001b[0m\u001b[0;34m\u001b[0m\u001b[0m\n",
      "\u001b[0;31mKeyboardInterrupt\u001b[0m: "
     ]
    }
   ],
   "source": [
    "tag_morphs = []\n",
    "for tag in tqdm(tags_list):\n",
    "    tag_morphs.extend(do_khaiii(tag))"
   ]
  },
  {
   "cell_type": "code",
   "execution_count": null,
   "metadata": {
    "colab": {
     "base_uri": "https://localhost:8080/",
     "height": 34
    },
    "colab_type": "code",
    "id": "RX3aRxJxqufM",
    "outputId": "6586d066-eead-4178-9322-f08c4569852f"
   },
   "outputs": [
    {
     "data": {
      "text/plain": [
       "722860"
      ]
     },
     "execution_count": 115,
     "metadata": {
      "tags": []
     },
     "output_type": "execute_result"
    }
   ],
   "source": [
    "len(tag_morphs)"
   ]
  },
  {
   "cell_type": "code",
   "execution_count": null,
   "metadata": {
    "colab": {
     "base_uri": "https://localhost:8080/",
     "height": 545
    },
    "colab_type": "code",
    "id": "q6prxVUBqPd6",
    "outputId": "a86c2f21-4ccf-48c6-8c22-3b82d730a397"
   },
   "outputs": [
    {
     "data": {
      "text/plain": [
       "[(('ㄴ', 'ETM'), 26970),\n",
       " (('하', 'XSA'), 21926),\n",
       " (('기분', 'NNG'), 17443),\n",
       " (('전환', 'NNG'), 16543),\n",
       " (('감성', 'NNG'), 14411),\n",
       " (('휴식', 'NNG'), 11385),\n",
       " (('발라드', 'NNG'), 10798),\n",
       " (('잔잔', 'XR'), 10526),\n",
       " (('드라이브', 'NNG'), 10212),\n",
       " (('힐링', 'NNG'), 9871),\n",
       " (('새벽', 'NNG'), 9422),\n",
       " (('사랑', 'NNG'), 9418),\n",
       " (('힙합', 'NNG'), 8983),\n",
       " (('밤', 'NNG'), 8765),\n",
       " (('음악', 'NNG'), 8649),\n",
       " (('는', 'JX'), 8462),\n",
       " (('카페', 'NNG'), 7776),\n",
       " (('팝', 'NNG'), 7373),\n",
       " (('추억', 'NNG'), 6841),\n",
       " (('ㅁ', 'ETN'), 6388),\n",
       " (('매장', 'NNG'), 6124),\n",
       " (('인디', 'NNG'), 5594),\n",
       " (('이별', 'NNG'), 5505),\n",
       " (('설', 'NNP'), 5090),\n",
       " (('나', 'VV'), 5027),\n",
       " (('신', 'NNG'), 4988),\n",
       " (('레', 'VV'), 4912),\n",
       " (('여행', 'NNG'), 4857),\n",
       " (('회상', 'NNG'), 4736),\n",
       " (('겨울', 'NNG'), 4727)]"
      ]
     },
     "execution_count": 122,
     "metadata": {
      "tags": []
     },
     "output_type": "execute_result"
    }
   ],
   "source": [
    "# Counter([t[0] for t in tag_morphs]).most_common()\n",
    "Counter(tag_morphs).most_common()[:30]"
   ]
  },
  {
   "cell_type": "code",
   "execution_count": null,
   "metadata": {
    "colab": {
     "base_uri": "https://localhost:8080/",
     "height": 483
    },
    "colab_type": "code",
    "id": "8CEgzm85UFA9",
    "outputId": "2eea8fc3-f014-4b04-f139-1dc697ad79a7"
   },
   "outputs": [
    {
     "data": {
      "image/png": "[encoded data removed]",
      "text/plain": [
       "<Figure size 576x576 with 1 Axes>"
      ]
     },
     "metadata": {
      "needs_background": "light",
      "tags": []
     },
     "output_type": "display_data"
    }
   ],
   "source": [
    "tag_morphs_counter = Counter([t[1] for t in tag_morphs]).most_common()\n",
    "tag_morphs_list = [t[0] for t in tag_morphs_counter]\n",
    "tag_morphs_cnt = [t[1] for t in tag_morphs_counter]\n",
    "\n",
    "plt.figure(figsize=(8,8))\n",
    "plt.barh(tag_morphs_list[::-1], tag_morphs_cnt[::-1])\n",
    "plt.show()"
   ]
  },
  {
   "cell_type": "code",
   "execution_count": null,
   "metadata": {
    "colab": {},
    "colab_type": "code",
    "id": "fqzRzwSwPg9k"
   },
   "outputs": [],
   "source": [
    "tag_morphs_counter"
   ]
  },
  {
   "cell_type": "code",
   "execution_count": null,
   "metadata": {
    "colab": {},
    "colab_type": "code",
    "id": "3F6ZToFoZ6t0"
   },
   "outputs": [],
   "source": [
    "api = KhaiiiApi()\n",
    "\n",
    "tag_morphs_prep = []\n",
    "for tag in train['tags']:\n",
    "    for t in tag:\n",
    "        try:\n",
    "            for word in api.analyze(t):\n",
    "                for w in word.morphs:\n",
    "                    if len(w.lex) > 1 or w.tag not in ['ETM','ETN','XSA','JX','VV']:\n",
    "                        tag_morphs_prep.append((w.lex, w.tag))\n",
    "        except:\n",
    "            pass # 비어있는 경우"
   ]
  },
  {
   "cell_type": "code",
   "execution_count": null,
   "metadata": {
    "colab": {
     "base_uri": "https://localhost:8080/",
     "height": 34
    },
    "colab_type": "code",
    "id": "qK5G6WAE0flG",
    "outputId": "7fee4680-cc4d-4721-e73b-a83f5eff29db"
   },
   "outputs": [
    {
     "data": {
      "text/plain": [
       "623244"
      ]
     },
     "execution_count": 140,
     "metadata": {
      "tags": []
     },
     "output_type": "execute_result"
    }
   ],
   "source": [
    "len(tag_morphs_prep)"
   ]
  },
  {
   "cell_type": "code",
   "execution_count": null,
   "metadata": {
    "colab": {
     "base_uri": "https://localhost:8080/",
     "height": 545
    },
    "colab_type": "code",
    "id": "DO1Op8jD7Sf3",
    "outputId": "91702fd7-9386-419d-a82d-79b4e2401a35"
   },
   "outputs": [
    {
     "data": {
      "text/plain": [
       "[(('기분', 'NNG'), 17443),\n",
       " (('전환', 'NNG'), 16543),\n",
       " (('감성', 'NNG'), 14411),\n",
       " (('휴식', 'NNG'), 11385),\n",
       " (('발라드', 'NNG'), 10798),\n",
       " (('잔잔', 'XR'), 10526),\n",
       " (('드라이브', 'NNG'), 10212),\n",
       " (('힐링', 'NNG'), 9871),\n",
       " (('새벽', 'NNG'), 9422),\n",
       " (('사랑', 'NNG'), 9418),\n",
       " (('힙합', 'NNG'), 8983),\n",
       " (('밤', 'NNG'), 8765),\n",
       " (('음악', 'NNG'), 8649),\n",
       " (('카페', 'NNG'), 7776),\n",
       " (('팝', 'NNG'), 7373),\n",
       " (('추억', 'NNG'), 6841),\n",
       " (('매장', 'NNG'), 6124),\n",
       " (('인디', 'NNG'), 5594),\n",
       " (('이별', 'NNG'), 5505),\n",
       " (('설', 'NNP'), 5090),\n",
       " (('신', 'NNG'), 4988),\n",
       " (('여행', 'NNG'), 4857),\n",
       " (('회상', 'NNG'), 4736),\n",
       " (('겨울', 'NNG'), 4727),\n",
       " (('여름', 'NNG'), 4358),\n",
       " (('가을', 'NNG'), 4169),\n",
       " (('비', 'NNG'), 4166),\n",
       " (('스트레스', 'NNG'), 4163),\n",
       " (('노래', 'NNG'), 4077),\n",
       " (('락', 'MAG'), 4026)]"
      ]
     },
     "execution_count": 141,
     "metadata": {
      "tags": []
     },
     "output_type": "execute_result"
    }
   ],
   "source": [
    "Counter(tag_morphs_prep).most_common()[:30]"
   ]
  },
  {
   "cell_type": "code",
   "execution_count": null,
   "metadata": {
    "colab": {
     "base_uri": "https://localhost:8080/",
     "height": 483
    },
    "colab_type": "code",
    "id": "bjwCBDSo6GUK",
    "outputId": "19a224ac-5c93-40e1-d632-37b25d5454ae"
   },
   "outputs": [
    {
     "data": {
      "image/png": "[encoded data removed]",
      "text/plain": [
       "<Figure size 576x576 with 1 Axes>"
      ]
     },
     "metadata": {
      "needs_background": "light",
      "tags": []
     },
     "output_type": "display_data"
    }
   ],
   "source": [
    "tag_morphs_counter = Counter([t[1] for t in tag_morphs_prep]).most_common()\n",
    "tag_morphs_list = [t[0] for t in tag_morphs_counter]\n",
    "tag_morphs_cnt = [t[1] for t in tag_morphs_counter]\n",
    "\n",
    "plt.figure(figsize=(8,8))\n",
    "plt.barh(tag_morphs_list[::-1], tag_morphs_cnt[::-1])\n",
    "plt.show()"
   ]
  },
  {
   "cell_type": "code",
   "execution_count": null,
   "metadata": {
    "colab": {
     "base_uri": "https://localhost:8080/",
     "height": 738
    },
    "colab_type": "code",
    "id": "mI6_PwqA6GRX",
    "outputId": "5d4a2994-dd99-4566-de3f-37448a391582"
   },
   "outputs": [
    {
     "data": {
      "text/plain": [
       "[('NNG', 441528),\n",
       " ('NNP', 55476),\n",
       " ('SL', 31299),\n",
       " ('XR', 19608),\n",
       " ('MAG', 12875),\n",
       " ('EC', 8372),\n",
       " ('VA', 8109),\n",
       " ('SN', 7700),\n",
       " ('XSN', 5605),\n",
       " ('JKB', 4754),\n",
       " ('NNB', 3702),\n",
       " ('VV', 3687),\n",
       " ('SS', 3369),\n",
       " ('VCP', 3337),\n",
       " ('JKS', 2194),\n",
       " ('VX', 2095),\n",
       " ('XSV', 1921),\n",
       " ('NP', 1568),\n",
       " ('JKO', 989),\n",
       " ('JKG', 945),\n",
       " ('MM', 904),\n",
       " ('IC', 853),\n",
       " ('XPN', 664),\n",
       " ('EP', 530),\n",
       " ('JC', 401),\n",
       " ('NR', 193),\n",
       " ('JX', 138),\n",
       " ('SH', 99),\n",
       " ('XSA', 89),\n",
       " ('SW', 66),\n",
       " ('MAJ', 41),\n",
       " ('VCN', 23),\n",
       " ('JKV', 21),\n",
       " ('ETM', 17),\n",
       " ('ZZ', 16),\n",
       " ('SO', 14),\n",
       " ('EF', 12),\n",
       " ('SE', 11),\n",
       " ('JKC', 10),\n",
       " ('SP', 6),\n",
       " ('ZV', 3)]"
      ]
     },
     "execution_count": 143,
     "metadata": {
      "tags": []
     },
     "output_type": "execute_result"
    }
   ],
   "source": [
    "tag_morphs_counter"
   ]
  },
  {
   "cell_type": "code",
   "execution_count": null,
   "metadata": {
    "colab": {},
    "colab_type": "code",
    "id": "JYqmb1Qy6GOQ"
   },
   "outputs": [],
   "source": []
  },
  {
   "cell_type": "code",
   "execution_count": null,
   "metadata": {
    "colab": {},
    "colab_type": "code",
    "id": "0qFb17_f6GGV"
   },
   "outputs": [],
   "source": []
  },
  {
   "cell_type": "code",
   "execution_count": null,
   "metadata": {
    "colab": {},
    "colab_type": "code",
    "id": "FxDcHfuX2Ux2"
   },
   "outputs": [],
   "source": [
    "# morphs_all = ['']*len(train)\n",
    "\n",
    "# for i,title in enumerate(train['plylst_title']):\n",
    "#     morphs = []\n",
    "#     try:\n",
    "#         for word in api.analyze(title):\n",
    "#             for morph in word.morphs:\n",
    "#                 if morph.tag in ['NNG','NNP']:#,'ETM','SL','VV','XSA','XR','MAG','JX','ETN']:\n",
    "#                 # if morph.tag not in ['VCP','VCN','EP']\n",
    "#                     morphs.append(morph.lex)\n",
    "#         morphs_all[i] = morphs\n",
    "#     except: pass"
   ]
  },
  {
   "cell_type": "code",
   "execution_count": null,
   "metadata": {
    "colab": {},
    "colab_type": "code",
    "id": "0ehS6xZqvukj"
   },
   "outputs": [],
   "source": []
  },
  {
   "cell_type": "markdown",
   "metadata": {
    "colab_type": "text",
    "id": "WX6r6hD8_i44"
   },
   "source": [
    "#### train에서 title로 태그 추출"
   ]
  },
  {
   "cell_type": "code",
   "execution_count": null,
   "metadata": {
    "colab": {},
    "colab_type": "code",
    "id": "RqyntrbNGVH5"
   },
   "outputs": [],
   "source": [
    "api = KhaiiiApi()\n",
    "\n",
    "def do_khaiii_col(data):\n",
    "    morphs_prep = ['']*len(data)\n",
    "    for i,d in enumerate(tqdm(data)):\n",
    "        list_add = []\n",
    "        try:\n",
    "            for word in api.analyze(d):\n",
    "                for w in word.morphs:\n",
    "                    # if w.tag in ['NNG','NNP','SL','XR']:\n",
    "                    if (len(w.lex) > 1 or w.tag not in ['ETM','ETN','XSA','JX','VV','VA']) \\\n",
    "                       and w.tag not in ['NP','JKS','JKC','JKG','JKO','JKB','JKV','JKQ','JX','JC',\\\n",
    "                                         'EP','EF','EC','SF','SP','SS','SE','SO']:\n",
    "                        list_add.append((w.lex, w.tag))\n",
    "        except:\n",
    "            pass # 비어있는 경우\n",
    "        morphs_prep[i] = list_add\n",
    "    gc.collect()\n",
    "    return morphs_prep"
   ]
  },
  {
   "cell_type": "code",
   "execution_count": null,
   "metadata": {
    "colab": {},
    "colab_type": "code",
    "id": "5XXGewW6gnzJ"
   },
   "outputs": [],
   "source": []
  },
  {
   "cell_type": "code",
   "execution_count": null,
   "metadata": {
    "colab": {
     "base_uri": "https://localhost:8080/",
     "height": 34
    },
    "colab_type": "code",
    "id": "Xl6QBlSqxPTb",
    "outputId": "f96ca4d8-79ed-4df2-d94c-7b063e1f65a8"
   },
   "outputs": [
    {
     "name": "stderr",
     "output_type": "stream",
     "text": [
      "100%|██████████| 115071/115071 [01:02<00:00, 1844.37it/s]\n"
     ]
    }
   ],
   "source": [
    "title_khaiii = do_khaiii_col(train['plylst_title'].str.replace(\"[^ㄱ-ㅎㅏ-ㅣ가-힣 ]\",\"\")) #A-Za-z"
   ]
  },
  {
   "cell_type": "code",
   "execution_count": null,
   "metadata": {
    "colab": {
     "base_uri": "https://localhost:8080/",
     "height": 34
    },
    "colab_type": "code",
    "id": "YNhQGuQfYCrA",
    "outputId": "aa2d7ef6-5323-492c-f31b-336f54e90631"
   },
   "outputs": [
    {
     "data": {
      "text/plain": [
       "['요즘', '말', '이']"
      ]
     },
     "execution_count": 91,
     "metadata": {
      "tags": []
     },
     "output_type": "execute_result"
    }
   ],
   "source": [
    "title_khaiii2 = title_khaiii.copy()\n",
    "for i,title in enumerate(title_khaiii):\n",
    "    title_khaiii2[i] = [t[0] for t in title]\n",
    "    \n",
    "title_khaiii2[1]"
   ]
  },
  {
   "cell_type": "code",
   "execution_count": null,
   "metadata": {
    "colab": {},
    "colab_type": "code",
    "id": "VpRDNF3zSz3g"
   },
   "outputs": [],
   "source": [
    "train['title2tags'] = title_khaiii2"
   ]
  },
  {
   "cell_type": "code",
   "execution_count": null,
   "metadata": {
    "colab": {
     "base_uri": "https://localhost:8080/",
     "height": 195
    },
    "colab_type": "code",
    "id": "6vQXLxINS0PZ",
    "outputId": "ded57334-e161-40b5-c355-5e7ddff562c9"
   },
   "outputs": [
    {
     "data": {
      "text/html": [
       "<div>\n",
       "<style scoped>\n",
       "    .dataframe tbody tr th:only-of-type {\n",
       "        vertical-align: middle;\n",
       "    }\n",
       "\n",
       "    .dataframe tbody tr th {\n",
       "        vertical-align: top;\n",
       "    }\n",
       "\n",
       "    .dataframe thead th {\n",
       "        text-align: right;\n",
       "    }\n",
       "</style>\n",
       "<table border=\"1\" class=\"dataframe\">\n",
       "  <thead>\n",
       "    <tr style=\"text-align: right;\">\n",
       "      <th></th>\n",
       "      <th>plylst_title</th>\n",
       "      <th>tags</th>\n",
       "      <th>title2tags</th>\n",
       "    </tr>\n",
       "  </thead>\n",
       "  <tbody>\n",
       "    <tr>\n",
       "      <th>0</th>\n",
       "      <td>여행같은 음악</td>\n",
       "      <td>[락]</td>\n",
       "      <td>[여행, 음악]</td>\n",
       "    </tr>\n",
       "    <tr>\n",
       "      <th>1</th>\n",
       "      <td>요즘 너 말야</td>\n",
       "      <td>[추억, 회상]</td>\n",
       "      <td>[요즘, 말, 이]</td>\n",
       "    </tr>\n",
       "    <tr>\n",
       "      <th>2</th>\n",
       "      <td>편하게, 잔잔하게 들을 수 있는 곡.-</td>\n",
       "      <td>[까페, 잔잔한]</td>\n",
       "      <td>[편하, 잔잔, 수, 곡]</td>\n",
       "    </tr>\n",
       "    <tr>\n",
       "      <th>3</th>\n",
       "      <td>크리스마스 분위기에 흠뻑 취하고 싶을때</td>\n",
       "      <td>[연말, 눈오는날, 캐럴, 분위기, 따듯한, 크리스마스캐럴, 겨울노래, 크리스마스,...</td>\n",
       "      <td>[크리스마스, 분위기, 흠뻑, 취하, 싶, 때]</td>\n",
       "    </tr>\n",
       "    <tr>\n",
       "      <th>4</th>\n",
       "      <td>추억의 노래 ㅋ</td>\n",
       "      <td>[댄스]</td>\n",
       "      <td>[추억, 노래, ㅋ]</td>\n",
       "    </tr>\n",
       "  </tbody>\n",
       "</table>\n",
       "</div>"
      ],
      "text/plain": [
       "            plylst_title  ...                  title2tags\n",
       "0                여행같은 음악  ...                    [여행, 음악]\n",
       "1                요즘 너 말야  ...                  [요즘, 말, 이]\n",
       "2  편하게, 잔잔하게 들을 수 있는 곡.-  ...              [편하, 잔잔, 수, 곡]\n",
       "3  크리스마스 분위기에 흠뻑 취하고 싶을때  ...  [크리스마스, 분위기, 흠뻑, 취하, 싶, 때]\n",
       "4               추억의 노래 ㅋ  ...                 [추억, 노래, ㅋ]\n",
       "\n",
       "[5 rows x 3 columns]"
      ]
     },
     "execution_count": 93,
     "metadata": {
      "tags": []
     },
     "output_type": "execute_result"
    }
   ],
   "source": [
    "train[['plylst_title','tags','title2tags']].head()"
   ]
  },
  {
   "cell_type": "code",
   "execution_count": null,
   "metadata": {
    "colab": {
     "base_uri": "https://localhost:8080/",
     "height": 52
    },
    "colab_type": "code",
    "id": "5EK_XGyGiYlP",
    "outputId": "3df91991-eaee-434d-899a-2cfce446e966"
   },
   "outputs": [
    {
     "name": "stderr",
     "output_type": "stream",
     "text": [
      "100%|██████████| 115071/115071 [00:55<00:00, 2064.90it/s]\n"
     ]
    },
    {
     "data": {
      "text/plain": [
       "0.12910328290574238"
      ]
     },
     "execution_count": 94,
     "metadata": {
      "tags": []
     },
     "output_type": "execute_result"
    }
   ],
   "source": [
    "sum_of_intersect = 0\n",
    "for i in tqdm(train.index):\n",
    "    tags = set(train.loc[i]['tags'])\n",
    "    tags_from_title = set(train.loc[i]['title2tags'])\n",
    "    sum_of_intersect += len(tags & tags_from_title) / len(tags)\n",
    "    # if tags & tags_from_title:\n",
    "    #     print(tags & tags_from_title)\n",
    "sum_of_intersect / len(train)"
   ]
  },
  {
   "cell_type": "code",
   "execution_count": null,
   "metadata": {
    "colab": {},
    "colab_type": "code",
    "id": "qCOVYr0RoIt-"
   },
   "outputs": [],
   "source": [
    "def add_tags(data):\n",
    "    title_khaiii = do_khaiii_col(data['plylst_title'])\n",
    "    title_khaiii2 = ['']*len(data)\n",
    "    for i,title in enumerate(tqdm(title_khaiii)):\n",
    "        title_khaiii2[i] = [t[0] for t in title]\n",
    "    data['tags_new'] = data['tags'] + title_khaiii2\n",
    "    tn_list = []\n",
    "    for tn in tqdm(data['tags_new']):\n",
    "        tn_list.append(list(set(tn)))\n",
    "    data['tags_new'] = tn_list\n",
    "    return data"
   ]
  },
  {
   "cell_type": "code",
   "execution_count": null,
   "metadata": {
    "colab": {
     "base_uri": "https://localhost:8080/",
     "height": 70
    },
    "colab_type": "code",
    "id": "5WIoKae4pCfa",
    "outputId": "00a55681-fd00-472e-d33e-5daab1881519"
   },
   "outputs": [
    {
     "name": "stderr",
     "output_type": "stream",
     "text": [
      "100%|██████████| 115071/115071 [01:18<00:00, 1471.21it/s]\n",
      "100%|██████████| 115071/115071 [00:00<00:00, 825381.67it/s]\n",
      "100%|██████████| 115071/115071 [00:00<00:00, 393472.77it/s]\n"
     ]
    }
   ],
   "source": [
    "train_new = add_tags(train)"
   ]
  },
  {
   "cell_type": "code",
   "execution_count": null,
   "metadata": {
    "colab": {
     "base_uri": "https://localhost:8080/",
     "height": 263
    },
    "colab_type": "code",
    "id": "C8ylLy7iqe9T",
    "outputId": "f28972e0-68f5-4eb4-c5bf-6c1b7308ce18"
   },
   "outputs": [
    {
     "data": {
      "text/plain": [
       "['분위기',\n",
       " '눈오는날',\n",
       " '따듯한',\n",
       " '때',\n",
       " '겨울노래',\n",
       " '크리스마스',\n",
       " '크리스마스캐럴',\n",
       " '취하',\n",
       " '싶',\n",
       " '크리스마스송',\n",
       " '겨울왕국',\n",
       " '캐럴',\n",
       " '흠뻑',\n",
       " '연말']"
      ]
     },
     "execution_count": 105,
     "metadata": {
      "tags": []
     },
     "output_type": "execute_result"
    }
   ],
   "source": [
    "train_new.iloc[3]['tags_new']"
   ]
  },
  {
   "cell_type": "markdown",
   "metadata": {
    "colab_type": "text",
    "id": "WKiiiwoXxVy0"
   },
   "source": [
    "### validation에서 title로 태그 추출"
   ]
  },
  {
   "cell_type": "code",
   "execution_count": null,
   "metadata": {
    "colab": {},
    "colab_type": "code",
    "id": "Z7fmton74aX_"
   },
   "outputs": [],
   "source": [
    "def check_target_type(df):\n",
    "    no_song_idx = []\n",
    "    no_tag_idx = []\n",
    "    no_both_idx = []\n",
    "    yes_all_idx = []\n",
    "\n",
    "    for i in df.index:\n",
    "        ## 노래 X 태그 O\n",
    "        if   bool(not df.loc[i:i, 'songs'].values[0]) & bool(df.loc[i:i, 'tags'].values[0]):\n",
    "            no_song_idx.append(i)\n",
    "        ## 노래 O 태그 X\n",
    "        elif bool(df.loc[i:i, 'songs'].values[0])     & bool(not df.loc[i:i, 'tags'].values[0]):\n",
    "            no_tag_idx.append(i)  \n",
    "        ## 노래 X 태그 X\n",
    "        elif bool(not df.loc[i:i, 'songs'].values[0]) & bool(not df.loc[i:i, 'tags'].values[0]):\n",
    "            no_both_idx.append(i)          \n",
    "        ## 노래 O 태그 O (노래 or 태그 일부 누락)\n",
    "        else:\n",
    "            yes_all_idx.append(i)\n",
    "            \n",
    "    print(\"노래 X 태그 O : {}개\".format(len(no_song_idx)))\n",
    "    print(\"노래 O 태그 X : {}개\".format(len(no_tag_idx)))\n",
    "    print(\"노래 X 태그 X : {}개\".format(len(no_both_idx)))\n",
    "    print(\"노래 O 태그 O : {}개\".format(len(yes_all_idx)))\n",
    "    \n",
    "    return no_song_idx, no_tag_idx, no_both_idx, yes_all_idx\n",
    "\n",
    "\n",
    "no_song_idx, no_tag_idx, no_both_idx, yes_all_idx = check_target_type(val)"
   ]
  },
  {
   "cell_type": "code",
   "execution_count": null,
   "metadata": {
    "colab": {},
    "colab_type": "code",
    "id": "nWsBWlBJ_g9G"
   },
   "outputs": [],
   "source": []
  }
 ],
 "metadata": {
  "colab": {
   "authorship_tag": "ABX9TyMwJr1ElNk+rQs1EfBbS166",
   "collapsed_sections": [
    "tw4tB4ebIAg0"
   ],
   "include_colab_link": true,
   "name": "title",
   "provenance": []
  },
  "kernelspec": {
   "display_name": "Python 3",
   "language": "python",
   "name": "python3"
  },
  "language_info": {
   "codemirror_mode": {
    "name": "ipython",
    "version": 3
   },
   "file_extension": ".py",
   "mimetype": "text/x-python",
   "name": "python",
   "nbconvert_exporter": "python",
   "pygments_lexer": "ipython3",
   "version": "3.7.6"
  }
 },
 "nbformat": 4,
 "nbformat_minor": 1
}
