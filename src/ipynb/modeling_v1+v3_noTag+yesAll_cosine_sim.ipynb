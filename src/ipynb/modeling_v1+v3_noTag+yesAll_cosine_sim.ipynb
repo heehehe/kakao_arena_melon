{
 "cells": [
  {
   "cell_type": "markdown",
   "metadata": {},
   "source": [
    "## 14년"
   ]
  },
  {
   "cell_type": "code",
   "execution_count": null,
   "metadata": {},
   "outputs": [],
   "source": [
    "small_years =  [14]"
   ]
  },
  {
   "cell_type": "code",
   "execution_count": null,
   "metadata": {},
   "outputs": [],
   "source": [
    "import os\n",
    "os.chdir('./../../')\n",
    "from src.basic_utils import *\n",
    "from src.modeling_utils import *\n",
    "from src.pivot_utils import *\n",
    "\n",
    "from sklearn.metrics.pairwise import cosine_similarity"
   ]
  },
  {
   "cell_type": "code",
   "execution_count": null,
   "metadata": {},
   "outputs": [],
   "source": [
    "data_path = 'data/'\n",
    "\n",
    "train = pd.read_parquet(data_path+'train(song_trim).parquet')\n",
    "val = pd.read_json(data_path+'val(lower).json')\n",
    "# test = pd.read_json(data_path+'test(lower).json')\n",
    "# song_meta = load_json(data_path+'song_meta.json')\n",
    "# genre_gn_all = pd.read_json(data_path+'genre_gn_all.json', typ = 'series')\n",
    "\n",
    "### make_file.ipynb 내에서 만들어진 tag_song_dict / song_tag_dict 불러오기\n",
    "# tag_song_dict = load_json(data_path+'tag_song_dict.json')\n",
    "song_tag_dict = load_json(data_path+'song_tag_dict.json')"
   ]
  },
  {
   "cell_type": "code",
   "execution_count": null,
   "metadata": {},
   "outputs": [],
   "source": [
    "no_tag, no_song, yes_index, no_both = check_target_type(val)"
   ]
  },
  {
   "cell_type": "code",
   "execution_count": null,
   "metadata": {},
   "outputs": [],
   "source": [
    "v1v3_index = no_tag + yes_index\n",
    "\n",
    "train['year'] = train['updt_date'].apply(lambda x: int(x[2:4]))\n",
    "train['date'] = train['updt_date'].apply(lambda x: int(str(x[2:4]) + str(x[5:7])) )\n",
    "val['year'] = val['updt_date'].apply(lambda x: int(x[2:4]))\n",
    "val['date'] = val['updt_date'].apply(lambda x: int(str(x[2:4]) + str(x[5:7])) )\n",
    "\n",
    "year_list = list(train['year'].unique())\n",
    "year_list= sorted(year_list)\n",
    "\n",
    "v1v3 = val[val.index.isin(v1v3_index)]\n",
    "\n",
    "val_tmp = v1v3[v1v3['year'].isin(small_years)]\n",
    "print(\"val year shape\", val_tmp.shape)"
   ]
  },
  {
   "cell_type": "code",
   "execution_count": null,
   "metadata": {},
   "outputs": [],
   "source": [
    "date_list = list(train['date'].unique())\n",
    "date_list = sorted(date_list)\n",
    "\n",
    "date_dict = {}\n",
    "for i,k in enumerate(date_list):\n",
    "    date_dict[k] = i\n",
    "\n",
    "popular_date_tag = make_popular_date_dict('tags', train, date_list, 13)\n",
    "popular_date_song = make_popular_date_dict('songs', train, date_list, 9)      "
   ]
  },
  {
   "cell_type": "code",
   "execution_count": null,
   "metadata": {},
   "outputs": [],
   "source": [
    "tmp = train[(train['year'].isin(small_years))]\n",
    "like_num = int(np.percentile(tmp['like_cnt'], 70))\n",
    "tmp = tmp[(tmp['like_cnt'] > like_num)]\n",
    "print(\"train best playlist\", tmp.shape)\n",
    "print('train+valid = ', tmp.shape[0]+val_tmp.shape[0])"
   ]
  },
  {
   "cell_type": "code",
   "execution_count": null,
   "metadata": {},
   "outputs": [],
   "source": [
    "before_tmp = before_pivot(tmp)\n",
    "\n",
    "## train만 1보다 작은 노래는 없애준다.\n",
    "tmp_dict = before_tmp['song'].value_counts().to_dict()\n",
    "before_tmp['count']= before_tmp['song'].apply(lambda x : tmp_dict[x])\n",
    "before_tmp = before_tmp[before_tmp['count'] > 1]\n",
    "print(before_tmp.shape)\n",
    "\n",
    "before_val_tmp = before_pivot(val_tmp)"
   ]
  },
  {
   "cell_type": "code",
   "execution_count": null,
   "metadata": {},
   "outputs": [],
   "source": [
    "final_result = pd.concat([before_tmp, before_val_tmp])\n",
    "del before_tmp, before_val_tmp\n",
    "gc.collect()"
   ]
  },
  {
   "cell_type": "code",
   "execution_count": null,
   "metadata": {},
   "outputs": [],
   "source": [
    "def make_cosine_predict(final_result):\n",
    "    R_df = final_result.pivot(index = 'id', columns ='song', values = 'point').fillna(0)\n",
    "    del final_result\n",
    "    \n",
    "    print(\"make cosine data\")    \n",
    "    cosine_array = cosine_similarity(R_df, R_df)\n",
    "    predicted_array = np.zeros(shape=(len(R_df.index),len(R_df.columns))) \n",
    "    for i in tqdm(range(len(cosine_array))):\n",
    "        top_200 = cosine_array[i].argsort()[-201:][::-1]\n",
    "        top_200 = np.delete(top_200, 0)\n",
    "\n",
    "        weighted_sum = np.array([0])\n",
    "        for top_idx in top_200:\n",
    "            weighted_sum = weighted_sum + (cosine_array[i][top_idx] * R_df.values[top_idx])\n",
    "        predicted = weighted_sum / len(top_200)\n",
    "        predicted_array[i] = predicted\n",
    "    iu_predicted = R_df.values*(-99999) + predicted_array\n",
    "    \n",
    "    print(\"make dic data\")    \n",
    "    cf_dic = {}\n",
    "    for i in range(len(iu_predicted)):\n",
    "        cf_dic[R_df.index[i]] = R_df.columns[iu_predicted[i].argsort()[-200:][::-1]].tolist()\n",
    "    \n",
    "    return cf_dic"
   ]
  },
  {
   "cell_type": "code",
   "execution_count": null,
   "metadata": {},
   "outputs": [],
   "source": [
    "cf_dic = make_cosine_predict(final_result)"
   ]
  },
  {
   "cell_type": "code",
   "execution_count": null,
   "metadata": {},
   "outputs": [],
   "source": [
    "val1_predict = []\n",
    "for i in range(len(val_tmp)):\n",
    "    ############### song 채우기 ##################################\n",
    "    date = date_dict[val_tmp.iloc[i]['date']]\n",
    "    row_number = val_tmp.iloc[i]['id']\n",
    "    cur_song = list(cf_dic[row_number])\n",
    "    \n",
    "    ############### tag 채우기 ##################################\n",
    "    tag_counter = Counter()\n",
    "    for song in val_tmp.iloc[i]['songs']:\n",
    "        if str(song) in song_tag_dict:\n",
    "            for tag in song_tag_dict[str(song)]:\n",
    "                tag_counter.update({tag : 1})\n",
    "    tag_counter = sorted(tag_counter.items(), key= lambda x:x[1], reverse = True)        \n",
    "    cur_tag = []\n",
    "    for k in tag_counter[:10]:\n",
    "        cur_tag.append(k[0])\n",
    "    if (len(cur_tag) < 10) & (len(cur_tag) > 0 ):\n",
    "        ## 부족하면 채워준다.\n",
    "        update_tag = remove_seen(cur_tag, popular_date_tag[date]['tags'])\n",
    "        cur_tag.extend(update_tag)\n",
    "        cur_tag = cur_tag[:10]\n",
    "    if len(cur_tag) == 0:\n",
    "        cur_tag = popular_date_tag[date]['tags'][:10]\n",
    "        \n",
    "    #############################################################    \n",
    "\n",
    "    val1_predict.append({\n",
    "        \"id\" : val_tmp.iloc[i]['id'],\n",
    "        \"songs\": remove_seen(val_tmp.iloc[i]['songs'], cur_song)[:100],\n",
    "        \"tags\": cur_tag,\n",
    "    })\n",
    "    "
   ]
  },
  {
   "cell_type": "code",
   "execution_count": null,
   "metadata": {},
   "outputs": [],
   "source": [
    "## save file\n",
    "write_json(val1_predict, 'test1+3_'+str(small_years)+'.json')"
   ]
  }
 ],
 "metadata": {
  "kernelspec": {
   "display_name": "Python 3",
   "language": "python",
   "name": "python3"
  },
  "language_info": {
   "codemirror_mode": {
    "name": "ipython",
    "version": 3
   },
   "file_extension": ".py",
   "mimetype": "text/x-python",
   "name": "python",
   "nbconvert_exporter": "python",
   "pygments_lexer": "ipython3",
   "version": "3.7.7"
  }
 },
 "nbformat": 4,
 "nbformat_minor": 4
}
