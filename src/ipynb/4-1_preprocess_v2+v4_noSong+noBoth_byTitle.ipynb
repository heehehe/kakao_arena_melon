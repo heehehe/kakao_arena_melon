{
 "cells": [
  {
   "cell_type": "markdown",
   "metadata": {
    "colab_type": "text",
    "id": "view-in-github"
   },
   "source": [
    "<a href=\"https://colab.research.google.com/github/heehehe/kakao_arena_melon/blob/master/modeling_by_title\" target=\"_parent\"><img src=\"https://colab.research.google.com/assets/colab-badge.svg\" alt=\"Open In Colab\"/></a>"
   ]
  },
  {
   "cell_type": "markdown",
   "metadata": {
    "colab_type": "text",
    "id": "FkTw3YI6_Ned"
   },
   "source": [
    "###패키지 import & data 불러오기"
   ]
  },
  {
   "cell_type": "code",
   "execution_count": null,
   "metadata": {
    "colab": {},
    "colab_type": "code",
    "id": "JmLyJl7EwSyM"
   },
   "outputs": [],
   "source": [
    "!git clone https://github.com/kakao/khaiii.git\n",
    "!pip install cmake\n",
    "!mkdir build\n",
    "!cd build && cmake /content/khaiii\n",
    "!cd /content/build/ && make all\n",
    "!cd /content/build/ && make resource\n",
    "!cd /content/build && make install\n",
    "!cd /content/build && make package_python\n",
    "!pip install /content/build/package_python"
   ]
  },
  {
   "cell_type": "code",
   "execution_count": null,
   "metadata": {
    "colab": {
     "base_uri": "https://localhost:8080/",
     "height": 121
    },
    "colab_type": "code",
    "executionInfo": {
     "elapsed": 40079,
     "status": "ok",
     "timestamp": 1595735418713,
     "user": {
      "displayName": "‍전희선[학생](응용과학대학 응용수학과)",
      "photoUrl": "",
      "userId": "01270668663038427257"
     },
     "user_tz": -540
    },
    "id": "oW18XVKM-HVk",
    "outputId": "79e55d61-bce1-4adb-deaf-14ceba1072d2"
   },
   "outputs": [
    {
     "name": "stdout",
     "output_type": "stream",
     "text": [
      "Go to this URL in a browser: https://accounts.google.com/o/oauth2/auth?client_id=947318989803-6bn6qk8qdgf4n4g3pfee6491hc0brc4i.apps.googleusercontent.com&redirect_uri=urn%3aietf%3awg%3aoauth%3a2.0%3aoob&response_type=code&scope=email%20https%3a%2f%2fwww.googleapis.com%2fauth%2fdocs.test%20https%3a%2f%2fwww.googleapis.com%2fauth%2fdrive%20https%3a%2f%2fwww.googleapis.com%2fauth%2fdrive.photos.readonly%20https%3a%2f%2fwww.googleapis.com%2fauth%2fpeopleapi.readonly\n",
      "\n",
      "Enter your authorization code:\n",
      "··········\n",
      "Mounted at /content/gdrive/\n"
     ]
    }
   ],
   "source": [
    "### colab 사용 시 실행\n",
    "from google.colab import drive\n",
    "drive.mount('/content/gdrive/')\n",
    "import os\n",
    "os.chdir('gdrive/My Drive/Google Colaboratory/kakao_arena/kakao_arena_melon')  #/src/ipynb')"
   ]
  },
  {
   "cell_type": "code",
   "execution_count": null,
   "metadata": {
    "colab": {},
    "colab_type": "code",
    "id": "U6f7Fs8aqHAh"
   },
   "outputs": [],
   "source": [
    "import sys\n",
    "from src.basic_utils import *\n",
    "\n",
    "import re\n",
    "from khaiii import KhaiiiApi\n",
    "import seaborn as sns\n",
    "import matplotlib.pyplot as plt\n",
    "import matplotlib as mpl"
   ]
  },
  {
   "cell_type": "code",
   "execution_count": null,
   "metadata": {
    "colab": {},
    "colab_type": "code",
    "id": "w_6ID_v_u0sR"
   },
   "outputs": [],
   "source": [
    "data_path = 'data/'\n",
    "\n",
    "train = pd.read_parquet(data_path+'train(song_trim).parquet')\n",
    "val = pd.read_json(data_path+'val(lower).json')\n",
    "test = pd.read_json(data_path+'test(lower).json')\n",
    "song_meta = load_json(data_path+'song_meta.json')\n",
    "# genre_gn_all = pd.read_json(data_path+'genre_gn_all.json', typ = 'series')\n",
    "\n",
    "### make_file.ipynb 내에서 만들어진 tag_song_dict / song_tag_dict 불러오기\n",
    "tag_song_dict = load_json(data_path+'tag_song_dict.json')\n",
    "song_tag_dict = load_json(data_path+'song_tag_dict.json')"
   ]
  },
  {
   "cell_type": "code",
   "execution_count": null,
   "metadata": {
    "colab": {
     "base_uri": "https://localhost:8080/",
     "height": 106
    },
    "colab_type": "code",
    "id": "edoJHCh3qo4L",
    "outputId": "ea147f50-ae40-4300-81bc-fafb6a913e30"
   },
   "outputs": [
    {
     "data": {
      "text/html": [
       "<div>\n",
       "<style scoped>\n",
       "    .dataframe tbody tr th:only-of-type {\n",
       "        vertical-align: middle;\n",
       "    }\n",
       "\n",
       "    .dataframe tbody tr th {\n",
       "        vertical-align: top;\n",
       "    }\n",
       "\n",
       "    .dataframe thead th {\n",
       "        text-align: right;\n",
       "    }\n",
       "</style>\n",
       "<table border=\"1\" class=\"dataframe\">\n",
       "  <thead>\n",
       "    <tr style=\"text-align: right;\">\n",
       "      <th></th>\n",
       "      <th>tags</th>\n",
       "      <th>id</th>\n",
       "      <th>plylst_title</th>\n",
       "      <th>songs</th>\n",
       "      <th>like_cnt</th>\n",
       "      <th>updt_date</th>\n",
       "    </tr>\n",
       "  </thead>\n",
       "  <tbody>\n",
       "    <tr>\n",
       "      <th>0</th>\n",
       "      <td>[락]</td>\n",
       "      <td>61281</td>\n",
       "      <td>여행같은 음악</td>\n",
       "      <td>[525514, 129701, 383374, 562083, 297861, 13954...</td>\n",
       "      <td>71</td>\n",
       "      <td>2013-12-19 18:36:19.000</td>\n",
       "    </tr>\n",
       "    <tr>\n",
       "      <th>1</th>\n",
       "      <td>[추억, 회상]</td>\n",
       "      <td>10532</td>\n",
       "      <td>요즘 너 말야</td>\n",
       "      <td>[432406, 675945, 497066, 120377, 389529, 24427...</td>\n",
       "      <td>1</td>\n",
       "      <td>2014-12-02 16:19:42.000</td>\n",
       "    </tr>\n",
       "  </tbody>\n",
       "</table>\n",
       "</div>"
      ],
      "text/plain": [
       "       tags     id  ... like_cnt                updt_date\n",
       "0       [락]  61281  ...       71  2013-12-19 18:36:19.000\n",
       "1  [추억, 회상]  10532  ...        1  2014-12-02 16:19:42.000\n",
       "\n",
       "[2 rows x 6 columns]"
      ]
     },
     "execution_count": 4,
     "metadata": {
      "tags": []
     },
     "output_type": "execute_result"
    }
   ],
   "source": [
    "train.head(2)"
   ]
  },
  {
   "cell_type": "markdown",
   "metadata": {
    "colab_type": "text",
    "id": "TFEvDO_drCFk"
   },
   "source": [
    "### 제목에서 가수 추출"
   ]
  },
  {
   "cell_type": "code",
   "execution_count": 86,
   "metadata": {
    "colab": {},
    "colab_type": "code",
    "executionInfo": {
     "elapsed": 881,
     "status": "ok",
     "timestamp": 1595759965641,
     "user": {
      "displayName": "‍전희선[학생](응용과학대학 응용수학과)",
      "photoUrl": "",
      "userId": "01270668663038427257"
     },
     "user_tz": -540
    },
    "id": "ycITViOSryVA"
   },
   "outputs": [],
   "source": [
    "artist_list = []\n",
    "for sm in song_meta:\n",
    "    artist_list.extend(sm['artist_name_basket'])\n",
    "artist_list = list(set(artist_list))"
   ]
  },
  {
   "cell_type": "code",
   "execution_count": 87,
   "metadata": {
    "colab": {
     "base_uri": "https://localhost:8080/",
     "height": 34
    },
    "colab_type": "code",
    "executionInfo": {
     "elapsed": 865,
     "status": "ok",
     "timestamp": 1595759989013,
     "user": {
      "displayName": "‍전희선[학생](응용과학대학 응용수학과)",
      "photoUrl": "",
      "userId": "01270668663038427257"
     },
     "user_tz": -540
    },
    "id": "PJEKfKRmsEBf",
    "outputId": "feacab09-9a53-4988-8f8c-38de112cc260"
   },
   "outputs": [
    {
     "data": {
      "text/plain": [
       "111304"
      ]
     },
     "execution_count": 87,
     "metadata": {
      "tags": []
     },
     "output_type": "execute_result"
    }
   ],
   "source": [
    "len(artist_list)"
   ]
  },
  {
   "cell_type": "code",
   "execution_count": null,
   "metadata": {
    "colab": {},
    "colab_type": "code",
    "id": "RxNvhjeTrBg6"
   },
   "outputs": [],
   "source": [
    "# 과도한 for문으로 너무 오래걸려서 fail\n",
    "\n",
    "tags_artist_list = [[]]*len(train)\n",
    "\n",
    "for i in tqdm(range(len(train))):\n",
    "    for artist in artist_list:\n",
    "        if train.iloc[i]['plylst_title'].find(artist) != -1:\n",
    "            tags_artist_list[i].append(artist)"
   ]
  },
  {
   "cell_type": "markdown",
   "metadata": {
    "colab_type": "text",
    "id": "tw4tB4ebIAg0"
   },
   "source": [
    "#### tag 형태소 분석"
   ]
  },
  {
   "cell_type": "code",
   "execution_count": null,
   "metadata": {
    "colab": {
     "base_uri": "https://localhost:8080/",
     "height": 70
    },
    "colab_type": "code",
    "id": "rcN8ZA3kcapA",
    "outputId": "04917082-2440-4e61-bd79-011d870449ea"
   },
   "outputs": [
    {
     "name": "stdout",
     "output_type": "stream",
     "text": [
      "train에서 title 존재 데이터 개수 : 115071개 (100.0%)\n",
      "val에서 title 존재 데이터 개수   : 4373개 (19.00065174885944%)\n",
      "test에서 title 존재 데이터 개수  : 2041개 (19.00372439478585%)\n"
     ]
    }
   ],
   "source": [
    "print('train에서 title 존재 데이터 개수 : {}개 ({}%)'.format(len(train[train['plylst_title']!='']), len(train[train['plylst_title']!=''])/len(train)*100))\n",
    "print('val에서 title 존재 데이터 개수   : {}개 ({}%)'.format(len(val[val['plylst_title']!='']),     len(val[val['plylst_title']!=''])/len(val)*100))\n",
    "print('test에서 title 존재 데이터 개수  : {}개 ({}%)'.format(len(test[test['plylst_title']!='']),   len(test[test['plylst_title']!=''])/len(test)*100))"
   ]
  },
  {
   "cell_type": "code",
   "execution_count": null,
   "metadata": {
    "colab": {},
    "colab_type": "code",
    "id": "dArW5Yg2tPFr"
   },
   "outputs": [],
   "source": [
    "def flatten(df_col):\n",
    "    # nested list 풀기\n",
    "    list_of_list = df_col.values.tolist()\n",
    "    flatten = [j for i in list_of_list for j in i]\n",
    "    return flatten\n",
    "\n",
    "def do_khaiii(data):\n",
    "    api = KhaiiiApi()\n",
    "    morphs_prep = []\n",
    "    for d in data:\n",
    "        try:\n",
    "            for word in api.analyze(d):\n",
    "                for w in word.morphs:\n",
    "                    if len(w.lex) > 1 or w.tag not in ['ETM','ETN','XSA','JX','VV']:\n",
    "                        morphs_prep.append((w.lex, w.tag))\n",
    "        except:\n",
    "            pass # 비어있는 경우\n",
    "    gc.collect()\n",
    "    return morphs_prep\n",
    "\n",
    "def do_khaiii_col(data):\n",
    "    api = KhaiiiApi()\n",
    "    morphs_prep = ['']*len(data)\n",
    "    for i,d in enumerate(data):\n",
    "        try:\n",
    "            for word in api.analyze(d):\n",
    "                for w in word.morphs:\n",
    "                    if len(w.lex) > 1 or w.tag not in ['ETM','ETN','XSA','JX','VV']:\n",
    "                        morphs_prep[i] = (w.lex, w.tag)\n",
    "        except:\n",
    "            pass # 비어있는 경우\n",
    "    gc.collect()\n",
    "    return morphs_prep"
   ]
  },
  {
   "cell_type": "code",
   "execution_count": 72,
   "metadata": {
    "colab": {
     "base_uri": "https://localhost:8080/",
     "height": 0
    },
    "colab_type": "code",
    "executionInfo": {
     "elapsed": 728,
     "status": "ok",
     "timestamp": 1595757297622,
     "user": {
      "displayName": "‍전희선[학생](응용과학대학 응용수학과)",
      "photoUrl": "",
      "userId": "01270668663038427257"
     },
     "user_tz": -540
    },
    "id": "rtWKvJ41i4og",
    "outputId": "0238ee63-d0ae-4816-b236-c1cd1ccefc44"
   },
   "outputs": [
    {
     "name": "stdout",
     "output_type": "stream",
     "text": [
      "크리스마스캐롤\t크리스마스캐롤/NNG\n"
     ]
    }
   ],
   "source": [
    "d='크리스마스캐롤'\n",
    "for word in api.analyze(d):\n",
    "    print(word)\n",
    "    # for w in word.morphs:"
   ]
  },
  {
   "cell_type": "code",
   "execution_count": null,
   "metadata": {
    "colab": {},
    "colab_type": "code",
    "id": "9R7zUBRyuUf4"
   },
   "outputs": [],
   "source": [
    "tags_list = flatten(train['tags'])\n",
    "songs_list = flatten(train['songs'])"
   ]
  },
  {
   "cell_type": "code",
   "execution_count": null,
   "metadata": {
    "colab": {
     "base_uri": "https://localhost:8080/",
     "height": 52
    },
    "colab_type": "code",
    "id": "qX6_WEHduy9A",
    "outputId": "3e2a26ed-571e-4bf3-8890-4d43295d4dfd"
   },
   "outputs": [
    {
     "name": "stdout",
     "output_type": "stream",
     "text": [
      "476331\n",
      "5285871\n"
     ]
    }
   ],
   "source": [
    "print(len(tags_list))\n",
    "print(len(songs_list))"
   ]
  },
  {
   "cell_type": "code",
   "execution_count": null,
   "metadata": {
    "colab": {},
    "colab_type": "code",
    "id": "5eRTCBXsMtVG"
   },
   "outputs": [],
   "source": [
    "tag_morphs = []\n",
    "for tag in tqdm(tags_list):\n",
    "    tag_morphs.extend(do_khaiii(tag))"
   ]
  },
  {
   "cell_type": "code",
   "execution_count": null,
   "metadata": {
    "colab": {
     "base_uri": "https://localhost:8080/",
     "height": 34
    },
    "colab_type": "code",
    "id": "RX3aRxJxqufM",
    "outputId": "6586d066-eead-4178-9322-f08c4569852f"
   },
   "outputs": [
    {
     "data": {
      "text/plain": [
       "722860"
      ]
     },
     "execution_count": 115,
     "metadata": {
      "tags": []
     },
     "output_type": "execute_result"
    }
   ],
   "source": [
    "len(tag_morphs)"
   ]
  },
  {
   "cell_type": "code",
   "execution_count": null,
   "metadata": {
    "colab": {
     "base_uri": "https://localhost:8080/",
     "height": 545
    },
    "colab_type": "code",
    "id": "q6prxVUBqPd6",
    "outputId": "a86c2f21-4ccf-48c6-8c22-3b82d730a397"
   },
   "outputs": [
    {
     "data": {
      "text/plain": [
       "[(('ㄴ', 'ETM'), 26970),\n",
       " (('하', 'XSA'), 21926),\n",
       " (('기분', 'NNG'), 17443),\n",
       " (('전환', 'NNG'), 16543),\n",
       " (('감성', 'NNG'), 14411),\n",
       " (('휴식', 'NNG'), 11385),\n",
       " (('발라드', 'NNG'), 10798),\n",
       " (('잔잔', 'XR'), 10526),\n",
       " (('드라이브', 'NNG'), 10212),\n",
       " (('힐링', 'NNG'), 9871),\n",
       " (('새벽', 'NNG'), 9422),\n",
       " (('사랑', 'NNG'), 9418),\n",
       " (('힙합', 'NNG'), 8983),\n",
       " (('밤', 'NNG'), 8765),\n",
       " (('음악', 'NNG'), 8649),\n",
       " (('는', 'JX'), 8462),\n",
       " (('카페', 'NNG'), 7776),\n",
       " (('팝', 'NNG'), 7373),\n",
       " (('추억', 'NNG'), 6841),\n",
       " (('ㅁ', 'ETN'), 6388),\n",
       " (('매장', 'NNG'), 6124),\n",
       " (('인디', 'NNG'), 5594),\n",
       " (('이별', 'NNG'), 5505),\n",
       " (('설', 'NNP'), 5090),\n",
       " (('나', 'VV'), 5027),\n",
       " (('신', 'NNG'), 4988),\n",
       " (('레', 'VV'), 4912),\n",
       " (('여행', 'NNG'), 4857),\n",
       " (('회상', 'NNG'), 4736),\n",
       " (('겨울', 'NNG'), 4727)]"
      ]
     },
     "execution_count": 122,
     "metadata": {
      "tags": []
     },
     "output_type": "execute_result"
    }
   ],
   "source": [
    "# Counter([t[0] for t in tag_morphs]).most_common()\n",
    "Counter(tag_morphs).most_common()[:30]"
   ]
  },
  {
   "cell_type": "code",
   "execution_count": null,
   "metadata": {
    "colab": {
     "base_uri": "https://localhost:8080/",
     "height": 483
    },
    "colab_type": "code",
    "id": "8CEgzm85UFA9",
    "outputId": "2eea8fc3-f014-4b04-f139-1dc697ad79a7"
   },
   "outputs": [
    {
     "data": {
      "image/png": "[encoded data removed]",
      "text/plain": [
       "<Figure size 576x576 with 1 Axes>"
      ]
     },
     "metadata": {
      "needs_background": "light",
      "tags": []
     },
     "output_type": "display_data"
    }
   ],
   "source": [
    "tag_morphs_counter = Counter([t[1] for t in tag_morphs]).most_common()\n",
    "tag_morphs_list = [t[0] for t in tag_morphs_counter]\n",
    "tag_morphs_cnt = [t[1] for t in tag_morphs_counter]\n",
    "\n",
    "plt.figure(figsize=(8,8))\n",
    "plt.barh(tag_morphs_list[::-1], tag_morphs_cnt[::-1])\n",
    "plt.show()"
   ]
  },
  {
   "cell_type": "code",
   "execution_count": null,
   "metadata": {
    "colab": {},
    "colab_type": "code",
    "id": "fqzRzwSwPg9k"
   },
   "outputs": [],
   "source": [
    "tag_morphs_counter"
   ]
  },
  {
   "cell_type": "code",
   "execution_count": null,
   "metadata": {
    "colab": {},
    "colab_type": "code",
    "id": "3F6ZToFoZ6t0"
   },
   "outputs": [],
   "source": [
    "api = KhaiiiApi()\n",
    "\n",
    "tag_morphs_prep = []\n",
    "for tag in train['tags']:\n",
    "    for t in tag:\n",
    "        try:\n",
    "            for word in api.analyze(t):\n",
    "                for w in word.morphs:\n",
    "                    if len(w.lex) > 1 or w.tag not in ['ETM','ETN','XSA','JX','VV']:\n",
    "                        tag_morphs_prep.append((w.lex, w.tag))\n",
    "        except:\n",
    "            pass # 비어있는 경우"
   ]
  },
  {
   "cell_type": "code",
   "execution_count": null,
   "metadata": {
    "colab": {
     "base_uri": "https://localhost:8080/",
     "height": 34
    },
    "colab_type": "code",
    "id": "qK5G6WAE0flG",
    "outputId": "7fee4680-cc4d-4721-e73b-a83f5eff29db"
   },
   "outputs": [
    {
     "data": {
      "text/plain": [
       "623244"
      ]
     },
     "execution_count": 140,
     "metadata": {
      "tags": []
     },
     "output_type": "execute_result"
    }
   ],
   "source": [
    "len(tag_morphs_prep)"
   ]
  },
  {
   "cell_type": "code",
   "execution_count": null,
   "metadata": {
    "colab": {
     "base_uri": "https://localhost:8080/",
     "height": 545
    },
    "colab_type": "code",
    "id": "DO1Op8jD7Sf3",
    "outputId": "91702fd7-9386-419d-a82d-79b4e2401a35"
   },
   "outputs": [
    {
     "data": {
      "text/plain": [
       "[(('기분', 'NNG'), 17443),\n",
       " (('전환', 'NNG'), 16543),\n",
       " (('감성', 'NNG'), 14411),\n",
       " (('휴식', 'NNG'), 11385),\n",
       " (('발라드', 'NNG'), 10798),\n",
       " (('잔잔', 'XR'), 10526),\n",
       " (('드라이브', 'NNG'), 10212),\n",
       " (('힐링', 'NNG'), 9871),\n",
       " (('새벽', 'NNG'), 9422),\n",
       " (('사랑', 'NNG'), 9418),\n",
       " (('힙합', 'NNG'), 8983),\n",
       " (('밤', 'NNG'), 8765),\n",
       " (('음악', 'NNG'), 8649),\n",
       " (('카페', 'NNG'), 7776),\n",
       " (('팝', 'NNG'), 7373),\n",
       " (('추억', 'NNG'), 6841),\n",
       " (('매장', 'NNG'), 6124),\n",
       " (('인디', 'NNG'), 5594),\n",
       " (('이별', 'NNG'), 5505),\n",
       " (('설', 'NNP'), 5090),\n",
       " (('신', 'NNG'), 4988),\n",
       " (('여행', 'NNG'), 4857),\n",
       " (('회상', 'NNG'), 4736),\n",
       " (('겨울', 'NNG'), 4727),\n",
       " (('여름', 'NNG'), 4358),\n",
       " (('가을', 'NNG'), 4169),\n",
       " (('비', 'NNG'), 4166),\n",
       " (('스트레스', 'NNG'), 4163),\n",
       " (('노래', 'NNG'), 4077),\n",
       " (('락', 'MAG'), 4026)]"
      ]
     },
     "execution_count": 141,
     "metadata": {
      "tags": []
     },
     "output_type": "execute_result"
    }
   ],
   "source": [
    "Counter(tag_morphs_prep).most_common()[:30]"
   ]
  },
  {
   "cell_type": "code",
   "execution_count": null,
   "metadata": {
    "colab": {
     "base_uri": "https://localhost:8080/",
     "height": 483
    },
    "colab_type": "code",
    "id": "bjwCBDSo6GUK",
    "outputId": "19a224ac-5c93-40e1-d632-37b25d5454ae"
   },
   "outputs": [
    {
     "data": {
      "image/png": "[encoded data removed]",
      "text/plain": [
       "<Figure size 576x576 with 1 Axes>"
      ]
     },
     "metadata": {
      "needs_background": "light",
      "tags": []
     },
     "output_type": "display_data"
    }
   ],
   "source": [
    "tag_morphs_counter = Counter([t[1] for t in tag_morphs_prep]).most_common()\n",
    "tag_morphs_list = [t[0] for t in tag_morphs_counter]\n",
    "tag_morphs_cnt = [t[1] for t in tag_morphs_counter]\n",
    "\n",
    "plt.figure(figsize=(8,8))\n",
    "plt.barh(tag_morphs_list[::-1], tag_morphs_cnt[::-1])\n",
    "plt.show()"
   ]
  },
  {
   "cell_type": "code",
   "execution_count": null,
   "metadata": {
    "colab": {
     "base_uri": "https://localhost:8080/",
     "height": 738
    },
    "colab_type": "code",
    "id": "mI6_PwqA6GRX",
    "outputId": "5d4a2994-dd99-4566-de3f-37448a391582"
   },
   "outputs": [
    {
     "data": {
      "text/plain": [
       "[('NNG', 441528),\n",
       " ('NNP', 55476),\n",
       " ('SL', 31299),\n",
       " ('XR', 19608),\n",
       " ('MAG', 12875),\n",
       " ('EC', 8372),\n",
       " ('VA', 8109),\n",
       " ('SN', 7700),\n",
       " ('XSN', 5605),\n",
       " ('JKB', 4754),\n",
       " ('NNB', 3702),\n",
       " ('VV', 3687),\n",
       " ('SS', 3369),\n",
       " ('VCP', 3337),\n",
       " ('JKS', 2194),\n",
       " ('VX', 2095),\n",
       " ('XSV', 1921),\n",
       " ('NP', 1568),\n",
       " ('JKO', 989),\n",
       " ('JKG', 945),\n",
       " ('MM', 904),\n",
       " ('IC', 853),\n",
       " ('XPN', 664),\n",
       " ('EP', 530),\n",
       " ('JC', 401),\n",
       " ('NR', 193),\n",
       " ('JX', 138),\n",
       " ('SH', 99),\n",
       " ('XSA', 89),\n",
       " ('SW', 66),\n",
       " ('MAJ', 41),\n",
       " ('VCN', 23),\n",
       " ('JKV', 21),\n",
       " ('ETM', 17),\n",
       " ('ZZ', 16),\n",
       " ('SO', 14),\n",
       " ('EF', 12),\n",
       " ('SE', 11),\n",
       " ('JKC', 10),\n",
       " ('SP', 6),\n",
       " ('ZV', 3)]"
      ]
     },
     "execution_count": 143,
     "metadata": {
      "tags": []
     },
     "output_type": "execute_result"
    }
   ],
   "source": [
    "tag_morphs_counter"
   ]
  },
  {
   "cell_type": "markdown",
   "metadata": {
    "colab_type": "text",
    "id": "WX6r6hD8_i44"
   },
   "source": [
    "#### train에서 title로 태그 추출"
   ]
  },
  {
   "cell_type": "code",
   "execution_count": null,
   "metadata": {
    "colab": {},
    "colab_type": "code",
    "id": "RqyntrbNGVH5"
   },
   "outputs": [],
   "source": [
    "api = KhaiiiApi()\n",
    "\n",
    "def do_khaiii_col(data):\n",
    "    morphs_prep = ['']*len(data)\n",
    "    for i,d in enumerate(tqdm(data)):\n",
    "        list_add = []\n",
    "        try:\n",
    "            for word in api.analyze(d):\n",
    "                for w in word.morphs:\n",
    "                    # if w.tag in ['NNG','NNP','SL','XR']:\n",
    "                    # if (len(w.lex) > 1 or w.tag not in ['ETM','ETN','JX','VV','VA','VCP']) \\\n",
    "                    if len(w.lex) > 1\\\n",
    "                       and w.tag not in ['NP','JKS','JKC','JKG','JKO','JKB','JKV','JKQ','JX','JC',\\\n",
    "                                         'EP','EF','EC','SF','SP','SS','SE','SO','XSA','VV','VA']\\\n",
    "                       and w.lex not in ['ㅋ','노래','음악','곡','월']:\n",
    "                        list_add.append((w.lex, w.tag))\n",
    "        except:\n",
    "            pass # 비어있는 경우\n",
    "        morphs_prep[i] = list_add\n",
    "    gc.collect()\n",
    "    return morphs_prep"
   ]
  },
  {
   "cell_type": "code",
   "execution_count": null,
   "metadata": {
    "colab": {
     "base_uri": "https://localhost:8080/",
     "height": 1000
    },
    "colab_type": "code",
    "executionInfo": {
     "elapsed": 76875,
     "status": "ok",
     "timestamp": 1595757770488,
     "user": {
      "displayName": "‍전희선[학생](응용과학대학 응용수학과)",
      "photoUrl": "",
      "userId": "01270668663038427257"
     },
     "user_tz": -540
    },
    "id": "Xl6QBlSqxPTb",
    "outputId": "e5f65ac5-fa47-4d22-c543-ad0a762f83c4"
   },
   "outputs": [],
   "source": [
    "title_khaiii = do_khaiii_col(train['plylst_title'].str.replace(\"[^0-9a-zA-Zㄱ-ㅎㅏ-ㅣ가-힣 ]\",\"\")) #A-Za-z"
   ]
  },
  {
   "cell_type": "code",
   "execution_count": null,
   "metadata": {
    "colab": {},
    "colab_type": "code",
    "id": "YNhQGuQfYCrA"
   },
   "outputs": [],
   "source": [
    "# 태그 없애기\n",
    "title_khaiii2 = title_khaiii.copy()\n",
    "for i,title in enumerate(title_khaiii):\n",
    "    title_khaiii2[i] = [t[0] for t in title]"
   ]
  },
  {
   "cell_type": "code",
   "execution_count": 74,
   "metadata": {
    "colab": {},
    "colab_type": "code",
    "executionInfo": {
     "elapsed": 780,
     "status": "ok",
     "timestamp": 1595757937854,
     "user": {
      "displayName": "‍전희선[학생](응용과학대학 응용수학과)",
      "photoUrl": "",
      "userId": "01270668663038427257"
     },
     "user_tz": -540
    },
    "id": "VpRDNF3zSz3g"
   },
   "outputs": [],
   "source": [
    "train['title2tags'] = title_khaiii"
   ]
  },
  {
   "cell_type": "code",
   "execution_count": 77,
   "metadata": {
    "colab": {
     "base_uri": "https://localhost:8080/",
     "height": 1000
    },
    "colab_type": "code",
    "executionInfo": {
     "elapsed": 732,
     "status": "ok",
     "timestamp": 1595758589952,
     "user": {
      "displayName": "‍전희선[학생](응용과학대학 응용수학과)",
      "photoUrl": "",
      "userId": "01270668663038427257"
     },
     "user_tz": -540
    },
    "id": "6vQXLxINS0PZ",
    "outputId": "49237954-872e-4127-b10e-048f2b90d4cc"
   },
   "outputs": [
    {
     "data": {
      "text/html": [
       "<div>\n",
       "<style scoped>\n",
       "    .dataframe tbody tr th:only-of-type {\n",
       "        vertical-align: middle;\n",
       "    }\n",
       "\n",
       "    .dataframe tbody tr th {\n",
       "        vertical-align: top;\n",
       "    }\n",
       "\n",
       "    .dataframe thead th {\n",
       "        text-align: right;\n",
       "    }\n",
       "</style>\n",
       "<table border=\"1\" class=\"dataframe\">\n",
       "  <thead>\n",
       "    <tr style=\"text-align: right;\">\n",
       "      <th></th>\n",
       "      <th>plylst_title</th>\n",
       "      <th>tags</th>\n",
       "      <th>title2tags</th>\n",
       "    </tr>\n",
       "  </thead>\n",
       "  <tbody>\n",
       "    <tr>\n",
       "      <th>115021</th>\n",
       "      <td>커피와 함께 밤에듣는 명품 보이스라떼.</td>\n",
       "      <td>[감성, 밤, 봄노래, 라떼, 봄바람, 드라이브, 기분전환, 발라드]</td>\n",
       "      <td>[(커피, NNG), (함께, MAG), (명품, NNG), (보이스라떼, NNG)]</td>\n",
       "    </tr>\n",
       "    <tr>\n",
       "      <th>115022</th>\n",
       "      <td>와닿는 가사들, 멜로디..</td>\n",
       "      <td>[발라드]</td>\n",
       "      <td>[(가사, NNG), (멜로디, NNG)]</td>\n",
       "    </tr>\n",
       "    <tr>\n",
       "      <th>115023</th>\n",
       "      <td>귀르가즘 느끼는 노래모음 이어폰 필수</td>\n",
       "      <td>[힙합, 감성, 귀르가즘, 이어폰, 드라이브, 여행, 감성새벽]</td>\n",
       "      <td>[(귀르가즘, NNG), (모음, NNG), (이어폰, NNG), (필수, NNG)]</td>\n",
       "    </tr>\n",
       "    <tr>\n",
       "      <th>115024</th>\n",
       "      <td>[매주 업데이트] 슈가맨 시즌3 슈가송 모음</td>\n",
       "      <td>[슈가맨, 과거, 8090, 추억, 옛날노래, 슈가맨3, 탑골공원, 회상, 슈가맨시즌3]</td>\n",
       "      <td>[(매주, MAG), (업데이트, NNG), (슈가맨, NNP), (시즌, NNG)...</td>\n",
       "    </tr>\n",
       "    <tr>\n",
       "      <th>115025</th>\n",
       "      <td>지친 당신에게 위로가 되어줄 노래들</td>\n",
       "      <td>[감성, 밤, 새벽, 휴식, 위로, 힐링, 사랑, 이별, 인디]</td>\n",
       "      <td>[(위로, NNG)]</td>\n",
       "    </tr>\n",
       "    <tr>\n",
       "      <th>115026</th>\n",
       "      <td>여유로운 연휴! 개성있는 감성 뮤직과 함께!</td>\n",
       "      <td>[여유로운, 감성, 개성있는, 연휴, 취향저격, 드라이브, 즐거운, 명절]</td>\n",
       "      <td>[(여유, NNG), (연휴, NNG), (개성, NNG), (감성, NNG), (...</td>\n",
       "    </tr>\n",
       "    <tr>\n",
       "      <th>115027</th>\n",
       "      <td>따뜻한 봄을 알리는 음악</td>\n",
       "      <td>[겨울, 입학, 봄, 따뜻한, 졸업]</td>\n",
       "      <td>[(따뜻, XR)]</td>\n",
       "    </tr>\n",
       "    <tr>\n",
       "      <th>115028</th>\n",
       "      <td>클럽에서 즐기는 진정한 즐거움!?</td>\n",
       "      <td>[힙합, 랩]</td>\n",
       "      <td>[(클럽, NNG), (진정, XR), (즐거움, NNG)]</td>\n",
       "    </tr>\n",
       "    <tr>\n",
       "      <th>115029</th>\n",
       "      <td>우울증 환자 Vol.4</td>\n",
       "      <td>[락]</td>\n",
       "      <td>[(우울증, NNG), (환자, NNG), (Vol, SL)]</td>\n",
       "    </tr>\n",
       "    <tr>\n",
       "      <th>115030</th>\n",
       "      <td>취향저격 나만의 팝송 GET!!</td>\n",
       "      <td>[감성, 잔잔한, 취향저격, 팝송음악, pop, 휴식, 팝송, 기분전환, 힐링, 신나는]</td>\n",
       "      <td>[(취향, NNG), (저격, NNG), (팝송, NNG), (GET, SL)]</td>\n",
       "    </tr>\n",
       "    <tr>\n",
       "      <th>115031</th>\n",
       "      <td>한 방울의 추억 (나의 아름다운 시절은...)</td>\n",
       "      <td>[추억, 회상]</td>\n",
       "      <td>[(방울, NNG), (추억, NNG), (시절, NNG)]</td>\n",
       "    </tr>\n",
       "    <tr>\n",
       "      <th>115032</th>\n",
       "      <td>오마이걸 콘서트 '여름동화'</td>\n",
       "      <td>[오마이걸, 공연, 콘서트]</td>\n",
       "      <td>[(오마이걸, NNP), (콘서트, NNG), (여름, NNG), (동화, NNG)]</td>\n",
       "    </tr>\n",
       "    <tr>\n",
       "      <th>115033</th>\n",
       "      <td>RomanticShow</td>\n",
       "      <td>[로맨틱쇼]</td>\n",
       "      <td>[(RomanticShow, SL)]</td>\n",
       "    </tr>\n",
       "    <tr>\n",
       "      <th>115034</th>\n",
       "      <td>못 들어본 사람은 있어도 16</td>\n",
       "      <td>[pop]</td>\n",
       "      <td>[(사람, NNG), (16, SN)]</td>\n",
       "    </tr>\n",
       "    <tr>\n",
       "      <th>115035</th>\n",
       "      <td>사상 최대 규모의 Tomorrowland 2017이 기대되는 이유</td>\n",
       "      <td>[투모로우랜드, electronica, edm페스티벌, edm, 빌로우, 신나는]</td>\n",
       "      <td>[(사상, NNG), (최대, NNG), (규모, NNG), (Tomorrowlan...</td>\n",
       "    </tr>\n",
       "    <tr>\n",
       "      <th>115036</th>\n",
       "      <td>3년간 엄선한 EDM 클럽하우스 뮤직 top75</td>\n",
       "      <td>[클럽, 운동]</td>\n",
       "      <td>[(엄선, NNG), (EDM, SL), (클럽하우스, NNG), (뮤직, NNG)...</td>\n",
       "    </tr>\n",
       "    <tr>\n",
       "      <th>115037</th>\n",
       "      <td>사랑하면 왠지 끌리는 노래？？</td>\n",
       "      <td>[발라드]</td>\n",
       "      <td>[(사랑, NNG), (왠지, MAG)]</td>\n",
       "    </tr>\n",
       "    <tr>\n",
       "      <th>115038</th>\n",
       "      <td>봄 봄 봄이왔어요~~~</td>\n",
       "      <td>[취향저격, 어쿠스틱, 봄]</td>\n",
       "      <td>[]</td>\n",
       "    </tr>\n",
       "    <tr>\n",
       "      <th>115039</th>\n",
       "      <td>장르상관없이 본인이 좋아하는노래들</td>\n",
       "      <td>[요즘노래, 감성, 발라드, 드라이브, 댄스, 추억, 이별노래, 기분전환, 추천노래...</td>\n",
       "      <td>[(장르, NNG), (상관, NNG), (없이, MAG), (본인, NNG)]</td>\n",
       "    </tr>\n",
       "    <tr>\n",
       "      <th>115040</th>\n",
       "      <td>섹시 분위기 힙합</td>\n",
       "      <td>[힙합]</td>\n",
       "      <td>[(분위기, NNG), (힙합, NNG)]</td>\n",
       "    </tr>\n",
       "    <tr>\n",
       "      <th>115041</th>\n",
       "      <td>상쾌한 아침과 드라이브, 신나는 노래</td>\n",
       "      <td>[아침, 운동, 드라이브, 힐링, 기분전환, 스트레칭]</td>\n",
       "      <td>[(상쾌, XR), (아침, NNG), (드라이브, NNG)]</td>\n",
       "    </tr>\n",
       "    <tr>\n",
       "      <th>115042</th>\n",
       "      <td>지선의 재발견</td>\n",
       "      <td>[밤, 새벽]</td>\n",
       "      <td>[(지선, NNG), (발견, NNG)]</td>\n",
       "    </tr>\n",
       "    <tr>\n",
       "      <th>115043</th>\n",
       "      <td>흥겨운 빅밴드의 재즈 사운드!</td>\n",
       "      <td>[재즈, 드라이브, 파티, 빅밴드, 스윙]</td>\n",
       "      <td>[(재즈, NNG), (사운드, NNG)]</td>\n",
       "    </tr>\n",
       "    <tr>\n",
       "      <th>115044</th>\n",
       "      <td>행복빵빵뮤직</td>\n",
       "      <td>[휴식, 힐링, 기분전환]</td>\n",
       "      <td>[(행복, NNG), (빵빵, NNG), (뮤직, NNG)]</td>\n",
       "    </tr>\n",
       "    <tr>\n",
       "      <th>115045</th>\n",
       "      <td>2020년 1월</td>\n",
       "      <td>[이별, 그리움]</td>\n",
       "      <td>[(2020, SN)]</td>\n",
       "    </tr>\n",
       "    <tr>\n",
       "      <th>115046</th>\n",
       "      <td>크리스마스&amp;겨울에 생각나는 J-pop</td>\n",
       "      <td>[jpop]</td>\n",
       "      <td>[(크리스마스겨울, NNG), (Jpop, SL)]</td>\n",
       "    </tr>\n",
       "    <tr>\n",
       "      <th>115047</th>\n",
       "      <td>댄스그룹이 부른 감미로운 곡</td>\n",
       "      <td>[부들부들, 감미로운]</td>\n",
       "      <td>[(댄스, NNG), (그룹, NNG), (감미, NNG)]</td>\n",
       "    </tr>\n",
       "    <tr>\n",
       "      <th>115048</th>\n",
       "      <td>선아님아1</td>\n",
       "      <td>[힙합, 랩]</td>\n",
       "      <td>[(선아님아, NNG)]</td>\n",
       "    </tr>\n",
       "    <tr>\n",
       "      <th>115049</th>\n",
       "      <td>첫눈처럼 설레였던 그날♥</td>\n",
       "      <td>[겨울, 설렘, 사랑]</td>\n",
       "      <td>[(첫눈, NNG), (그날, NNG)]</td>\n",
       "    </tr>\n",
       "    <tr>\n",
       "      <th>115050</th>\n",
       "      <td>힙합과 댄스가 만나면</td>\n",
       "      <td>[힙합, 랩]</td>\n",
       "      <td>[(힙합, NNG), (댄스, NNG)]</td>\n",
       "    </tr>\n",
       "    <tr>\n",
       "      <th>115051</th>\n",
       "      <td>기타선율 팝</td>\n",
       "      <td>[락]</td>\n",
       "      <td>[(기타, NNG), (선율, NNG)]</td>\n",
       "    </tr>\n",
       "    <tr>\n",
       "      <th>115052</th>\n",
       "      <td>추억의suppe:overture크로스over...</td>\n",
       "      <td>[슬픔, 이별, 설렘, 사랑]</td>\n",
       "      <td>[(추억, NNG), (suppeoverture, SL), (크로스, NNG), (...</td>\n",
       "    </tr>\n",
       "    <tr>\n",
       "      <th>115053</th>\n",
       "      <td>4.일렉_ComeTogether!!!_custom.GOGR</td>\n",
       "      <td>[클럽, 홍대, 운동, 열정, edm, 20대, 라운지, 월디페, 느낌, 일렉]</td>\n",
       "      <td>[(ComeTogethercustomGOGR, SL)]</td>\n",
       "    </tr>\n",
       "    <tr>\n",
       "      <th>115054</th>\n",
       "      <td>들을수록 걸크러쉬 물씬 느껴지는 음악리스트</td>\n",
       "      <td>[팝]</td>\n",
       "      <td>[(걸크, NNG), (러쉬, NNP), (물씬, MAG), (음악리스트, NNG)]</td>\n",
       "    </tr>\n",
       "    <tr>\n",
       "      <th>115055</th>\n",
       "      <td>12월1일</td>\n",
       "      <td>[매장음악, 까페]</td>\n",
       "      <td>[(12, SN)]</td>\n",
       "    </tr>\n",
       "    <tr>\n",
       "      <th>115056</th>\n",
       "      <td>Let's Groove 느낌있는 감성힙합</td>\n",
       "      <td>[힙합, 감성힙합, 봄, 알앤비, 매장, 그루브, 휴식, 기분전환]</td>\n",
       "      <td>[(Lets, SL), (Groove, SL), (느낌, NNG), (감성, NNG...</td>\n",
       "    </tr>\n",
       "    <tr>\n",
       "      <th>115057</th>\n",
       "      <td>오후의 어쿠스틱 vol.2</td>\n",
       "      <td>[인디]</td>\n",
       "      <td>[(오후, NNG), (어쿠스틱, NNG), (vol, SL)]</td>\n",
       "    </tr>\n",
       "    <tr>\n",
       "      <th>115058</th>\n",
       "      <td>여자친구 명곡</td>\n",
       "      <td>[여친]</td>\n",
       "      <td>[(여자, NNG), (친구, NNG), (명곡, NNG)]</td>\n",
       "    </tr>\n",
       "    <tr>\n",
       "      <th>115059</th>\n",
       "      <td>달달한 사탕같은 노래</td>\n",
       "      <td>[사랑, 밤, 설렘, 새벽]</td>\n",
       "      <td>[(달달, XR), (사탕, NNG)]</td>\n",
       "    </tr>\n",
       "    <tr>\n",
       "      <th>115060</th>\n",
       "      <td>#기분업! 에너지필~ 사운드굿! 해외 EDM/일렉 선곡#2019년9월#</td>\n",
       "      <td>[일렉트로니카, 운동, 에너지, 드라이브, edm, 기분전환, 파티, 기분업, 하우...</td>\n",
       "      <td>[(기분업, NNG), (에너지필, NNG), (사운드굿, NNG), (해외, NN...</td>\n",
       "    </tr>\n",
       "    <tr>\n",
       "      <th>115061</th>\n",
       "      <td>카페에서 손님들이 궁금해하는노래^.^</td>\n",
       "      <td>[까페]</td>\n",
       "      <td>[(카페, NNG), (궁금, XR)]</td>\n",
       "    </tr>\n",
       "    <tr>\n",
       "      <th>115062</th>\n",
       "      <td>J pop처음 듣는 사람도 중독된 듯 빠져드는 j pop 리스트</td>\n",
       "      <td>[힐링, 휴식, 기분전환]</td>\n",
       "      <td>[(pop, SL), (처음, NNG), (사람, NNG), (중독, NNG), (...</td>\n",
       "    </tr>\n",
       "    <tr>\n",
       "      <th>115063</th>\n",
       "      <td>들으면 설레는 드라마 및 영화 삽입곡&amp;OST</td>\n",
       "      <td>[드라마, 설렘, ost, 센치]</td>\n",
       "      <td>[(드라마, NNG), (영화, NNG), (삽입곡, NNG), (OST, SL)]</td>\n",
       "    </tr>\n",
       "    <tr>\n",
       "      <th>115064</th>\n",
       "      <td>meltedmoon's tastes 1</td>\n",
       "      <td>[jpop]</td>\n",
       "      <td>[(meltedmoons, SL), (tastes, SL)]</td>\n",
       "    </tr>\n",
       "    <tr>\n",
       "      <th>115065</th>\n",
       "      <td>남자고백노래</td>\n",
       "      <td>[설렘, 사랑]</td>\n",
       "      <td>[(남자고백, NNG)]</td>\n",
       "    </tr>\n",
       "    <tr>\n",
       "      <th>115066</th>\n",
       "      <td>METAL E'SM #2</td>\n",
       "      <td>[록메탈, 밴드사운드, 록, 락메탈, 메탈, 락, extreme]</td>\n",
       "      <td>[(METAL, SL), (ESM, SL)]</td>\n",
       "    </tr>\n",
       "    <tr>\n",
       "      <th>115067</th>\n",
       "      <td>빠른 리스너를 위한 따끈따끈한 최신 인기 EDM 모음!</td>\n",
       "      <td>[일렉]</td>\n",
       "      <td>[(리스너, NNG), (따끈따끈, MAG), (최신, NNG), (인기, NNG)...</td>\n",
       "    </tr>\n",
       "    <tr>\n",
       "      <th>115068</th>\n",
       "      <td>#1. 눈물이 앞을 가리는 나의_이야기</td>\n",
       "      <td>[담시, 가족, 눈물, 그리움, 주인공, 나의_이야기, 사랑, 친구]</td>\n",
       "      <td>[(눈물, NNG), (의이야기, NNG)]</td>\n",
       "    </tr>\n",
       "    <tr>\n",
       "      <th>115069</th>\n",
       "      <td>퇴근 버스에서 편히 들으면서 하루를 마무리하기에 좋은 POP</td>\n",
       "      <td>[잔잔한, 버스, 퇴근버스, pop, 풍경, 퇴근길]</td>\n",
       "      <td>[(퇴근, NNG), (버스, NNG), (편히, MAG), (하루, NNG), (...</td>\n",
       "    </tr>\n",
       "    <tr>\n",
       "      <th>115070</th>\n",
       "      <td>FAVORITE POPSONG!!!</td>\n",
       "      <td>[노래추천, 팝송추천, 팝송, 팝송모음]</td>\n",
       "      <td>[(FAVORITE, SL), (POPSONG, SL)]</td>\n",
       "    </tr>\n",
       "  </tbody>\n",
       "</table>\n",
       "</div>"
      ],
      "text/plain": [
       "                                   plylst_title  ...                                         title2tags\n",
       "115021                    커피와 함께 밤에듣는 명품 보이스라떼.  ...    [(커피, NNG), (함께, MAG), (명품, NNG), (보이스라떼, NNG)]\n",
       "115022                           와닿는 가사들, 멜로디..  ...                            [(가사, NNG), (멜로디, NNG)]\n",
       "115023                     귀르가즘 느끼는 노래모음 이어폰 필수  ...    [(귀르가즘, NNG), (모음, NNG), (이어폰, NNG), (필수, NNG)]\n",
       "115024                 [매주 업데이트] 슈가맨 시즌3 슈가송 모음  ...  [(매주, MAG), (업데이트, NNG), (슈가맨, NNP), (시즌, NNG)...\n",
       "115025                      지친 당신에게 위로가 되어줄 노래들  ...                                        [(위로, NNG)]\n",
       "115026                 여유로운 연휴! 개성있는 감성 뮤직과 함께!  ...  [(여유, NNG), (연휴, NNG), (개성, NNG), (감성, NNG), (...\n",
       "115027                            따뜻한 봄을 알리는 음악  ...                                         [(따뜻, XR)]\n",
       "115028                       클럽에서 즐기는 진정한 즐거움!?  ...                  [(클럽, NNG), (진정, XR), (즐거움, NNG)]\n",
       "115029                             우울증 환자 Vol.4  ...                 [(우울증, NNG), (환자, NNG), (Vol, SL)]\n",
       "115030                        취향저격 나만의 팝송 GET!!  ...       [(취향, NNG), (저격, NNG), (팝송, NNG), (GET, SL)]\n",
       "115031                한 방울의 추억 (나의 아름다운 시절은...)  ...                  [(방울, NNG), (추억, NNG), (시절, NNG)]\n",
       "115032                          오마이걸 콘서트 '여름동화'  ...    [(오마이걸, NNP), (콘서트, NNG), (여름, NNG), (동화, NNG)]\n",
       "115033                             RomanticShow  ...                               [(RomanticShow, SL)]\n",
       "115034                         못 들어본 사람은 있어도 16  ...                              [(사람, NNG), (16, SN)]\n",
       "115035     사상 최대 규모의 Tomorrowland 2017이 기대되는 이유  ...  [(사상, NNG), (최대, NNG), (규모, NNG), (Tomorrowlan...\n",
       "115036               3년간 엄선한 EDM 클럽하우스 뮤직 top75  ...  [(엄선, NNG), (EDM, SL), (클럽하우스, NNG), (뮤직, NNG)...\n",
       "115037                         사랑하면 왠지 끌리는 노래？？  ...                             [(사랑, NNG), (왠지, MAG)]\n",
       "115038                             봄 봄 봄이왔어요~~~  ...                                                 []\n",
       "115039                       장르상관없이 본인이 좋아하는노래들  ...       [(장르, NNG), (상관, NNG), (없이, MAG), (본인, NNG)]\n",
       "115040                                섹시 분위기 힙합  ...                            [(분위기, NNG), (힙합, NNG)]\n",
       "115041                     상쾌한 아침과 드라이브, 신나는 노래  ...                 [(상쾌, XR), (아침, NNG), (드라이브, NNG)]\n",
       "115042                                  지선의 재발견  ...                             [(지선, NNG), (발견, NNG)]\n",
       "115043                         흥겨운 빅밴드의 재즈 사운드!  ...                            [(재즈, NNG), (사운드, NNG)]\n",
       "115044                                  행복빵빵뮤직   ...                  [(행복, NNG), (빵빵, NNG), (뮤직, NNG)]\n",
       "115045                                 2020년 1월  ...                                       [(2020, SN)]\n",
       "115046                     크리스마스&겨울에 생각나는 J-pop  ...                       [(크리스마스겨울, NNG), (Jpop, SL)]\n",
       "115047                          댄스그룹이 부른 감미로운 곡  ...                  [(댄스, NNG), (그룹, NNG), (감미, NNG)]\n",
       "115048                                    선아님아1  ...                                      [(선아님아, NNG)]\n",
       "115049                            첫눈처럼 설레였던 그날♥  ...                             [(첫눈, NNG), (그날, NNG)]\n",
       "115050                              힙합과 댄스가 만나면  ...                             [(힙합, NNG), (댄스, NNG)]\n",
       "115051                                   기타선율 팝  ...                             [(기타, NNG), (선율, NNG)]\n",
       "115052              추억의suppe:overture크로스over...  ...  [(추억, NNG), (suppeoverture, SL), (크로스, NNG), (...\n",
       "115053         4.일렉_ComeTogether!!!_custom.GOGR  ...                     [(ComeTogethercustomGOGR, SL)]\n",
       "115054                  들을수록 걸크러쉬 물씬 느껴지는 음악리스트  ...    [(걸크, NNG), (러쉬, NNP), (물씬, MAG), (음악리스트, NNG)]\n",
       "115055                                    12월1일  ...                                         [(12, SN)]\n",
       "115056                   Let's Groove 느낌있는 감성힙합  ...  [(Lets, SL), (Groove, SL), (느낌, NNG), (감성, NNG...\n",
       "115057                           오후의 어쿠스틱 vol.2  ...                [(오후, NNG), (어쿠스틱, NNG), (vol, SL)]\n",
       "115058                                  여자친구 명곡  ...                  [(여자, NNG), (친구, NNG), (명곡, NNG)]\n",
       "115059                              달달한 사탕같은 노래  ...                              [(달달, XR), (사탕, NNG)]\n",
       "115060  #기분업! 에너지필~ 사운드굿! 해외 EDM/일렉 선곡#2019년9월#  ...  [(기분업, NNG), (에너지필, NNG), (사운드굿, NNG), (해외, NN...\n",
       "115061                     카페에서 손님들이 궁금해하는노래^.^  ...                              [(카페, NNG), (궁금, XR)]\n",
       "115062      J pop처음 듣는 사람도 중독된 듯 빠져드는 j pop 리스트  ...  [(pop, SL), (처음, NNG), (사람, NNG), (중독, NNG), (...\n",
       "115063                 들으면 설레는 드라마 및 영화 삽입곡&OST  ...     [(드라마, NNG), (영화, NNG), (삽입곡, NNG), (OST, SL)]\n",
       "115064                    meltedmoon's tastes 1  ...                  [(meltedmoons, SL), (tastes, SL)]\n",
       "115065                                   남자고백노래  ...                                      [(남자고백, NNG)]\n",
       "115066                            METAL E'SM #2  ...                           [(METAL, SL), (ESM, SL)]\n",
       "115067           빠른 리스너를 위한 따끈따끈한 최신 인기 EDM 모음!  ...  [(리스너, NNG), (따끈따끈, MAG), (최신, NNG), (인기, NNG)...\n",
       "115068                    #1. 눈물이 앞을 가리는 나의_이야기  ...                           [(눈물, NNG), (의이야기, NNG)]\n",
       "115069        퇴근 버스에서 편히 들으면서 하루를 마무리하기에 좋은 POP  ...  [(퇴근, NNG), (버스, NNG), (편히, MAG), (하루, NNG), (...\n",
       "115070                      FAVORITE POPSONG!!!  ...                    [(FAVORITE, SL), (POPSONG, SL)]\n",
       "\n",
       "[50 rows x 3 columns]"
      ]
     },
     "execution_count": 77,
     "metadata": {
      "tags": []
     },
     "output_type": "execute_result"
    }
   ],
   "source": [
    "train[['plylst_title','tags','title2tags']].tail(50)"
   ]
  },
  {
   "cell_type": "code",
   "execution_count": null,
   "metadata": {
    "colab": {
     "base_uri": "https://localhost:8080/",
     "height": 52
    },
    "colab_type": "code",
    "id": "5EK_XGyGiYlP",
    "outputId": "3df91991-eaee-434d-899a-2cfce446e966"
   },
   "outputs": [
    {
     "name": "stderr",
     "output_type": "stream",
     "text": [
      "100%|██████████| 115071/115071 [00:55<00:00, 2064.90it/s]\n"
     ]
    },
    {
     "data": {
      "text/plain": [
       "0.12910328290574238"
      ]
     },
     "execution_count": 94,
     "metadata": {
      "tags": []
     },
     "output_type": "execute_result"
    }
   ],
   "source": [
    "sum_of_intersect = 0\n",
    "for i in tqdm(train.index):\n",
    "    tags = set(train.loc[i]['tags'])\n",
    "    tags_from_title = set(train.loc[i]['title2tags'])\n",
    "    sum_of_intersect += len(tags & tags_from_title) / len(tags)\n",
    "    # if tags & tags_from_title:\n",
    "    #     print(tags & tags_from_title)\n",
    "sum_of_intersect / len(train)"
   ]
  }
 ],
 "metadata": {
  "colab": {
   "collapsed_sections": [],
   "name": "preprocess_v2+v4_noSong+noBoth_byTitle.ipynb",
   "provenance": []
  },
  "kernelspec": {
   "display_name": "Python 3",
   "language": "python",
   "name": "python3"
  },
  "language_info": {
   "codemirror_mode": {
    "name": "ipython",
    "version": 3
   },
   "file_extension": ".py",
   "mimetype": "text/x-python",
   "name": "python",
   "nbconvert_exporter": "python",
   "pygments_lexer": "ipython3",
   "version": "3.7.7"
  }
 },
 "nbformat": 4,
 "nbformat_minor": 4
}
